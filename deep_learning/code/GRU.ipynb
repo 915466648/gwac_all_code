{
 "cells": [
  {
   "cell_type": "code",
   "execution_count": 1,
   "id": "a0fa5e6e",
   "metadata": {},
   "outputs": [
    {
     "name": "stderr",
     "output_type": "stream",
     "text": [
      "Using TensorFlow backend.\n"
     ]
    }
   ],
   "source": [
    "import numpy as np\n",
    "import tensorflow as tf\n",
    "import keras\n",
    "from keras.models import Sequential\n",
    "from keras.layers import Dense, Dropout\n",
    "from keras.layers import Embedding\n",
    "from keras.layers import GRU\n",
    "from timeit import default_timer as timer"
   ]
  },
  {
   "cell_type": "code",
   "execution_count": 2,
   "id": "2a85d736",
   "metadata": {},
   "outputs": [
    {
     "name": "stdout",
     "output_type": "stream",
     "text": [
      "2.2.4\n",
      "1.12.0\n"
     ]
    }
   ],
   "source": [
    "print(keras.__version__)\n",
    "print(tf.__version__)"
   ]
  },
  {
   "cell_type": "markdown",
   "id": "2414f429",
   "metadata": {},
   "source": [
    "#### 加载数据，打乱数据，切分数据，整理数据维度"
   ]
  },
  {
   "cell_type": "code",
   "execution_count": 3,
   "id": "0977b8d6",
   "metadata": {},
   "outputs": [
    {
     "name": "stdout",
     "output_type": "stream",
     "text": [
      "(38022, 30, 1)\n",
      "(38022, 1)\n"
     ]
    }
   ],
   "source": [
    "# 路径\n",
    "train_fn_0 = '../../dataset/train_0.csv'\n",
    "train_fn_1 = '../../dataset/train_1.csv'\n",
    "test_fn_0 = '../../dataset/test_0.csv'\n",
    "test_fn_1 = '../../dataset/test_1.csv'\n",
    "# 加载训练集\n",
    "train_0 = np.loadtxt(train_fn_0,dtype=np.float32,delimiter = ',',encoding='utf-8-sig')\n",
    "train_1 = np.loadtxt(train_fn_1,dtype=np.float32,delimiter = ',',encoding='utf-8-sig')\n",
    "train = np.concatenate((train_0,train_1),axis=0)\n",
    "np.random.shuffle(train)\n",
    "# 加载测试集\n",
    "test_0 = np.loadtxt(test_fn_0,dtype=np.float32,delimiter = ',',encoding='utf-8-sig')\n",
    "test_1 = np.loadtxt(test_fn_1,dtype=np.float32,delimiter = ',',encoding='utf-8-sig')\n",
    "test = np.concatenate((test_0, test_1), axis=0)\n",
    "np.random.shuffle(test)\n",
    "# 整理数据维度\n",
    "x_train = train[:,0:30][:,:,np.newaxis]\n",
    "x_test = test[:,0:30][:,:,np.newaxis]\n",
    "y_train = train[:,30][:,np.newaxis]\n",
    "y_test = test[:,30][:,np.newaxis]\n",
    "print(x_train.shape)\n",
    "print(y_train.shape)"
   ]
  },
  {
   "cell_type": "code",
   "execution_count": 4,
   "id": "fbdfb03f",
   "metadata": {
    "scrolled": true
   },
   "outputs": [
    {
     "name": "stdout",
     "output_type": "stream",
     "text": [
      "(9505, 30, 1)\n",
      "(9505, 1)\n"
     ]
    }
   ],
   "source": [
    "print(x_test.shape)\n",
    "print(y_test.shape)"
   ]
  },
  {
   "cell_type": "markdown",
   "id": "2c81316f",
   "metadata": {},
   "source": [
    "#### GRU"
   ]
  },
  {
   "cell_type": "code",
   "execution_count": 9,
   "id": "95fe9ce6",
   "metadata": {
    "scrolled": false
   },
   "outputs": [
    {
     "name": "stdout",
     "output_type": "stream",
     "text": [
      "_________________________________________________________________\n",
      "Layer (type)                 Output Shape              Param #   \n",
      "=================================================================\n",
      "gru_3 (GRU)                  (None, 30, 64)            12672     \n",
      "_________________________________________________________________\n",
      "dropout_3 (Dropout)          (None, 30, 64)            0         \n",
      "_________________________________________________________________\n",
      "gru_4 (GRU)                  (None, 30, 32)            9312      \n",
      "_________________________________________________________________\n",
      "dropout_4 (Dropout)          (None, 30, 32)            0         \n",
      "_________________________________________________________________\n",
      "gru_5 (GRU)                  (None, 16)                2352      \n",
      "_________________________________________________________________\n",
      "dense_2 (Dense)              (None, 1)                 17        \n",
      "=================================================================\n",
      "Total params: 24,353\n",
      "Trainable params: 24,353\n",
      "Non-trainable params: 0\n",
      "_________________________________________________________________\n",
      "Train on 26615 samples, validate on 11407 samples\n",
      "Epoch 1/10\n",
      "26615/26615 [==============================] - 9s 349us/step - loss: 0.5278 - acc: 0.7235 - val_loss: 0.4007 - val_acc: 0.7217\n",
      "Epoch 2/10\n",
      "26615/26615 [==============================] - 8s 286us/step - loss: 0.3866 - acc: 0.7395 - val_loss: 0.3682 - val_acc: 0.8042\n",
      "Epoch 3/10\n",
      "26615/26615 [==============================] - 8s 286us/step - loss: 0.3486 - acc: 0.8358 - val_loss: 0.2809 - val_acc: 0.8865\n",
      "Epoch 4/10\n",
      "26615/26615 [==============================] - 8s 289us/step - loss: 0.2210 - acc: 0.9101 - val_loss: 0.1304 - val_acc: 0.9461\n",
      "Epoch 5/10\n",
      "26615/26615 [==============================] - 8s 291us/step - loss: 0.1237 - acc: 0.9507 - val_loss: 0.0947 - val_acc: 0.9654\n",
      "Epoch 6/10\n",
      "26615/26615 [==============================] - 8s 287us/step - loss: 0.1051 - acc: 0.9608 - val_loss: 0.1032 - val_acc: 0.9600\n",
      "Epoch 7/10\n",
      "26615/26615 [==============================] - 8s 289us/step - loss: 0.0947 - acc: 0.9638 - val_loss: 0.0911 - val_acc: 0.9653\n",
      "Epoch 8/10\n",
      "26615/26615 [==============================] - 8s 285us/step - loss: 0.0968 - acc: 0.9626 - val_loss: 0.1001 - val_acc: 0.9564\n",
      "Epoch 9/10\n",
      "26615/26615 [==============================] - 8s 288us/step - loss: 0.0841 - acc: 0.9679 - val_loss: 0.0703 - val_acc: 0.9730\n",
      "Epoch 10/10\n",
      "26615/26615 [==============================] - 8s 287us/step - loss: 0.0781 - acc: 0.9707 - val_loss: 0.0614 - val_acc: 0.9775\n",
      "train_time 7.975856592506171\n",
      "9505/9505 [==============================] - 1s 74us/step\n",
      "[0.05417844033880901, 0.9817990529543472]\n"
     ]
    }
   ],
   "source": [
    "GRU_model = Sequential()\n",
    "GRU_model.add(GRU(units=64, activation='relu', return_sequences=True, input_shape=(30, 1)))\n",
    "GRU_model.add(Dropout(0.2))\n",
    "GRU_model.add(GRU(units=32, activation='relu', return_sequences=True))\n",
    "GRU_model.add(Dropout(0.2))\n",
    "GRU_model.add(GRU(units=16, activation='relu', return_sequences=False))\n",
    "GRU_model.add(Dense(1, activation='sigmoid'))\n",
    "\n",
    "GRU_model.compile(loss='binary_crossentropy', optimizer='adam', metrics=['accuracy'])\n",
    "GRU_model.summary()\n",
    "start_time = timer()\n",
    "GRU_model.fit(x_train, y_train, validation_split=0.3,batch_size=512, epochs=10)\n",
    "current_time = timer()\n",
    "print(\"train_time\",(current_time-start_time)/10)\n",
    "\n",
    "score = GRU_model.evaluate(x_test, y_test, batch_size=512)\n",
    "print(score)"
   ]
  },
  {
   "cell_type": "code",
   "execution_count": 10,
   "id": "adabc1ec",
   "metadata": {},
   "outputs": [
    {
     "name": "stdout",
     "output_type": "stream",
     "text": [
      "              precision    recall  f1-score   support\n",
      "\n",
      "         0.0     0.9909    0.9838    0.9874      6872\n",
      "         1.0     0.9586    0.9765    0.9675      2633\n",
      "\n",
      "   micro avg     0.9818    0.9818    0.9818      9505\n",
      "   macro avg     0.9748    0.9802    0.9774      9505\n",
      "weighted avg     0.9820    0.9818    0.9819      9505\n",
      "\n"
     ]
    }
   ],
   "source": [
    "from sklearn.metrics import classification_report\n",
    "gru_y_pred=GRU_model.predict(x_test, batch_size=512)\n",
    "print(classification_report(y_test, gru_y_pred.round(),digits=4))"
   ]
  },
  {
   "cell_type": "code",
   "execution_count": 11,
   "id": "85e19c1c",
   "metadata": {
    "scrolled": true
   },
   "outputs": [
    {
     "name": "stdout",
     "output_type": "stream",
     "text": [
      "0.7344348430633545\n",
      "0.6896342635154724\n",
      "0.7183783799409866\n",
      "0.6988086923956871\n",
      "0.7291321158409119\n",
      "0.714407280087471\n",
      "0.713363341987133\n",
      "0.7017052546143532\n",
      "0.705484427511692\n",
      "0.7048412039875984\n",
      "[0.7344348430633545, 0.6896342635154724, 0.7183783799409866, 0.6988086923956871, 0.7291321158409119, 0.714407280087471, 0.713363341987133, 0.7017052546143532, 0.705484427511692, 0.7048412039875984]\n",
      "0.711018980294466\n"
     ]
    }
   ],
   "source": [
    "# 计算模型预测时间\n",
    "test_time_gru = []\n",
    "for i in range(10):\n",
    "    start_time = timer()\n",
    "    GRU_model.predict(x_test, batch_size=500)\n",
    "    current_time = timer()\n",
    "    test_time_gru.append(current_time-start_time)\n",
    "    print(current_time-start_time)\n",
    "    i = i+1\n",
    "print(test_time_gru)\n",
    "print(np.mean(test_time_gru))"
   ]
  }
 ],
 "metadata": {
  "kernelspec": {
   "display_name": "tensorflow1.12",
   "language": "python",
   "name": "tensorflow1.12"
  },
  "language_info": {
   "codemirror_mode": {
    "name": "ipython",
    "version": 3
   },
   "file_extension": ".py",
   "mimetype": "text/x-python",
   "name": "python",
   "nbconvert_exporter": "python",
   "pygments_lexer": "ipython3",
   "version": "3.6.2"
  }
 },
 "nbformat": 4,
 "nbformat_minor": 5
}
