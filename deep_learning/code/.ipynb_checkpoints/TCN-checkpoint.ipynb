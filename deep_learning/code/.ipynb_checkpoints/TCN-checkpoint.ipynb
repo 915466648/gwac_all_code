{
 "cells": [
  {
   "cell_type": "code",
   "execution_count": 1,
   "id": "2c260ee6",
   "metadata": {},
   "outputs": [
    {
     "name": "stderr",
     "output_type": "stream",
     "text": [
      "Using TensorFlow backend.\n"
     ]
    }
   ],
   "source": [
    "import numpy as np\n",
    "import tensorflow as tf\n",
    "import keras\n",
    "from keras.models import Model\n",
    "from keras.layers import add,Input,Conv1D,Activation,Flatten,Dense\n",
    "from sklearn.metrics import classification_report\n",
    "from timeit import default_timer as timer"
   ]
  },
  {
   "cell_type": "code",
   "execution_count": 2,
   "id": "9f3efaa5",
   "metadata": {},
   "outputs": [
    {
     "name": "stdout",
     "output_type": "stream",
     "text": [
      "2.2.4\n",
      "1.12.0\n"
     ]
    }
   ],
   "source": [
    "print(keras.__version__)\n",
    "print(tf.__version__)"
   ]
  },
  {
   "cell_type": "code",
   "execution_count": 3,
   "id": "50d7c0d9",
   "metadata": {},
   "outputs": [],
   "source": [
    "# 加载数据集\n",
    "def loaddata(): \n",
    "    train_fn_0 = '../../dataset/train_0.csv'\n",
    "    train_fn_1 = '../../dataset/train_1.csv'\n",
    "    test_fn_0 = '../../dataset/test_0.csv'\n",
    "    test_fn_1 = '../../dataset/test_1.csv'\n",
    "    # 加载训练集\n",
    "    train_0 = np.loadtxt(train_fn_0,dtype=np.float32,delimiter = ',',encoding='utf-8-sig')\n",
    "    train_1 = np.loadtxt(train_fn_1,dtype=np.float32,delimiter = ',',encoding='utf-8-sig')\n",
    "    train = np.concatenate((train_0,train_1),axis=0)\n",
    "    np.random.shuffle(train)\n",
    "    # 加载测试集\n",
    "    test_0 = np.loadtxt(test_fn_0,dtype=np.float32,delimiter = ',',encoding='utf-8-sig')\n",
    "    test_1 = np.loadtxt(test_fn_1,dtype=np.float32,delimiter = ',',encoding='utf-8-sig')\n",
    "    test = np.concatenate((test_0, test_1), axis=0)\n",
    "    np.random.shuffle(test)\n",
    "    # 整理数据维度\n",
    "    x_train = train[:,0:30][:,:,np.newaxis]\n",
    "    x_test = test[:,0:30][:,:,np.newaxis]\n",
    "    y_train = train[:,30].astype(np.int)\n",
    "    y_train = np.eye(2)[y_train]\n",
    "    y_test = test[:,30].astype(np.int)\n",
    "    y_test = np.eye(2)[y_test]\n",
    "    print(x_train.shape)\n",
    "    print(y_train.shape)\n",
    "    return x_train,y_train,x_test,y_test"
   ]
  },
  {
   "cell_type": "code",
   "execution_count": 4,
   "id": "1bef24fd",
   "metadata": {},
   "outputs": [
    {
     "name": "stdout",
     "output_type": "stream",
     "text": [
      "__________________________________________________________________________________________________\n",
      "Layer (type)                    Output Shape         Param #     Connected to                     \n",
      "==================================================================================================\n",
      "input_1 (InputLayer)            (None, 30, 1)        0                                            \n",
      "__________________________________________________________________________________________________\n",
      "conv1d_1 (Conv1D)               (None, 30, 32)       128         input_1[0][0]                    \n",
      "__________________________________________________________________________________________________\n",
      "conv1d_2 (Conv1D)               (None, 30, 32)       3104        conv1d_1[0][0]                   \n",
      "__________________________________________________________________________________________________\n",
      "conv1d_3 (Conv1D)               (None, 30, 32)       128         input_1[0][0]                    \n",
      "__________________________________________________________________________________________________\n",
      "add_1 (Add)                     (None, 30, 32)       0           conv1d_2[0][0]                   \n",
      "                                                                 conv1d_3[0][0]                   \n",
      "__________________________________________________________________________________________________\n",
      "activation_1 (Activation)       (None, 30, 32)       0           add_1[0][0]                      \n",
      "__________________________________________________________________________________________________\n",
      "conv1d_4 (Conv1D)               (None, 30, 32)       3104        activation_1[0][0]               \n",
      "__________________________________________________________________________________________________\n",
      "conv1d_5 (Conv1D)               (None, 30, 32)       3104        conv1d_4[0][0]                   \n",
      "__________________________________________________________________________________________________\n",
      "add_2 (Add)                     (None, 30, 32)       0           conv1d_5[0][0]                   \n",
      "                                                                 activation_1[0][0]               \n",
      "__________________________________________________________________________________________________\n",
      "activation_2 (Activation)       (None, 30, 32)       0           add_2[0][0]                      \n",
      "__________________________________________________________________________________________________\n",
      "conv1d_6 (Conv1D)               (None, 30, 16)       1552        activation_2[0][0]               \n",
      "__________________________________________________________________________________________________\n",
      "conv1d_7 (Conv1D)               (None, 30, 16)       784         conv1d_6[0][0]                   \n",
      "__________________________________________________________________________________________________\n",
      "conv1d_8 (Conv1D)               (None, 30, 16)       1552        activation_2[0][0]               \n",
      "__________________________________________________________________________________________________\n",
      "add_3 (Add)                     (None, 30, 16)       0           conv1d_7[0][0]                   \n",
      "                                                                 conv1d_8[0][0]                   \n",
      "__________________________________________________________________________________________________\n",
      "activation_3 (Activation)       (None, 30, 16)       0           add_3[0][0]                      \n",
      "__________________________________________________________________________________________________\n",
      "flatten_1 (Flatten)             (None, 480)          0           activation_3[0][0]               \n",
      "__________________________________________________________________________________________________\n",
      "dense_1 (Dense)                 (None, 2)            962         flatten_1[0][0]                  \n",
      "==================================================================================================\n",
      "Total params: 14,418\n",
      "Trainable params: 14,418\n",
      "Non-trainable params: 0\n",
      "__________________________________________________________________________________________________\n",
      "(38022, 30, 1)\n",
      "(38022, 2)\n",
      "Train on 26615 samples, validate on 11407 samples\n",
      "Epoch 1/10\n",
      "26615/26615 [==============================] - 3s 98us/step - loss: 0.2878 - acc: 0.8625 - val_loss: 0.1602 - val_acc: 0.9257\n",
      "Epoch 2/10\n",
      "26615/26615 [==============================] - 2s 74us/step - loss: 0.1078 - acc: 0.9624 - val_loss: 0.0772 - val_acc: 0.9719\n",
      "Epoch 3/10\n",
      "26615/26615 [==============================] - 2s 75us/step - loss: 0.0717 - acc: 0.9760 - val_loss: 0.0655 - val_acc: 0.9775\n",
      "Epoch 4/10\n",
      "26615/26615 [==============================] - 2s 75us/step - loss: 0.0626 - acc: 0.9790 - val_loss: 0.0550 - val_acc: 0.9833\n",
      "Epoch 5/10\n",
      "26615/26615 [==============================] - 2s 75us/step - loss: 0.0525 - acc: 0.9836 - val_loss: 0.0472 - val_acc: 0.9860\n",
      "Epoch 6/10\n",
      "26615/26615 [==============================] - 2s 76us/step - loss: 0.0464 - acc: 0.9855 - val_loss: 0.0422 - val_acc: 0.9874\n",
      "Epoch 7/10\n",
      "26615/26615 [==============================] - 2s 74us/step - loss: 0.0402 - acc: 0.9878 - val_loss: 0.0479 - val_acc: 0.9844\n",
      "Epoch 8/10\n",
      "26615/26615 [==============================] - 2s 74us/step - loss: 0.0367 - acc: 0.9886 - val_loss: 0.0419 - val_acc: 0.9869\n",
      "Epoch 9/10\n",
      "26615/26615 [==============================] - 2s 74us/step - loss: 0.0318 - acc: 0.9907 - val_loss: 0.0316 - val_acc: 0.9911\n",
      "Epoch 10/10\n",
      "26615/26615 [==============================] - 2s 75us/step - loss: 0.0278 - acc: 0.9925 - val_loss: 0.0276 - val_acc: 0.9923\n",
      "train_time 2.118867551535368\n"
     ]
    }
   ],
   "source": [
    "\n",
    "#残差块\n",
    "def ResBlock(x,filters,kernel_size,dilation_rate):\n",
    "    r=Conv1D(filters,kernel_size,padding='same',dilation_rate=dilation_rate,activation='relu')(x) #第一卷积\n",
    "    r=Conv1D(filters,kernel_size,padding='same',dilation_rate=dilation_rate)(r) #第二卷积\n",
    "    if x.shape[-1]==filters:\n",
    "        shortcut=x\n",
    "    else:\n",
    "        shortcut=Conv1D(filters,kernel_size,padding='same')(x)  #shortcut（捷径）\n",
    "    o=add([r,shortcut])\n",
    "    o=Activation('relu')(o)  #激活函数\n",
    "    return o\n",
    "\n",
    "\n",
    "## 定义TCN模型结构\n",
    "inputs=Input(shape=(30,1))\n",
    "x=ResBlock(inputs,filters=32,kernel_size=3,dilation_rate=1)\n",
    "x=ResBlock(x,filters=32,kernel_size=3,dilation_rate=2)\n",
    "x=ResBlock(x,filters=16,kernel_size=3,dilation_rate=4)\n",
    "x=Flatten()(x)\n",
    "x=Dense(2,activation='softmax')(x)\n",
    "model=Model(inputs=inputs,outputs=x)\n",
    "#查看网络结构\n",
    "model.summary()\n",
    "#编译模型\n",
    "model.compile(optimizer='adam',loss='binary_crossentropy',metrics=['accuracy'])\n",
    "\n",
    "\n",
    "#训练模型\n",
    "train_x,train_y,test_x,test_y=loaddata()\n",
    "start_time = timer()\n",
    "model.fit(train_x,train_y,validation_split=0.3,batch_size=512,epochs=10)\n",
    "current_time = timer()\n",
    "print(\"train_time\",(current_time-start_time)/10)"
   ]
  },
  {
   "cell_type": "code",
   "execution_count": 5,
   "id": "8f89e5ec",
   "metadata": {},
   "outputs": [
    {
     "name": "stdout",
     "output_type": "stream",
     "text": [
      "test_loss: 0.02020154634075654 - test_acc: 0.9952656573085393\n",
      "              precision    recall  f1-score   support\n",
      "\n",
      "           0     0.9972    0.9962    0.9967      6872\n",
      "           1     0.9902    0.9928    0.9915      2633\n",
      "\n",
      "   micro avg     0.9953    0.9953    0.9953      9505\n",
      "   macro avg     0.9937    0.9945    0.9941      9505\n",
      "weighted avg     0.9953    0.9953    0.9953      9505\n",
      " samples avg     0.9953    0.9953    0.9953      9505\n",
      "\n"
     ]
    }
   ],
   "source": [
    "#评估模型\n",
    "pre=model.evaluate(test_x,test_y,batch_size=500,verbose=2)\n",
    "print('test_loss:',pre[0],'- test_acc:',pre[1])\n",
    "\n",
    "TCN_y_pred=model.predict(test_x, batch_size=500)\n",
    "print(classification_report(test_y, TCN_y_pred.round(),digits=4))"
   ]
  },
  {
   "cell_type": "code",
   "execution_count": 6,
   "id": "ba7730f6",
   "metadata": {},
   "outputs": [
    {
     "name": "stdout",
     "output_type": "stream",
     "text": [
      "0.1914812996983528\n",
      "0.19755114614963531\n",
      "0.18789485096931458\n",
      "0.18808511644601822\n",
      "0.18701016902923584\n",
      "0.19002239406108856\n",
      "0.1876537799835205\n",
      "0.1960877925157547\n",
      "0.1879209205508232\n",
      "0.1910695657134056\n",
      "[0.1914812996983528, 0.19755114614963531, 0.18789485096931458, 0.18808511644601822, 0.18701016902923584, 0.19002239406108856, 0.1876537799835205, 0.1960877925157547, 0.1879209205508232, 0.1910695657134056]\n",
      "0.19047770351171495\n"
     ]
    }
   ],
   "source": [
    "# 测试10次的运行时间\n",
    "test_time_tcn = []\n",
    "for i in range(10):\n",
    "    start_time = timer()\n",
    "    model.predict(test_x, batch_size=500)\n",
    "    current_time = timer()\n",
    "    test_time_tcn.append(current_time-start_time)\n",
    "    print(current_time-start_time)\n",
    "    i = i+1\n",
    "print(test_time_tcn)\n",
    "print(np.mean(test_time_tcn))"
   ]
  }
 ],
 "metadata": {
  "kernelspec": {
   "display_name": "tensorflow1.12",
   "language": "python",
   "name": "tensorflow1.12"
  },
  "language_info": {
   "codemirror_mode": {
    "name": "ipython",
    "version": 3
   },
   "file_extension": ".py",
   "mimetype": "text/x-python",
   "name": "python",
   "nbconvert_exporter": "python",
   "pygments_lexer": "ipython3",
   "version": "3.6.2"
  }
 },
 "nbformat": 4,
 "nbformat_minor": 5
}
