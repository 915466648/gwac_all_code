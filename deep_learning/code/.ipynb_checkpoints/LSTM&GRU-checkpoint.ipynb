{
 "cells": [
  {
   "cell_type": "markdown",
   "metadata": {},
   "source": [
    "https://www.cnblogs.com/wj-1314/p/9579490.html\n",
    "\n",
    "https://keras-cn.readthedocs.io/en/latest/getting_started/sequential_model/\n",
    "\n",
    "https://keras.io/api/layers/recurrent_layers/lstm/\n",
    "\n",
    "inputs: A 3D tensor with shape [batch, timesteps, feature]."
   ]
  },
  {
   "cell_type": "code",
   "execution_count": 1,
   "metadata": {},
   "outputs": [],
   "source": [
    "import numpy as np\n",
    "import tensorflow as tf\n",
    "from keras.models import Sequential\n",
    "from keras.layers import Dense, Dropout\n",
    "from keras.layers import Embedding\n",
    "from keras.layers import LSTM"
   ]
  },
  {
   "cell_type": "code",
   "execution_count": 2,
   "metadata": {},
   "outputs": [],
   "source": [
    "def reshapeToTensor(x):\n",
    "    new_data = []\n",
    "    for row in x:\n",
    "        new_row = row.reshape(30, 1)\n",
    "        # new_row = np.split(row, N_TIMESTAMPS)\n",
    "        new_data.append(np.array(new_row))\n",
    "    return np.array(new_data)"
   ]
  },
  {
   "cell_type": "markdown",
   "metadata": {},
   "source": [
    "#### 加载数据，打乱数据，切分数据，整理数据维度"
   ]
  },
  {
   "cell_type": "code",
   "execution_count": 3,
   "metadata": {},
   "outputs": [
    {
     "name": "stdout",
     "output_type": "stream",
     "text": [
      "(30417, 30, 1)\n"
     ]
    }
   ],
   "source": [
    "# 路径\n",
    "train_fn_0 = '../../dataset/train_0.csv'\n",
    "train_fn_1 = '../../dataset/train_1.csv'\n",
    "test_fn_0 = '../../dataset/test_0.csv'\n",
    "test_fn_1 = '../../dataset/test_1.csv'\n",
    "# 加载训练集\n",
    "x_train_0 = np.loadtxt(train_fn_0,dtype=np.float32,delimiter = ',',encoding='utf-8-sig')\n",
    "x_train_1 = np.loadtxt(train_fn_1,dtype=np.float32,delimiter = ',',encoding='utf-8-sig')\n",
    "X_train = np.concatenate((x_train_0,x_train_1),axis=0)\n",
    "np.random.shuffle(X_train)\n",
    "# 加载测试集\n",
    "x_test_0 = np.loadtxt(test_fn_0,dtype=np.float32,delimiter = ',',encoding='utf-8-sig')\n",
    "x_test_1 = np.loadtxt(test_fn_1,dtype=np.float32,delimiter = ',',encoding='utf-8-sig')\n",
    "X_test = np.concatenate((x_test_0, x_test_1), axis=0)\n",
    "np.random.shuffle(X_test)\n",
    "\n",
    "## 训练集和验证集的比例为4:1.将数据转化为tensor\n",
    "x_train = reshapeToTensor(X_train)\n",
    "x_test = reshapeToTensor(X_test[:,0:30])\n",
    "\n",
    "print(x_train.shape)\n",
    "print(y_train.shape)\n",
    "# 处理训练集、验证集、测试集的y label\n",
    "y_train = X_train[:,np.newaxis]\n",
    "y_test = X_test[:,30][:,np.newaxis]\n",
    "# y_train = X_train[0:30417,30].astype(np.int)\n",
    "# y_train = np.eye(2)[y_train]\n",
    "# print(y_train.shape)\n",
    "\n",
    "# y_validation = X_train[30417:,30].astype(np.int)\n",
    "# y_validation = np.eye(2)[y_validation]\n",
    "\n",
    "# y_test = X_test[:,30].astype(np.int)\n",
    "# y_test = np.eye(2)[y_test]\n"
   ]
  },
  {
   "cell_type": "markdown",
   "metadata": {},
   "source": [
    "#### LSTM "
   ]
  },
  {
   "cell_type": "code",
   "execution_count": null,
   "metadata": {
    "scrolled": true
   },
   "outputs": [
    {
     "name": "stdout",
     "output_type": "stream",
     "text": [
      "Model: \"sequential_1\"\n",
      "_________________________________________________________________\n",
      "Layer (type)                 Output Shape              Param #   \n",
      "=================================================================\n",
      "lstm_1 (LSTM)                (None, 64)                16896     \n",
      "_________________________________________________________________\n",
      "dropout_1 (Dropout)          (None, 64)                0         \n",
      "_________________________________________________________________\n",
      "dense_1 (Dense)              (None, 1)                 65        \n",
      "=================================================================\n",
      "Total params: 16,961\n",
      "Trainable params: 16,961\n",
      "Non-trainable params: 0\n",
      "_________________________________________________________________\n",
      "Epoch 1/10\n",
      "43/43 [==============================] - 6s 132ms/step - loss: 0.5899 - accuracy: 0.6920 - val_loss: 0.4819 - val_accuracy: 0.7149\n",
      "Epoch 2/10\n",
      "43/43 [==============================] - 5s 118ms/step - loss: 0.4080 - accuracy: 0.7575 - val_loss: 0.3673 - val_accuracy: 0.8589\n",
      "Epoch 3/10\n",
      "43/43 [==============================] - 5s 121ms/step - loss: 0.3183 - accuracy: 0.8691 - val_loss: 0.2861 - val_accuracy: 0.8755\n",
      "Epoch 4/10\n",
      "43/43 [==============================] - 5s 117ms/step - loss: 0.2627 - accuracy: 0.9010 - val_loss: 0.2641 - val_accuracy: 0.8993\n",
      "Epoch 5/10\n",
      "43/43 [==============================] - 5s 107ms/step - loss: 0.2151 - accuracy: 0.9145 - val_loss: 0.1884 - val_accuracy: 0.9196\n",
      "Epoch 6/10\n",
      "43/43 [==============================] - 5s 120ms/step - loss: 0.1806 - accuracy: 0.9247 - val_loss: 0.1692 - val_accuracy: 0.9283\n",
      "Epoch 7/10\n",
      "43/43 [==============================] - 5s 112ms/step - loss: 0.1977 - accuracy: 0.9186 - val_loss: 0.1940 - val_accuracy: 0.9116\n",
      "Epoch 8/10\n",
      "43/43 [==============================] - 5s 117ms/step - loss: 0.1661 - accuracy: 0.9293 - val_loss: 0.1420 - val_accuracy: 0.9373\n",
      "Epoch 9/10\n",
      "21/43 [=============>................] - ETA: 1s - loss: 0.1350 - accuracy: 0.9446"
     ]
    }
   ],
   "source": [
    "model = Sequential()\n",
    "model.add(LSTM(units=64, activation='relu', return_sequences=False, input_shape=(30, 1)))\n",
    "model.add(Dropout(0.2))\n",
    "# model.add(LSTM(units=32, activation='relu', return_sequences=False))\n",
    "# model.add(Dropout(0.2))\n",
    "model.add(Dense(1, activation='sigmoid'))\n",
    "\n",
    "model.compile(loss='binary_crossentropy', optimizer='adam', metrics=['accuracy'])\n",
    "model.summary()\n",
    "\n",
    "model.fit(x_train, y_train,validation_split=0.3,batch_size=500, epochs=10)\n",
    "score = model.evaluate(x_test, y_test, batch_size=500)"
   ]
  },
  {
   "cell_type": "code",
   "execution_count": 8,
   "metadata": {},
   "outputs": [
    {
     "name": "stdout",
     "output_type": "stream",
     "text": [
      "              precision    recall  f1-score   support\n",
      "\n",
      "         0.0     0.9883    0.9485    0.9680      6872\n",
      "         1.0     0.8784    0.9708    0.9222      2633\n",
      "\n",
      "    accuracy                         0.9547      9505\n",
      "   macro avg     0.9333    0.9596    0.9451      9505\n",
      "weighted avg     0.9579    0.9547    0.9553      9505\n",
      "\n"
     ]
    }
   ],
   "source": [
    "from sklearn.metrics import classification_report\n",
    "y_pred=model.predict(x_test, batch_size=500)\n",
    "print(classification_report(y_test, y_pred.round(),digits=4))"
   ]
  },
  {
   "cell_type": "code",
   "execution_count": 16,
   "metadata": {},
   "outputs": [],
   "source": [
    "from keras.layers import GRU"
   ]
  },
  {
   "cell_type": "code",
   "execution_count": 17,
   "metadata": {
    "scrolled": true
   },
   "outputs": [
    {
     "name": "stdout",
     "output_type": "stream",
     "text": [
      "Model: \"sequential_8\"\n",
      "_________________________________________________________________\n",
      "Layer (type)                 Output Shape              Param #   \n",
      "=================================================================\n",
      "gru (GRU)                    (None, 30, 64)            12864     \n",
      "_________________________________________________________________\n",
      "dropout_7 (Dropout)          (None, 30, 64)            0         \n",
      "_________________________________________________________________\n",
      "gru_1 (GRU)                  (None, 32)                9408      \n",
      "_________________________________________________________________\n",
      "dropout_8 (Dropout)          (None, 32)                0         \n",
      "_________________________________________________________________\n",
      "dense_5 (Dense)              (None, 1)                 33        \n",
      "=================================================================\n",
      "Total params: 22,305\n",
      "Trainable params: 22,305\n",
      "Non-trainable params: 0\n",
      "_________________________________________________________________\n",
      "Epoch 1/10\n",
      "61/61 [==============================] - 6s 99ms/step - loss: 0.5571 - accuracy: 0.7139\n",
      "Epoch 2/10\n",
      "61/61 [==============================] - 6s 95ms/step - loss: 0.3928 - accuracy: 0.7505\n",
      "Epoch 3/10\n",
      "61/61 [==============================] - 6s 97ms/step - loss: 0.3435 - accuracy: 0.8458\n",
      "Epoch 4/10\n",
      "61/61 [==============================] - 6s 96ms/step - loss: 0.2172 - accuracy: 0.9089\n",
      "Epoch 5/10\n",
      "61/61 [==============================] - 6s 94ms/step - loss: 0.1226 - accuracy: 0.9513\n",
      "Epoch 6/10\n",
      "61/61 [==============================] - 6s 95ms/step - loss: 0.1037 - accuracy: 0.9610\n",
      "Epoch 7/10\n",
      "61/61 [==============================] - 6s 94ms/step - loss: 0.0922 - accuracy: 0.9657\n",
      "Epoch 8/10\n",
      "61/61 [==============================] - 6s 96ms/step - loss: 0.0897 - accuracy: 0.9671\n",
      "Epoch 9/10\n",
      "61/61 [==============================] - 6s 96ms/step - loss: 0.0840 - accuracy: 0.9688\n",
      "Epoch 10/10\n",
      "61/61 [==============================] - 6s 98ms/step - loss: 0.0802 - accuracy: 0.9712\n",
      "20/20 [==============================] - 1s 28ms/step - loss: 0.0597 - accuracy: 0.9792\n"
     ]
    }
   ],
   "source": [
    "GRU_model = Sequential()\n",
    "GRU_model.add(GRU(units=64, activation='relu', return_sequences=True, input_shape=(30, 1)))\n",
    "GRU_model.add(Dropout(0.2))\n",
    "GRU_model.add(GRU(units=32, activation='relu', return_sequences=False))\n",
    "GRU_model.add(Dropout(0.2))\n",
    "GRU_model.add(Dense(1, activation='sigmoid'))\n",
    "\n",
    "GRU_model.compile(loss='binary_crossentropy', optimizer='adam', metrics=['accuracy'])\n",
    "GRU_model.summary()\n",
    "\n",
    "GRU_model.fit(x_train, y_train, validation_split=0.3,batch_size=500, epochs=10)\n",
    "score = GRU_model.evaluate(x_test, y_test, batch_size=500)"
   ]
  },
  {
   "cell_type": "code",
   "execution_count": 18,
   "metadata": {},
   "outputs": [],
   "source": [
    "from keras.layers import Bidirectional"
   ]
  },
  {
   "cell_type": "code",
   "execution_count": 20,
   "metadata": {},
   "outputs": [
    {
     "name": "stdout",
     "output_type": "stream",
     "text": [
      "Model: \"sequential_10\"\n",
      "_________________________________________________________________\n",
      "Layer (type)                 Output Shape              Param #   \n",
      "=================================================================\n",
      "bidirectional_1 (Bidirection (None, 128)               25728     \n",
      "_________________________________________________________________\n",
      "dropout_10 (Dropout)         (None, 128)               0         \n",
      "_________________________________________________________________\n",
      "dense_7 (Dense)              (None, 1)                 129       \n",
      "=================================================================\n",
      "Total params: 25,857\n",
      "Trainable params: 25,857\n",
      "Non-trainable params: 0\n",
      "_________________________________________________________________\n",
      "Epoch 1/10\n",
      "61/61 [==============================] - 6s 97ms/step - loss: 0.4518 - accuracy: 0.7774\n",
      "Epoch 2/10\n",
      "61/61 [==============================] - 6s 98ms/step - loss: 0.2474 - accuracy: 0.9028\n",
      "Epoch 3/10\n",
      "61/61 [==============================] - 6s 99ms/step - loss: 0.2094 - accuracy: 0.9133\n",
      "Epoch 4/10\n",
      "61/61 [==============================] - 6s 97ms/step - loss: 0.1790 - accuracy: 0.9264\n",
      "Epoch 5/10\n",
      "61/61 [==============================] - 6s 98ms/step - loss: 0.1487 - accuracy: 0.9407\n",
      "Epoch 6/10\n",
      "61/61 [==============================] - 6s 98ms/step - loss: 0.1193 - accuracy: 0.9557\n",
      "Epoch 7/10\n",
      "61/61 [==============================] - 6s 100ms/step - loss: 0.1018 - accuracy: 0.9640\n",
      "Epoch 8/10\n",
      "61/61 [==============================] - 6s 100ms/step - loss: 0.0886 - accuracy: 0.9701\n",
      "Epoch 9/10\n",
      "61/61 [==============================] - 6s 98ms/step - loss: 0.0854 - accuracy: 0.9717\n",
      "Epoch 10/10\n",
      "61/61 [==============================] - 6s 96ms/step - loss: 0.0810 - accuracy: 0.9721\n",
      "20/20 [==============================] - 1s 33ms/step - loss: 0.0637 - accuracy: 0.9821\n"
     ]
    }
   ],
   "source": [
    "BiGRU_model = Sequential()\n",
    "BiGRU_model.add(Bidirectional(GRU(64), input_shape=(30, 1)))\n",
    "BiGRU_model.add(Dropout(0.2))\n",
    "BiGRU_model.add(Dense(1, activation='sigmoid'))\n",
    "BiGRU_model.compile(loss='binary_crossentropy', optimizer='adam', metrics=['accuracy'])\n",
    "BiGRU_model.compile(loss='binary_crossentropy', optimizer='adam', metrics=['accuracy'])\n",
    "BiGRU_model.summary()\n",
    "\n",
    "BiGRU_model.fit(x_train, y_train, batch_size=500, epochs=10)\n",
    "score = BiGRU_model.evaluate(x_test, y_test, batch_size=500)"
   ]
  }
 ],
 "metadata": {
  "kernelspec": {
   "display_name": "tensorflowCPU",
   "language": "python",
   "name": "tensorflowcpu"
  },
  "language_info": {
   "codemirror_mode": {
    "name": "ipython",
    "version": 3
   },
   "file_extension": ".py",
   "mimetype": "text/x-python",
   "name": "python",
   "nbconvert_exporter": "python",
   "pygments_lexer": "ipython3",
   "version": "3.6.13"
  }
 },
 "nbformat": 4,
 "nbformat_minor": 2
}
