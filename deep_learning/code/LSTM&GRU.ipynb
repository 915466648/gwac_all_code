{
 "cells": [
  {
   "cell_type": "markdown",
   "metadata": {},
   "source": [
    "https://www.cnblogs.com/wj-1314/p/9579490.html\n",
    "\n",
    "https://keras-cn.readthedocs.io/en/latest/getting_started/sequential_model/\n",
    "\n",
    "https://keras.io/api/layers/recurrent_layers/lstm/\n",
    "\n",
    "inputs: A 3D tensor with shape [batch, timesteps, feature]."
   ]
  },
  {
   "cell_type": "code",
   "execution_count": 1,
   "metadata": {},
   "outputs": [],
   "source": [
    "import numpy as np\n",
    "import tensorflow as tf\n",
    "from keras.models import Sequential\n",
    "from keras.layers import Dense, Dropout\n",
    "from keras.layers import Embedding\n",
    "from keras.layers import LSTM"
   ]
  },
  {
   "cell_type": "markdown",
   "metadata": {},
   "source": [
    "#### 加载数据，打乱数据，切分数据，整理数据维度"
   ]
  },
  {
   "cell_type": "code",
   "execution_count": 2,
   "metadata": {},
   "outputs": [
    {
     "name": "stdout",
     "output_type": "stream",
     "text": [
      "(38022, 30, 1)\n",
      "(38022, 1)\n"
     ]
    }
   ],
   "source": [
    "# 路径\n",
    "train_fn_0 = '../../dataset/train_0.csv'\n",
    "train_fn_1 = '../../dataset/train_1.csv'\n",
    "test_fn_0 = '../../dataset/test_0.csv'\n",
    "test_fn_1 = '../../dataset/test_1.csv'\n",
    "# 加载训练集\n",
    "train_0 = np.loadtxt(train_fn_0,dtype=np.float32,delimiter = ',',encoding='utf-8-sig')\n",
    "train_1 = np.loadtxt(train_fn_1,dtype=np.float32,delimiter = ',',encoding='utf-8-sig')\n",
    "train = np.concatenate((train_0,train_1),axis=0)\n",
    "np.random.shuffle(train)\n",
    "# 加载测试集\n",
    "test_0 = np.loadtxt(test_fn_0,dtype=np.float32,delimiter = ',',encoding='utf-8-sig')\n",
    "test_1 = np.loadtxt(test_fn_1,dtype=np.float32,delimiter = ',',encoding='utf-8-sig')\n",
    "test = np.concatenate((test_0, test_1), axis=0)\n",
    "np.random.shuffle(test)\n",
    "# 整理数据维度\n",
    "x_train = train[:,0:30][:,:,np.newaxis]\n",
    "x_test = test[:,0:30][:,:,np.newaxis]\n",
    "y_train = train[:,30][:,np.newaxis]\n",
    "y_test = test[:,30][:,np.newaxis]\n",
    "print(x_train.shape)\n",
    "print(y_train.shape)"
   ]
  },
  {
   "cell_type": "markdown",
   "metadata": {},
   "source": [
    "#### LSTM "
   ]
  },
  {
   "cell_type": "code",
   "execution_count": 3,
   "metadata": {
    "scrolled": true
   },
   "outputs": [
    {
     "name": "stdout",
     "output_type": "stream",
     "text": [
      "Model: \"sequential\"\n",
      "_________________________________________________________________\n",
      "Layer (type)                 Output Shape              Param #   \n",
      "=================================================================\n",
      "lstm (LSTM)                  (None, 30, 64)            16896     \n",
      "_________________________________________________________________\n",
      "dropout (Dropout)            (None, 30, 64)            0         \n",
      "_________________________________________________________________\n",
      "lstm_1 (LSTM)                (None, 32)                12416     \n",
      "_________________________________________________________________\n",
      "dropout_1 (Dropout)          (None, 32)                0         \n",
      "_________________________________________________________________\n",
      "dense (Dense)                (None, 1)                 33        \n",
      "=================================================================\n",
      "Total params: 29,345\n",
      "Trainable params: 29,345\n",
      "Non-trainable params: 0\n",
      "_________________________________________________________________\n",
      "Epoch 1/10\n",
      "54/54 [==============================] - 12s 227ms/step - loss: 0.5129 - accuracy: 0.7488 - val_loss: 0.3160 - val_accuracy: 0.8605\n",
      "Epoch 2/10\n",
      "54/54 [==============================] - 11s 202ms/step - loss: 0.3059 - accuracy: 0.8704 - val_loss: 0.2381 - val_accuracy: 0.9087\n",
      "Epoch 3/10\n",
      "54/54 [==============================] - 13s 239ms/step - loss: 0.2427 - accuracy: 0.9084 - val_loss: 0.1820 - val_accuracy: 0.9303\n",
      "Epoch 4/10\n",
      "54/54 [==============================] - 13s 235ms/step - loss: 0.1802 - accuracy: 0.9295 - val_loss: 0.1304 - val_accuracy: 0.9604\n",
      "Epoch 5/10\n",
      "54/54 [==============================] - 10s 191ms/step - loss: 0.1717 - accuracy: 0.9318 - val_loss: 0.1188 - val_accuracy: 0.9563\n",
      "Epoch 6/10\n",
      "54/54 [==============================] - 11s 210ms/step - loss: 0.1168 - accuracy: 0.9549 - val_loss: 0.0941 - val_accuracy: 0.9625\n",
      "Epoch 7/10\n",
      "54/54 [==============================] - 11s 209ms/step - loss: 0.1082 - accuracy: 0.9591 - val_loss: 0.1046 - val_accuracy: 0.9596\n",
      "Epoch 8/10\n",
      "54/54 [==============================] - 11s 212ms/step - loss: 0.0958 - accuracy: 0.9628 - val_loss: 0.0772 - val_accuracy: 0.9711\n",
      "Epoch 9/10\n",
      "54/54 [==============================] - 12s 216ms/step - loss: 0.0900 - accuracy: 0.9658 - val_loss: 0.0988 - val_accuracy: 0.9626\n",
      "Epoch 10/10\n",
      "54/54 [==============================] - 12s 219ms/step - loss: 0.1063 - accuracy: 0.9594 - val_loss: 0.1285 - val_accuracy: 0.9455\n",
      "20/20 [==============================] - 1s 60ms/step - loss: 0.0993 - accuracy: 0.9595\n"
     ]
    }
   ],
   "source": [
    "model = Sequential()\n",
    "model.add(LSTM(units=64, activation='relu', return_sequences=True, input_shape=(30, 1)))\n",
    "model.add(Dropout(0.2))\n",
    "model.add(LSTM(units=32, activation='relu', return_sequences=False))\n",
    "model.add(Dropout(0.2))\n",
    "model.add(Dense(1, activation='sigmoid'))\n",
    "\n",
    "model.compile(loss='binary_crossentropy', optimizer='adam', metrics=['accuracy'])\n",
    "model.summary()\n",
    "\n",
    "model.fit(x_train, y_train,validation_split=0.3,batch_size=500, epochs=10)\n",
    "score = model.evaluate(x_test, y_test, batch_size=500)"
   ]
  },
  {
   "cell_type": "code",
   "execution_count": 4,
   "metadata": {},
   "outputs": [
    {
     "name": "stdout",
     "output_type": "stream",
     "text": [
      "              precision    recall  f1-score   support\n",
      "\n",
      "         0.0     0.9918    0.9518    0.9714      6872\n",
      "         1.0     0.8863    0.9795    0.9305      2633\n",
      "\n",
      "    accuracy                         0.9595      9505\n",
      "   macro avg     0.9390    0.9657    0.9510      9505\n",
      "weighted avg     0.9626    0.9595    0.9601      9505\n",
      "\n"
     ]
    }
   ],
   "source": [
    "from sklearn.metrics import classification_report\n",
    "LSTM_y_pred=model.predict(x_test, batch_size=500)\n",
    "print(classification_report(y_test, LSTM_y_pred.round(),digits=4))"
   ]
  },
  {
   "cell_type": "code",
   "execution_count": null,
   "metadata": {},
   "outputs": [],
   "source": [
    "from timeit import default_timer as timer\n",
    "test_time_lstm = []\n",
    "for i in range(10):\n",
    "    start_time = timer()\n",
    "    print(start_time)\n",
    "    model.predict(x_test, batch_size=500)\n",
    "    current_time = timer()\n",
    "    print(current_time)\n",
    "    test_time_lstm.append(current_time-start_time)\n",
    "    print(current_time-start_time)\n",
    "    i = i+1\n",
    "print(test_time_lstm)\n",
    "print(np.mean(test_time_lstm))"
   ]
  },
  {
   "cell_type": "markdown",
   "metadata": {},
   "source": [
    "#### GRU"
   ]
  },
  {
   "cell_type": "code",
   "execution_count": 5,
   "metadata": {},
   "outputs": [],
   "source": [
    "from keras.layers import GRU\n",
    "from timeit import default_timer as timer"
   ]
  },
  {
   "cell_type": "code",
   "execution_count": 13,
   "metadata": {
    "scrolled": true
   },
   "outputs": [
    {
     "name": "stdout",
     "output_type": "stream",
     "text": [
      "Model: \"sequential_4\"\n",
      "_________________________________________________________________\n",
      "Layer (type)                 Output Shape              Param #   \n",
      "=================================================================\n",
      "gru_5 (GRU)                  (None, 30, 64)            12864     \n",
      "_________________________________________________________________\n",
      "dropout_7 (Dropout)          (None, 30, 64)            0         \n",
      "_________________________________________________________________\n",
      "gru_6 (GRU)                  (None, 32)                9408      \n",
      "_________________________________________________________________\n",
      "dropout_8 (Dropout)          (None, 32)                0         \n",
      "_________________________________________________________________\n",
      "dense_4 (Dense)              (None, 1)                 33        \n",
      "=================================================================\n",
      "Total params: 22,305\n",
      "Trainable params: 22,305\n",
      "Non-trainable params: 0\n",
      "_________________________________________________________________\n",
      "Epoch 1/10\n",
      "54/54 [==============================] - 6s 117ms/step - loss: 0.5560 - accuracy: 0.7034 - val_loss: 0.4208 - val_accuracy: 0.7225\n",
      "Epoch 2/10\n",
      "54/54 [==============================] - 6s 106ms/step - loss: 0.3929 - accuracy: 0.7622 - val_loss: 0.3685 - val_accuracy: 0.8424\n",
      "Epoch 3/10\n",
      "54/54 [==============================] - 5s 101ms/step - loss: 0.3511 - accuracy: 0.8386 - val_loss: 0.3074 - val_accuracy: 0.8492\n",
      "Epoch 4/10\n",
      "54/54 [==============================] - 6s 109ms/step - loss: 0.2724 - accuracy: 0.8806 - val_loss: 0.2410 - val_accuracy: 0.9133\n",
      "Epoch 5/10\n",
      "54/54 [==============================] - 6s 102ms/step - loss: 0.1916 - accuracy: 0.9205 - val_loss: 0.1387 - val_accuracy: 0.9357\n",
      "Epoch 6/10\n",
      "54/54 [==============================] - 6s 112ms/step - loss: 0.1391 - accuracy: 0.9457 - val_loss: 0.1017 - val_accuracy: 0.9591\n",
      "Epoch 7/10\n",
      "54/54 [==============================] - 6s 107ms/step - loss: 0.1214 - accuracy: 0.9524 - val_loss: 0.0964 - val_accuracy: 0.9598\n",
      "Epoch 8/10\n",
      "54/54 [==============================] - 6s 104ms/step - loss: 0.1005 - accuracy: 0.9627 - val_loss: 0.0864 - val_accuracy: 0.9678\n",
      "Epoch 9/10\n",
      "54/54 [==============================] - 6s 108ms/step - loss: 0.0922 - accuracy: 0.9660 - val_loss: 0.0799 - val_accuracy: 0.9698\n",
      "Epoch 10/10\n",
      "54/54 [==============================] - 6s 104ms/step - loss: 0.0905 - accuracy: 0.9662 - val_loss: 0.0802 - val_accuracy: 0.9690\n",
      "train_time 6.204739670455456\n",
      "20/20 [==============================] - 1s 27ms/step - loss: 0.0666 - accuracy: 0.9782\n"
     ]
    }
   ],
   "source": [
    "GRU_model = Sequential()\n",
    "GRU_model.add(GRU(units=64, activation='relu', return_sequences=True, input_shape=(30, 1)))\n",
    "GRU_model.add(Dropout(0.2))\n",
    "GRU_model.add(GRU(units=32, activation='relu', return_sequences=False))\n",
    "GRU_model.add(Dropout(0.2))\n",
    "GRU_model.add(Dense(1, activation='sigmoid'))\n",
    "\n",
    "GRU_model.compile(loss='binary_crossentropy', optimizer='adam', metrics=['accuracy'])\n",
    "GRU_model.summary()\n",
    "start_time = timer()\n",
    "GRU_model.fit(x_train, y_train, validation_split=0.3,batch_size=512, epochs=10)\n",
    "current_time = timer()\n",
    "print(\"train_time\",(current_time-start_time)/10)\n",
    "score = GRU_model.evaluate(x_test, y_test, batch_size=500)"
   ]
  },
  {
   "cell_type": "code",
   "execution_count": 24,
   "metadata": {},
   "outputs": [
    {
     "name": "stdout",
     "output_type": "stream",
     "text": [
      "Model: \"sequential_9\"\n",
      "_________________________________________________________________\n",
      "Layer (type)                 Output Shape              Param #   \n",
      "=================================================================\n",
      "gru_15 (GRU)                 (None, 30, 32)            3360      \n",
      "_________________________________________________________________\n",
      "dropout_17 (Dropout)         (None, 30, 32)            0         \n",
      "_________________________________________________________________\n",
      "gru_16 (GRU)                 (None, 16)                2400      \n",
      "_________________________________________________________________\n",
      "dropout_18 (Dropout)         (None, 16)                0         \n",
      "_________________________________________________________________\n",
      "dense_9 (Dense)              (None, 1)                 17        \n",
      "=================================================================\n",
      "Total params: 5,777\n",
      "Trainable params: 5,777\n",
      "Non-trainable params: 0\n",
      "_________________________________________________________________\n",
      "Epoch 1/10\n",
      "52/52 [==============================] - 5s 92ms/step - loss: 0.6028 - accuracy: 0.7200 - val_loss: 0.5171 - val_accuracy: 0.7225\n",
      "Epoch 2/10\n",
      "52/52 [==============================] - 4s 74ms/step - loss: 0.4418 - accuracy: 0.7232 - val_loss: 0.3858 - val_accuracy: 0.7225\n",
      "Epoch 3/10\n",
      "52/52 [==============================] - 4s 74ms/step - loss: 0.3836 - accuracy: 0.7388 - val_loss: 0.3725 - val_accuracy: 0.8134\n",
      "Epoch 4/10\n",
      "52/52 [==============================] - 4s 79ms/step - loss: 0.3685 - accuracy: 0.8183 - val_loss: 0.3560 - val_accuracy: 0.8387\n",
      "Epoch 5/10\n",
      "52/52 [==============================] - 4s 82ms/step - loss: 0.3575 - accuracy: 0.8523 - val_loss: 0.3364 - val_accuracy: 0.8745\n",
      "Epoch 6/10\n",
      "52/52 [==============================] - 4s 72ms/step - loss: 0.3205 - accuracy: 0.8726 - val_loss: 0.2769 - val_accuracy: 0.8858\n",
      "Epoch 7/10\n",
      "52/52 [==============================] - 4s 81ms/step - loss: 0.2434 - accuracy: 0.9054 - val_loss: 0.2140 - val_accuracy: 0.9204\n",
      "Epoch 8/10\n",
      "52/52 [==============================] - 4s 74ms/step - loss: 0.1668 - accuracy: 0.9333 - val_loss: 0.1172 - val_accuracy: 0.9567\n",
      "Epoch 9/10\n",
      "52/52 [==============================] - 4s 78ms/step - loss: 0.1251 - accuracy: 0.9538 - val_loss: 0.1283 - val_accuracy: 0.9511\n",
      "Epoch 10/10\n",
      "52/52 [==============================] - 4s 72ms/step - loss: 0.1217 - accuracy: 0.9540 - val_loss: 0.1012 - val_accuracy: 0.9629\n",
      "train_time 4.463006693124771\n",
      "20/20 [==============================] - 0s 20ms/step - loss: 0.0917 - accuracy: 0.9701\n"
     ]
    }
   ],
   "source": [
    "GRU_model2 = Sequential()\n",
    "GRU_model2.add(GRU(units=32, activation='relu', return_sequences=True, input_shape=(30, 1)))\n",
    "GRU_model2.add(Dropout(0.1))\n",
    "GRU_model2.add(GRU(units=16, activation='relu', return_sequences=False))\n",
    "GRU_model2.add(Dropout(0.2))\n",
    "GRU_model2.add(Dense(1, activation='sigmoid'))\n",
    "\n",
    "GRU_model2.compile(loss='binary_crossentropy', optimizer='adam', metrics=['accuracy'])\n",
    "GRU_model2.summary()\n",
    "start_time = timer()\n",
    "GRU_model2.fit(x_train, y_train, validation_split=0.3,batch_size=512, epochs=10)\n",
    "current_time = timer()\n",
    "print(\"train_time\",(current_time-start_time)/10)\n",
    "score = GRU_model2.evaluate(x_test, y_test, batch_size=500)"
   ]
  },
  {
   "cell_type": "code",
   "execution_count": 21,
   "metadata": {},
   "outputs": [
    {
     "name": "stdout",
     "output_type": "stream",
     "text": [
      "              precision    recall  f1-score   support\n",
      "\n",
      "         0.0     0.9933    0.9748    0.9840      6872\n",
      "         1.0     0.9373    0.9829    0.9596      2633\n",
      "\n",
      "    accuracy                         0.9771      9505\n",
      "   macro avg     0.9653    0.9789    0.9718      9505\n",
      "weighted avg     0.9778    0.9771    0.9772      9505\n",
      "\n"
     ]
    }
   ],
   "source": [
    "gru_y_pred=GRU_model2.predict(x_test, batch_size=500)\n",
    "print(classification_report(y_test, gru_y_pred.round(),digits=4))"
   ]
  },
  {
   "cell_type": "code",
   "execution_count": 15,
   "metadata": {},
   "outputs": [
    {
     "name": "stdout",
     "output_type": "stream",
     "text": [
      "48860473.81530041\n",
      "48860474.45369187\n",
      "0.6383914574980736\n",
      "48860474.45401027\n",
      "48860475.038261525\n",
      "0.5842512547969818\n",
      "48860475.03844524\n",
      "48860475.604981475\n",
      "0.5665362328290939\n",
      "48860475.60530355\n",
      "48860476.168778285\n",
      "0.5634747371077538\n",
      "48860476.16886417\n",
      "48860476.73980388\n",
      "0.5709397122263908\n",
      "48860476.740209565\n",
      "48860477.30245292\n",
      "0.5622433573007584\n",
      "48860477.30254658\n",
      "48860477.896065325\n",
      "0.5935187414288521\n",
      "48860477.89615407\n",
      "48860478.4791888\n",
      "0.5830347314476967\n",
      "48860478.479277074\n",
      "48860479.059711955\n",
      "0.5804348811507225\n",
      "48860479.059803106\n",
      "48860479.648323335\n",
      "0.5885202288627625\n",
      "[0.6383914574980736, 0.5842512547969818, 0.5665362328290939, 0.5634747371077538, 0.5709397122263908, 0.5622433573007584, 0.5935187414288521, 0.5830347314476967, 0.5804348811507225, 0.5885202288627625]\n",
      "0.5831345334649086\n"
     ]
    }
   ],
   "source": [
    "test_time_gru = []\n",
    "for i in range(10):\n",
    "    start_time = timer()\n",
    "    print(start_time)\n",
    "    GRU_model.predict(x_test, batch_size=500)\n",
    "    current_time = timer()\n",
    "    print(current_time)\n",
    "    test_time_gru.append(current_time-start_time)\n",
    "    print(current_time-start_time)\n",
    "    i = i+1\n",
    "print(test_time_gru)\n",
    "print(np.mean(test_time_gru))"
   ]
  },
  {
   "cell_type": "markdown",
   "metadata": {},
   "source": [
    "#### BiGRU"
   ]
  },
  {
   "cell_type": "code",
   "execution_count": 8,
   "metadata": {},
   "outputs": [],
   "source": [
    "from keras.layers import Bidirectional"
   ]
  },
  {
   "cell_type": "code",
   "execution_count": 9,
   "metadata": {},
   "outputs": [
    {
     "name": "stdout",
     "output_type": "stream",
     "text": [
      "Model: \"sequential_2\"\n",
      "_________________________________________________________________\n",
      "Layer (type)                 Output Shape              Param #   \n",
      "=================================================================\n",
      "bidirectional (Bidirectional (None, 128)               25728     \n",
      "_________________________________________________________________\n",
      "dropout_4 (Dropout)          (None, 128)               0         \n",
      "_________________________________________________________________\n",
      "dense_2 (Dense)              (None, 1)                 129       \n",
      "=================================================================\n",
      "Total params: 25,857\n",
      "Trainable params: 25,857\n",
      "Non-trainable params: 0\n",
      "_________________________________________________________________\n",
      "Epoch 1/10\n",
      "54/54 [==============================] - 7s 123ms/step - loss: 0.4837 - accuracy: 0.7507 - val_loss: 0.3012 - val_accuracy: 0.8810\n",
      "Epoch 2/10\n",
      "54/54 [==============================] - 6s 113ms/step - loss: 0.2669 - accuracy: 0.8944 - val_loss: 0.2389 - val_accuracy: 0.9040\n",
      "Epoch 3/10\n",
      "54/54 [==============================] - 6s 109ms/step - loss: 0.2328 - accuracy: 0.9055 - val_loss: 0.2133 - val_accuracy: 0.9115\n",
      "Epoch 4/10\n",
      "54/54 [==============================] - 6s 119ms/step - loss: 0.2050 - accuracy: 0.9139 - val_loss: 0.1842 - val_accuracy: 0.9191\n",
      "Epoch 5/10\n",
      "54/54 [==============================] - 6s 120ms/step - loss: 0.1682 - accuracy: 0.9312 - val_loss: 0.1332 - val_accuracy: 0.9502\n",
      "Epoch 6/10\n",
      "54/54 [==============================] - 6s 110ms/step - loss: 0.1288 - accuracy: 0.9521 - val_loss: 0.1109 - val_accuracy: 0.9650\n",
      "Epoch 7/10\n",
      "54/54 [==============================] - 6s 113ms/step - loss: 0.1067 - accuracy: 0.9640 - val_loss: 0.0971 - val_accuracy: 0.9694\n",
      "Epoch 8/10\n",
      "54/54 [==============================] - 6s 111ms/step - loss: 0.0961 - accuracy: 0.9684 - val_loss: 0.0891 - val_accuracy: 0.9726\n",
      "Epoch 9/10\n",
      "54/54 [==============================] - 6s 109ms/step - loss: 0.0928 - accuracy: 0.9711 - val_loss: 0.0845 - val_accuracy: 0.9737\n",
      "Epoch 10/10\n",
      "54/54 [==============================] - 6s 110ms/step - loss: 0.0875 - accuracy: 0.9714 - val_loss: 0.0821 - val_accuracy: 0.9735\n",
      "20/20 [==============================] - 1s 31ms/step - loss: 0.0781 - accuracy: 0.9761\n"
     ]
    }
   ],
   "source": [
    "BiGRU_model = Sequential()\n",
    "BiGRU_model.add(Bidirectional(GRU(64), input_shape=(30, 1)))\n",
    "BiGRU_model.add(Dropout(0.2))\n",
    "BiGRU_model.add(Dense(1, activation='sigmoid'))\n",
    "BiGRU_model.compile(loss='binary_crossentropy', optimizer='adam', metrics=['accuracy'])\n",
    "BiGRU_model.compile(loss='binary_crossentropy', optimizer='adam', metrics=['accuracy'])\n",
    "BiGRU_model.summary()\n",
    "\n",
    "BiGRU_model.fit(x_train, y_train, validation_split=0.3,batch_size=500, epochs=10)\n",
    "score = BiGRU_model.evaluate(x_test, y_test, batch_size=500)"
   ]
  },
  {
   "cell_type": "code",
   "execution_count": 16,
   "metadata": {},
   "outputs": [
    {
     "name": "stdout",
     "output_type": "stream",
     "text": [
      "              precision    recall  f1-score   support\n",
      "\n",
      "         0.0     0.9776    0.9897    0.9836      6872\n",
      "         1.0     0.9721    0.9408    0.9562      2633\n",
      "\n",
      "    accuracy                         0.9761      9505\n",
      "   macro avg     0.9749    0.9652    0.9699      9505\n",
      "weighted avg     0.9761    0.9761    0.9760      9505\n",
      "\n"
     ]
    }
   ],
   "source": [
    "BiGRU_y_pred=BiGRU_model.predict(x_test, batch_size=500)\n",
    "print(classification_report(y_test, BiGRU_y_pred.round(),digits=4))"
   ]
  }
 ],
 "metadata": {
  "kernelspec": {
   "display_name": "tensorflowCPU",
   "language": "python",
   "name": "tensorflowcpu"
  },
  "language_info": {
   "codemirror_mode": {
    "name": "ipython",
    "version": 3
   },
   "file_extension": ".py",
   "mimetype": "text/x-python",
   "name": "python",
   "nbconvert_exporter": "python",
   "pygments_lexer": "ipython3",
   "version": "3.6.13"
  }
 },
 "nbformat": 4,
 "nbformat_minor": 2
}
