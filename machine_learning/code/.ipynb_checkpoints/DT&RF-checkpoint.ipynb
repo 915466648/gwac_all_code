{
 "cells": [
  {
   "cell_type": "code",
   "execution_count": 1,
   "metadata": {},
   "outputs": [],
   "source": [
    "from sklearn import preprocessing\n",
    "from sklearn.tree import DecisionTreeClassifier\n",
    "from sklearn import tree\n",
    "from sklearn.ensemble import RandomForestClassifier\n",
    "from numpy import loadtxt, sum, size, where, abs, average, std, ones,sign, sqrt, max, min, diff, sort, floor, array, concatenate\n",
    "import numpy as np\n",
    "from scipy import stats\n",
    "from os import listdir\n",
    "from sklearn.metrics import classification_report\n",
    "import joblib\n",
    "# import graphviz"
   ]
  },
  {
   "cell_type": "markdown",
   "metadata": {},
   "source": [
    "## 定义对mag的特征提取函数"
   ]
  },
  {
   "cell_type": "code",
   "execution_count": 2,
   "metadata": {},
   "outputs": [],
   "source": [
    "def calculate_F(n, m, mag):\n",
    "    flux = 10 ** (-0.4 * mag)\n",
    "    N = size(flux)\n",
    "    sorted_flux = sort(flux)\n",
    "    n = int(floor(N * n / 100))\n",
    "    m = int(floor(N * m / 100))\n",
    "    f_n = sorted_flux[n]\n",
    "    f_m = sorted_flux[m]\n",
    "    return f_m - f_n"
   ]
  },
  {
   "cell_type": "code",
   "execution_count": 3,
   "metadata": {},
   "outputs": [],
   "source": [
    "def moment_based_features(mag):\n",
    "    n = size(mag)\n",
    "    ave_mag = average(mag)\n",
    "    weights = 1\n",
    "    wtd_ave_mag = average(mag)\n",
    "\n",
    "    delta = std(mag)\n",
    "    beyond1std = size(where(abs(mag - wtd_ave_mag) > delta)) / n\n",
    "    kurtosis = stats.kurtosis(mag)\n",
    "    skew = stats.skew(mag)\n",
    "\n",
    "    delta_i = sqrt(n / (n - 1)) * ((mag - ave_mag) / delta)\n",
    "    P_k = delta_i ** 2 - 1\n",
    "    stetson_j = sum(weights * sign(P_k) * sqrt(abs(P_k))) / sum(weights)\n",
    "    stetson_k = 1 / n * sum(abs(delta_i)) / sqrt(1 / n * sum(delta_i ** 2))\n",
    "\n",
    "    return [beyond1std, kurtosis, skew,stetson_j, stetson_k]"
   ]
  },
  {
   "cell_type": "code",
   "execution_count": 4,
   "metadata": {},
   "outputs": [],
   "source": [
    "def magnitude_based_features(mag):\n",
    "    slope = diff(mag)\n",
    "    amp = max(mag) - min(mag)\n",
    "    max_slope = max(abs(slope))\n",
    "    mad = stats.median_abs_deviation(mag)\n",
    "\n",
    "    return [amp, max_slope, mad]\n"
   ]
  },
  {
   "cell_type": "code",
   "execution_count": 5,
   "metadata": {},
   "outputs": [],
   "source": [
    "def percentile_based_features(mag):\n",
    "    F_5_95 = calculate_F(5, 95, mag)\n",
    "    fpr20 = calculate_F(40, 60, mag) / F_5_95\n",
    "    fpr35 = calculate_F(32.5, 67.5, mag) / F_5_95\n",
    "    fpr50 = calculate_F(25, 75, mag) / F_5_95\n",
    "    fpr65 = calculate_F(17.5, 82.5, mag) / F_5_95\n",
    "    fpr80 = calculate_F(10, 90, mag) / F_5_95\n",
    "\n",
    "    return [fpr20, fpr35, fpr50, fpr65, fpr80]"
   ]
  },
  {
   "cell_type": "code",
   "execution_count": 6,
   "metadata": {},
   "outputs": [],
   "source": [
    "def get_feature(mag):\n",
    "    mag_scaled = preprocessing.scale(mag)\n",
    "    features1 = moment_based_features(mag_scaled)\n",
    "    features2 = magnitude_based_features(mag_scaled)\n",
    "    features3 = percentile_based_features(mag_scaled)\n",
    "    return array(features1 + features2 + features3)"
   ]
  },
  {
   "cell_type": "code",
   "execution_count": 7,
   "metadata": {},
   "outputs": [],
   "source": [
    "# 得到提取的特征，依次为beyond1std, kurtosis, skew, stetson_j, stetson_k，amp, max_slope, mad，fpr20, fpr35, fpr50, fpr65, fpr80\n",
    "def get_data(path):\n",
    "    magarray = loadtxt(path,dtype=str,delimiter = ',',encoding='utf-8-sig')\n",
    "    feature = ones([len(magarray), 13])\n",
    "    for i,maglist in enumerate(magarray):\n",
    "        mag = maglist[0:30]\n",
    "        feature[i, :] = get_feature(mag)\n",
    "    return feature"
   ]
  },
  {
   "cell_type": "markdown",
   "metadata": {},
   "source": [
    "## 加载数据，计算特征，并保存在文件中"
   ]
  },
  {
   "cell_type": "code",
   "execution_count": 8,
   "metadata": {
    "scrolled": true
   },
   "outputs": [
    {
     "name": "stdout",
     "output_type": "stream",
     "text": [
      "计算特征所消耗时间 43.30030518770218\n"
     ]
    }
   ],
   "source": [
    "## 计算train和test的特征矩阵，\n",
    "from timeit import default_timer as timer\n",
    "\n",
    "feature_start_time = timer()\n",
    "feature_train_0 = get_data('../../dataset/train_0.csv')\n",
    "feature_train_1 = get_data('../../dataset/train_1.csv')\n",
    "feature_test_1 = get_data('../../dataset/test_1.csv')\n",
    "feature_test_0 = get_data('../../dataset/test_0.csv')\n",
    "feature_train = concatenate((feature_train_0,feature_train_1))\n",
    "feature_test = concatenate((feature_test_0,feature_test_1))\n",
    "feature_end_time = timer()\n",
    "print(\"计算特征所消耗时间\",feature_end_time-feature_start_time)\n",
    "\n",
    "np.savetxt('../output/feature_train_0.txt', feature_train_0 ,fmt='%f',delimiter=',')\n",
    "np.savetxt('../output/feature_train_1.txt', feature_train_1 ,fmt='%f',delimiter=',')\n",
    "np.savetxt('../output/feature_test_1.txt', feature_test_1 ,fmt='%f',delimiter=',')\n",
    "np.savetxt('../output/feature_test_0.txt', feature_test_0 ,fmt='%f',delimiter=',')"
   ]
  },
  {
   "cell_type": "markdown",
   "metadata": {},
   "source": [
    "## 对数据进行整理，准备输入模型，包括shuffle"
   ]
  },
  {
   "cell_type": "code",
   "execution_count": 9,
   "metadata": {},
   "outputs": [],
   "source": [
    "## 生成train和test的label矩阵\n",
    "train_label_0 = ones(size(feature_train_0, 0))*0\n",
    "train_label_1 = ones(size(feature_train_1, 0))\n",
    "train_label = concatenate((train_label_0, train_label_1), axis=0)\n",
    "\n",
    "test_label_0 = ones(size(feature_test_0, 0))*0\n",
    "test_label_1 = ones(size(feature_test_1, 0))\n",
    "test_label = concatenate((test_label_0, test_label_1), axis=0)"
   ]
  },
  {
   "cell_type": "code",
   "execution_count": 10,
   "metadata": {},
   "outputs": [
    {
     "name": "stdout",
     "output_type": "stream",
     "text": [
      "(38022, 13)\n",
      "(38022, 1)\n",
      "(38022, 14)\n"
     ]
    }
   ],
   "source": [
    "#将train_label的shape改成（,38022，1）才能和feature拼接，如果不改，是（38022，）就不能拼接\n",
    "train_label=train_label[:,np.newaxis]\n",
    "print(feature_train.shape)\n",
    "print(train_label.shape)\n",
    "train = concatenate((feature_train,train_label),axis=1)\n",
    "print(train.shape)\n",
    "## 打乱顺序\n",
    "np.random.shuffle(train)"
   ]
  },
  {
   "cell_type": "code",
   "execution_count": 11,
   "metadata": {},
   "outputs": [
    {
     "name": "stdout",
     "output_type": "stream",
     "text": [
      "(9505, 13)\n",
      "(9505, 1)\n",
      "(9505, 14)\n"
     ]
    }
   ],
   "source": [
    "test_label=test_label[:,np.newaxis]\n",
    "print(feature_test.shape)\n",
    "print(test_label.shape)\n",
    "test= concatenate((feature_test,test_label),axis=1)\n",
    "print(test.shape)\n",
    "## 打乱顺序\n",
    "np.random.shuffle(test)"
   ]
  },
  {
   "cell_type": "markdown",
   "metadata": {},
   "source": [
    "## 决策树模型"
   ]
  },
  {
   "cell_type": "code",
   "execution_count": 12,
   "metadata": {
    "scrolled": true
   },
   "outputs": [
    {
     "name": "stdout",
     "output_type": "stream",
     "text": [
      "0.9882436484140761 0.9836927932667018\n",
      "              precision    recall  f1-score   support\n",
      "\n",
      "         0.0     0.9963    0.9811    0.9886      6872\n",
      "         1.0     0.9525    0.9905    0.9711      2633\n",
      "\n",
      "    accuracy                         0.9837      9505\n",
      "   macro avg     0.9744    0.9858    0.9799      9505\n",
      "weighted avg     0.9842    0.9837    0.9838      9505\n",
      "\n"
     ]
    },
    {
     "data": {
      "text/plain": [
       "['../output/DecisionTreeClassifier13.pkl']"
      ]
     },
     "execution_count": 12,
     "metadata": {},
     "output_type": "execute_result"
    }
   ],
   "source": [
    "##  训练决策树\n",
    "clf = DecisionTreeClassifier(max_features=13, max_depth=15 )\n",
    "clf = clf.fit(train[:,0:13], train[:,13])\n",
    "train_score_c = clf.score(train[:,0:13], train[:,13])  # 返回预测的准确度\n",
    "test_score_c = clf.score(test[:,0:13], test[:,13])\n",
    "print(train_score_c,test_score_c)\n",
    "print(classification_report(test[:,13], clf.predict(test[:,0:13]),digits=4))\n",
    "joblib.dump(clf, '../output/DecisionTreeClassifier13.pkl')"
   ]
  },
  {
   "cell_type": "code",
   "execution_count": 13,
   "metadata": {
    "scrolled": true
   },
   "outputs": [
    {
     "name": "stdout",
     "output_type": "stream",
     "text": [
      "0.35951173305511475\n",
      "0.3576541319489479\n",
      "0.3571367636322975\n",
      "0.3575209006667137\n",
      "0.35744336247444153\n",
      "0.3572350963950157\n",
      "0.3589535355567932\n",
      "0.35863445699214935\n",
      "0.3570426031947136\n",
      "0.356866680085659\n",
      "[0.35951173305511475, 0.3576541319489479, 0.3571367636322975, 0.3575209006667137, 0.35744336247444153, 0.3572350963950157, 0.3589535355567932, 0.35863445699214935, 0.3570426031947136, 0.356866680085659]\n",
      "0.35779992640018465\n"
     ]
    }
   ],
   "source": [
    "# 决策树的训练时间\n",
    "from timeit import default_timer as timer\n",
    "train_time_dt = []\n",
    "for i in range(10):\n",
    "    start_time = timer()\n",
    "    clf.fit(train[:,0:13], train[:,13])\n",
    "    current_time = timer()\n",
    "    train_time_dt.append(current_time-start_time)\n",
    "    print(current_time-start_time)\n",
    "    i = i+1\n",
    "print(train_time_dt)\n",
    "print(np.mean(train_time_dt))"
   ]
  },
  {
   "cell_type": "code",
   "execution_count": 14,
   "metadata": {
    "scrolled": true
   },
   "outputs": [
    {
     "name": "stdout",
     "output_type": "stream",
     "text": [
      "0.0012525320053100586\n",
      "0.0009517669677734375\n",
      "0.0007649734616279602\n",
      "0.0007732659578323364\n",
      "0.0007587671279907227\n",
      "0.000767633318901062\n",
      "0.0007541105151176453\n",
      "0.0007590726017951965\n",
      "0.0007577240467071533\n",
      "0.000757172703742981\n",
      "[0.0012525320053100586, 0.0009517669677734375, 0.0007649734616279602, 0.0007732659578323364, 0.0007587671279907227, 0.000767633318901062, 0.0007541105151176453, 0.0007590726017951965, 0.0007577240467071533, 0.000757172703742981]\n",
      "0.0008297018706798553\n"
     ]
    }
   ],
   "source": [
    "# 决策树的测试时间\n",
    "from timeit import default_timer as timer\n",
    "test_time_dt = []\n",
    "for i in range(10):\n",
    "    start_time = timer()\n",
    "    clf.predict(test[:,0:13])\n",
    "    current_time = timer()\n",
    "    test_time_dt.append(current_time-start_time)\n",
    "    print(current_time-start_time)\n",
    "    i = i+1\n",
    "print(test_time_dt)\n",
    "print(np.mean(test_time_dt))"
   ]
  },
  {
   "cell_type": "code",
   "execution_count": 15,
   "metadata": {},
   "outputs": [
    {
     "name": "stdout",
     "output_type": "stream",
     "text": [
      "决策树的特征重要性排序\n",
      " 1) skew                           0.394108\n",
      " 2) max_slope                      0.125522\n",
      " 3) amp                            0.099269\n",
      " 4) fpr65                          0.067563\n",
      " 5) fpr35                          0.061792\n",
      " 6) fpr20                          0.060849\n",
      " 7) mad                            0.041236\n",
      " 8) kurtosis                       0.038959\n",
      " 9) stetson_k                      0.031256\n",
      "10) fpr80                          0.027341\n",
      "11) fpr50                          0.025324\n",
      "12) beyond1std                     0.018091\n",
      "13) stetson_j                      0.008691\n"
     ]
    }
   ],
   "source": [
    "### 进行决策树的模型剖析\n",
    "feature_name = ['beyond1std', 'kurtosis', 'skew', 'stetson_j', 'stetson_k','amp', 'max_slope', 'mad','fpr20', 'fpr35', 'fpr50', 'fpr65', 'fpr80']\n",
    "clf_importances = clf.feature_importances_\n",
    "clf_indices = np.argsort(clf_importances)[::-1]\n",
    "print(\"决策树的特征重要性排序\")\n",
    "for f in range(train.shape[1]-1):\n",
    "    print(\"%2d) %-*s %f\" % (f + 1, 30, feature_name[clf_indices[f]], clf_importances[clf_indices[f]]))"
   ]
  },
  {
   "cell_type": "code",
   "execution_count": 16,
   "metadata": {},
   "outputs": [
    {
     "name": "stdout",
     "output_type": "stream",
     "text": [
      "0.9884803534795644 0.9826407154129405\n",
      "              precision    recall  f1-score   support\n",
      "\n",
      "         0.0     0.9969    0.9790    0.9879      6872\n",
      "         1.0     0.9478    0.9920    0.9694      2633\n",
      "\n",
      "    accuracy                         0.9826      9505\n",
      "   macro avg     0.9723    0.9855    0.9786      9505\n",
      "weighted avg     0.9833    0.9826    0.9828      9505\n",
      "\n"
     ]
    },
    {
     "data": {
      "text/plain": [
       "['../output/DecisionTreeClassifier9.pkl']"
      ]
     },
     "execution_count": 16,
     "metadata": {},
     "output_type": "execute_result"
    }
   ],
   "source": [
    "##  使用较少特征训练决策树，去掉最后四个\n",
    "# 原特征依次为beyond1std, kurtosis, skew, stetson_j, stetson_k，amp, max_slope, mad，fpr20, fpr35, fpr50, fpr65, fpr80\n",
    "# 去掉第3,0,10,12\n",
    "clf9 = DecisionTreeClassifier(max_features=9, max_depth=15 )\n",
    "clf9 = clf9.fit(train[:,[1,2,4,5,6,7,8,9,11]], train[:,13])\n",
    "train_score_c = clf9.score(train[:,[1,2,4,5,6,7,8,9,11]], train[:,13])  # 返回预测的准确度\n",
    "test_score_c = clf9.score(test[:,[1,2,4,5,6,7,8,9,11]], test[:,13])\n",
    "print(train_score_c,test_score_c)\n",
    "print(classification_report(test[:,13], clf9.predict(test[:,[1,2,4,5,6,7,8,9,11]]),digits=4))\n",
    "joblib.dump(clf9, '../output/DecisionTreeClassifier9.pkl')"
   ]
  },
  {
   "cell_type": "code",
   "execution_count": 19,
   "metadata": {},
   "outputs": [
    {
     "name": "stdout",
     "output_type": "stream",
     "text": [
      "决策树的特征重要性排序\n",
      " 1) skew                           0.405264\n",
      " 2) max_slope                      0.146232\n",
      " 3) amp                            0.117786\n",
      " 4) fpr65                          0.072167\n",
      " 5) fpr35                          0.062542\n",
      " 6) mad                            0.055146\n",
      " 7) fpr20                          0.053844\n",
      " 8) stetson_k                      0.043798\n",
      " 9) kurtosis                       0.043221\n"
     ]
    }
   ],
   "source": [
    "### 进行决策树的模型剖析\n",
    "feature_name = [ 'kurtosis', 'skew',  'stetson_k','amp', 'max_slope', 'mad','fpr20', 'fpr35', 'fpr65']\n",
    "clf_importances = clf9.feature_importances_\n",
    "clf_indices = np.argsort(clf_importances)[::-1]\n",
    "print(\"决策树的特征重要性排序\")\n",
    "for f in range(9):\n",
    "    print(\"%2d) %-*s %f\" % (f + 1, 30, feature_name[clf_indices[f]], clf_importances[clf_indices[f]]))"
   ]
  },
  {
   "cell_type": "code",
   "execution_count": 20,
   "metadata": {
    "scrolled": true
   },
   "outputs": [
    {
     "name": "stdout",
     "output_type": "stream",
     "text": [
      "0.2620910778641701\n",
      "0.27337103337049484\n",
      "0.2505311071872711\n",
      "0.24377775937318802\n",
      "0.2705700919032097\n",
      "0.2468748614192009\n",
      "0.24893297255039215\n",
      "0.24656715989112854\n",
      "0.24948053061962128\n",
      "0.2494141310453415\n",
      "[0.2620910778641701, 0.27337103337049484, 0.2505311071872711, 0.24377775937318802, 0.2705700919032097, 0.2468748614192009, 0.24893297255039215, 0.24656715989112854, 0.24948053061962128, 0.2494141310453415]\n",
      "0.25416107252240183\n"
     ]
    }
   ],
   "source": [
    "# 决策树的训练时间\n",
    "from timeit import default_timer as timer\n",
    "train_time_dt = []\n",
    "for i in range(10):\n",
    "    start_time = timer()\n",
    "    clf9.fit(train[:,0:13], train[:,13])\n",
    "    current_time = timer()\n",
    "    train_time_dt.append(current_time-start_time)\n",
    "    print(current_time-start_time)\n",
    "    i = i+1\n",
    "print(train_time_dt)\n",
    "print(np.mean(train_time_dt))"
   ]
  },
  {
   "cell_type": "code",
   "execution_count": 21,
   "metadata": {
    "scrolled": true
   },
   "outputs": [
    {
     "name": "stdout",
     "output_type": "stream",
     "text": [
      "0.001398332417011261\n",
      "0.0011017248034477234\n",
      "0.0008203834295272827\n",
      "0.0008104890584945679\n",
      "0.0008057951927185059\n",
      "0.0008115842938423157\n",
      "0.0008053034543991089\n",
      "0.000803239643573761\n",
      "0.0007757470011711121\n",
      "0.0008044838905334473\n",
      "[0.001398332417011261, 0.0011017248034477234, 0.0008203834295272827, 0.0008104890584945679, 0.0008057951927185059, 0.0008115842938423157, 0.0008053034543991089, 0.000803239643573761, 0.0007757470011711121, 0.0008044838905334473]\n",
      "0.0008937083184719086\n"
     ]
    }
   ],
   "source": [
    "# 决策树的测试时间\n",
    "from timeit import default_timer as timer\n",
    "test_time_dt = []\n",
    "for i in range(10):\n",
    "    start_time = timer()\n",
    "    clf9.predict(test[:,0:13])\n",
    "    current_time = timer()\n",
    "    test_time_dt.append(current_time-start_time)\n",
    "    print(current_time-start_time)\n",
    "    i = i+1\n",
    "print(test_time_dt)\n",
    "print(np.mean(test_time_dt))"
   ]
  },
  {
   "cell_type": "markdown",
   "metadata": {},
   "source": [
    "## 随机森林模型"
   ]
  },
  {
   "cell_type": "code",
   "execution_count": 23,
   "metadata": {
    "scrolled": false
   },
   "outputs": [
    {
     "name": "stdout",
     "output_type": "stream",
     "text": [
      "0.9939508705486297 0.9915833771699105\n",
      "              precision    recall  f1-score   support\n",
      "\n",
      "         0.0     0.9997    0.9886    0.9941      6872\n",
      "         1.0     0.9712    0.9992    0.9850      2633\n",
      "\n",
      "    accuracy                         0.9916      9505\n",
      "   macro avg     0.9855    0.9939    0.9896      9505\n",
      "weighted avg     0.9918    0.9916    0.9916      9505\n",
      "\n"
     ]
    },
    {
     "data": {
      "text/plain": [
       "['../output/RandomForestClassifier13.pkl']"
      ]
     },
     "execution_count": 23,
     "metadata": {},
     "output_type": "execute_result"
    }
   ],
   "source": [
    "## 训练随机森林\n",
    "rfc = RandomForestClassifier(max_features=13, max_depth=15,n_estimators=70)\n",
    "rfc = rfc.fit(train[:,0:13], train[:,13])\n",
    "train_score_r = rfc.score(train[:,0:13], train[:,13])  # 返回预测的准确度\n",
    "test_score_r = rfc.score(test[:,0:13], test[:,13])\n",
    "print(train_score_r,test_score_r)\n",
    "print(classification_report(test[:,13], rfc.predict(test[:,0:13]),digits=4))\n",
    "joblib.dump(rfc, '../output/RandomForestClassifier13.pkl')\n",
    "# rfc = joblib.load('./RandomForestClassifier13.pkl')"
   ]
  },
  {
   "cell_type": "code",
   "execution_count": 24,
   "metadata": {},
   "outputs": [
    {
     "name": "stdout",
     "output_type": "stream",
     "text": [
      "15.709497138857841\n",
      "15.657868035137653\n",
      "15.700309008359909\n",
      "15.609560057520866\n",
      "15.669170089066029\n",
      "15.652268320322037\n",
      "15.569237843155861\n",
      "15.669006034731865\n",
      "15.717915438115597\n",
      "15.65799966454506\n",
      "[15.709497138857841, 15.657868035137653, 15.700309008359909, 15.609560057520866, 15.669170089066029, 15.652268320322037, 15.569237843155861, 15.669006034731865, 15.717915438115597, 15.65799966454506]\n",
      "15.661283162981272\n"
     ]
    }
   ],
   "source": [
    "# 随机森林的训练时间\n",
    "from timeit import default_timer as timer\n",
    "train_time_rf = []\n",
    "for i in range(10):\n",
    "    start_time = timer()\n",
    "    rfc.fit(train[:,0:13], train[:,13])\n",
    "    current_time = timer()\n",
    "    train_time_rf.append(current_time-start_time)\n",
    "    print(current_time-start_time)\n",
    "    i = i+1\n",
    "print(train_time_rf)\n",
    "print(np.mean(train_time_rf))"
   ]
  },
  {
   "cell_type": "code",
   "execution_count": 25,
   "metadata": {},
   "outputs": [
    {
     "name": "stdout",
     "output_type": "stream",
     "text": [
      "0.04980187863111496\n",
      "0.04661078751087189\n",
      "0.04651524871587753\n",
      "0.04631167650222778\n",
      "0.04665952920913696\n",
      "0.046674735844135284\n",
      "0.04642348736524582\n",
      "0.04627746343612671\n",
      "0.04631125181913376\n",
      "0.05385349690914154\n",
      "[0.04980187863111496, 0.04661078751087189, 0.04651524871587753, 0.04631167650222778, 0.04665952920913696, 0.046674735844135284, 0.04642348736524582, 0.04627746343612671, 0.04631125181913376, 0.05385349690914154]\n",
      "0.047543955594301225\n"
     ]
    }
   ],
   "source": [
    "# 随机森林的测试时间\n",
    "from timeit import default_timer as timer\n",
    "test_time_rf = []\n",
    "for i in range(10):\n",
    "    start_time = timer()\n",
    "    rfc.predict(test[:,0:13])\n",
    "    current_time = timer()\n",
    "    test_time_rf.append(current_time-start_time)\n",
    "    print(current_time-start_time)\n",
    "    i = i+1\n",
    "print(test_time_rf)\n",
    "print(np.mean(test_time_rf))"
   ]
  },
  {
   "cell_type": "code",
   "execution_count": 26,
   "metadata": {
    "scrolled": false
   },
   "outputs": [
    {
     "name": "stdout",
     "output_type": "stream",
     "text": [
      "随机森林的特征重要性排序\n",
      " 1) skew                           0.393588\n",
      " 2) max_slope                      0.129394\n",
      " 3) amp                            0.109766\n",
      " 4) fpr35                          0.061621\n",
      " 5) fpr65                          0.058492\n",
      " 6) fpr20                          0.056111\n",
      " 7) mad                            0.039788\n",
      " 8) fpr80                          0.034155\n",
      " 9) fpr50                          0.029249\n",
      "10) stetson_j                      0.027811\n",
      "11) stetson_k                      0.026501\n",
      "12) kurtosis                       0.023705\n",
      "13) beyond1std                     0.009819\n"
     ]
    }
   ],
   "source": [
    "### 进行随机森林模型剖析\n",
    "feature_name = ['beyond1std', 'kurtosis', 'skew', 'stetson_j', 'stetson_k','amp', 'max_slope', 'mad','fpr20', 'fpr35', 'fpr50', 'fpr65', 'fpr80']\n",
    "rfc_importances = rfc.feature_importances_\n",
    "rfc_indices = np.argsort(rfc_importances)[::-1]\n",
    "print(\"随机森林的特征重要性排序\")\n",
    "for f in range(train.shape[1]-1):\n",
    "    print(\"%2d) %-*s %f\" % (f + 1, 30, feature_name[rfc_indices[f]], rfc_importances[rfc_indices[f]]))"
   ]
  },
  {
   "cell_type": "code",
   "execution_count": 28,
   "metadata": {},
   "outputs": [
    {
     "name": "stdout",
     "output_type": "stream",
     "text": [
      "0.9930040502866762 0.9913729615991583\n",
      "              precision    recall  f1-score   support\n",
      "\n",
      "         0.0     0.9994    0.9886    0.9940      6872\n",
      "         1.0     0.9712    0.9985    0.9846      2633\n",
      "\n",
      "    accuracy                         0.9914      9505\n",
      "   macro avg     0.9853    0.9936    0.9893      9505\n",
      "weighted avg     0.9916    0.9914    0.9914      9505\n",
      "\n"
     ]
    },
    {
     "data": {
      "text/plain": [
       "['../output/RandomForestClassifier9.pkl']"
      ]
     },
     "execution_count": 28,
     "metadata": {},
     "output_type": "execute_result"
    }
   ],
   "source": [
    "## 减少特征后训练随机森林\n",
    "# 依次为beyond1std, kurtosis, skew, stetson_j, stetson_k，amp, max_slope, mad，fpr20, fpr35, fpr50, fpr65, fpr80\n",
    "# 去掉0,3,4,1\n",
    "rfc9 = RandomForestClassifier(max_features=9, max_depth=15,n_estimators=70)\n",
    "rfc9 = rfc9.fit(train[:,[2,5,6,7,8,9,10,11,12]], train[:,13])\n",
    "train_score_r = rfc9.score(train[:,[2,5,6,7,8,9,10,11,12]], train[:,13])  # 返回预测的准确度\n",
    "test_score_r = rfc9.score(test[:,[2,5,6,7,8,9,10,11,12]], test[:,13])\n",
    "print(train_score_r,test_score_r)\n",
    "print(classification_report(test[:,13], rfc9.predict(test[:,[2,5,6,7,8,9,10,11,12]]),digits=4))\n",
    "joblib.dump(rfc9, '../output/RandomForestClassifier9.pkl')\n",
    "# crfc2 = joblib.load('./RandomForestClassifier.pkl')"
   ]
  },
  {
   "cell_type": "code",
   "execution_count": 29,
   "metadata": {},
   "outputs": [
    {
     "name": "stdout",
     "output_type": "stream",
     "text": [
      "11.106140658259392\n",
      "11.042561285197735\n",
      "10.967617206275463\n",
      "11.090353101491928\n",
      "11.07901056110859\n",
      "10.993865631520748\n",
      "10.972389727830887\n",
      "11.112212777137756\n",
      "11.028614893555641\n",
      "11.064330130815506\n",
      "[11.106140658259392, 11.042561285197735, 10.967617206275463, 11.090353101491928, 11.07901056110859, 10.993865631520748, 10.972389727830887, 11.112212777137756, 11.028614893555641, 11.064330130815506]\n",
      "11.045709597319364\n"
     ]
    }
   ],
   "source": [
    "# 减少特征后随机森林的训练时间\n",
    "from timeit import default_timer as timer\n",
    "train_time_rf = []\n",
    "for i in range(10):\n",
    "    start_time = timer()\n",
    "    rfc9.fit(train[:,0:13], train[:,13])\n",
    "    current_time = timer()\n",
    "    train_time_rf.append(current_time-start_time)\n",
    "    print(current_time-start_time)\n",
    "    i = i+1\n",
    "print(train_time_rf)\n",
    "print(np.mean(train_time_rf))"
   ]
  },
  {
   "cell_type": "code",
   "execution_count": 30,
   "metadata": {},
   "outputs": [
    {
     "name": "stdout",
     "output_type": "stream",
     "text": [
      "0.04909287393093109\n",
      "0.04701880365610123\n",
      "0.046733543276786804\n",
      "0.04664475470781326\n",
      "0.04799870401620865\n",
      "0.047403641045093536\n",
      "0.04674246907234192\n",
      "0.04666908085346222\n",
      "0.046632036566734314\n",
      "0.04706744849681854\n",
      "[0.04909287393093109, 0.04701880365610123, 0.046733543276786804, 0.04664475470781326, 0.04799870401620865, 0.047403641045093536, 0.04674246907234192, 0.04666908085346222, 0.046632036566734314, 0.04706744849681854]\n",
      "0.047200335562229155\n"
     ]
    }
   ],
   "source": [
    "# 随机森林的测试时间\n",
    "from timeit import default_timer as timer\n",
    "test_time_rf = []\n",
    "for i in range(10):\n",
    "    start_time = timer()\n",
    "    rfc9.predict(test[:,0:13])\n",
    "    current_time = timer()\n",
    "    test_time_rf.append(current_time-start_time)\n",
    "    print(current_time-start_time)\n",
    "    i = i+1\n",
    "print(test_time_rf)\n",
    "print(np.mean(test_time_rf))"
   ]
  },
  {
   "cell_type": "markdown",
   "metadata": {},
   "source": [
    "## 使用提取出的特征的支持向量机模型，但是效果不好，在另一份代码里直接使用序列数据作为SVM的输入"
   ]
  },
  {
   "cell_type": "code",
   "execution_count": 31,
   "metadata": {},
   "outputs": [
    {
     "name": "stdout",
     "output_type": "stream",
     "text": [
      "The score of rbf is : 0.906470\n",
      "The score of linear is : 0.889216\n",
      "The score of poly is : 0.890794\n",
      "The score of sigmoid is : 0.614413\n"
     ]
    }
   ],
   "source": [
    "from sklearn import svm\n",
    "X_train = train[:,0:13]\n",
    "y_train = train[:,13]\n",
    "X_test = test[:,0:13]\n",
    "y_test = test[:,13]\n",
    "\n",
    "\n",
    "# kernel = 'rbf'\n",
    "clf_rbf = svm.SVC(kernel='rbf')\n",
    "clf_rbf.fit(X_train,y_train)\n",
    "score_rbf = clf_rbf.score(X_test,y_test)\n",
    "print(\"The score of rbf is : %f\"%score_rbf)\n",
    "\n",
    "# kernel = 'linear'\n",
    "clf_linear = svm.SVC(kernel='linear')\n",
    "clf_linear.fit(X_train,y_train)\n",
    "score_linear = clf_linear.score(X_test,y_test)\n",
    "print(\"The score of linear is : %f\"%score_linear)\n",
    "\n",
    "# kernel = 'poly'\n",
    "clf_poly = svm.SVC(kernel='poly')\n",
    "clf_poly.fit(X_train,y_train)\n",
    "score_poly = clf_poly.score(X_test,y_test)\n",
    "print(\"The score of poly is : %f\"%score_poly)\n",
    "\n",
    "# kernel = 'sigmoid'\n",
    "clf_sigmoid = svm.SVC(kernel='sigmoid')\n",
    "clf_sigmoid.fit(X_train,y_train)\n",
    "score_sigmoid = clf_sigmoid.score(X_test,y_test)\n",
    "print(\"The score of sigmoid is : %f\"%score_sigmoid)"
   ]
  },
  {
   "cell_type": "code",
   "execution_count": 32,
   "metadata": {
    "scrolled": true
   },
   "outputs": [
    {
     "name": "stdout",
     "output_type": "stream",
     "text": [
      "              precision    recall  f1-score   support\n",
      "\n",
      "         0.0     0.9070    0.9702    0.9375      6872\n",
      "         1.0     0.9048    0.7402    0.8143      2633\n",
      "\n",
      "    accuracy                         0.9065      9505\n",
      "   macro avg     0.9059    0.8552    0.8759      9505\n",
      "weighted avg     0.9064    0.9065    0.9034      9505\n",
      "\n"
     ]
    }
   ],
   "source": [
    "print(classification_report(y_test, clf_rbf.predict(X_test),digits=4))"
   ]
  },
  {
   "cell_type": "code",
   "execution_count": null,
   "metadata": {},
   "outputs": [],
   "source": []
  }
 ],
 "metadata": {
  "kernelspec": {
   "display_name": "Python 3",
   "language": "python",
   "name": "python3"
  },
  "language_info": {
   "codemirror_mode": {
    "name": "ipython",
    "version": 3
   },
   "file_extension": ".py",
   "mimetype": "text/x-python",
   "name": "python",
   "nbconvert_exporter": "python",
   "pygments_lexer": "ipython3",
   "version": "3.8.8"
  }
 },
 "nbformat": 4,
 "nbformat_minor": 2
}
