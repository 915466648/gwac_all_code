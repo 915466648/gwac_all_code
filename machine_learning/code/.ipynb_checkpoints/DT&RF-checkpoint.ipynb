{
 "cells": [
  {
   "cell_type": "code",
   "execution_count": 2,
   "metadata": {},
   "outputs": [],
   "source": [
    "from sklearn import preprocessing\n",
    "from sklearn.tree import DecisionTreeClassifier\n",
    "from sklearn import tree\n",
    "from sklearn.ensemble import RandomForestClassifier\n",
    "from numpy import loadtxt, sum, size, where, abs, average, std, ones,sign, sqrt, max, min, diff, sort, floor, array, concatenate\n",
    "import numpy as np\n",
    "from scipy import stats\n",
    "from os import listdir\n",
    "from sklearn.metrics import classification_report\n",
    "import joblib\n",
    "# import graphviz"
   ]
  },
  {
   "cell_type": "markdown",
   "metadata": {},
   "source": [
    "## 定义对mag的特征提取函数"
   ]
  },
  {
   "cell_type": "code",
   "execution_count": 3,
   "metadata": {},
   "outputs": [],
   "source": [
    "def calculate_F(n, m, mag):\n",
    "    flux = 10 ** (-0.4 * mag)\n",
    "    N = size(flux)\n",
    "    sorted_flux = sort(flux)\n",
    "    n = int(floor(N * n / 100))\n",
    "    m = int(floor(N * m / 100))\n",
    "    f_n = sorted_flux[n]\n",
    "    f_m = sorted_flux[m]\n",
    "    return f_m - f_n"
   ]
  },
  {
   "cell_type": "code",
   "execution_count": 4,
   "metadata": {},
   "outputs": [],
   "source": [
    "def moment_based_features(mag):\n",
    "    n = size(mag)\n",
    "    ave_mag = average(mag)\n",
    "    weights = 1\n",
    "    wtd_ave_mag = average(mag)\n",
    "\n",
    "    delta = std(mag)\n",
    "    beyond1std = size(where(abs(mag - wtd_ave_mag) > delta)) / n\n",
    "    kurtosis = stats.kurtosis(mag)\n",
    "    skew = stats.skew(mag)\n",
    "\n",
    "    sk_1 = n * (n + 1) / ((n - 1) * (n - 2) * (n - 3))\n",
    "    sk_2 = 3 * (n - 1) ** 2 / ((n - 2) * (n - 3))\n",
    "    sk = sk_1 * sum(((mag - ave_mag) / std(mag, ddof=1)) ** 4) - sk_2\n",
    "\n",
    "    delta_i = sqrt(n / (n - 1)) * ((mag - ave_mag) / delta)\n",
    "    P_k = delta_i ** 2 - 1\n",
    "    stetson_j = sum(weights * sign(P_k) * sqrt(abs(P_k))) / sum(weights)\n",
    "    stetson_k = 1 / n * sum(abs(delta_i)) / sqrt(1 / n * sum(delta_i ** 2))\n",
    "\n",
    "    return [beyond1std, kurtosis, skew, sk, stetson_j, stetson_k]"
   ]
  },
  {
   "cell_type": "code",
   "execution_count": 5,
   "metadata": {},
   "outputs": [],
   "source": [
    "def magnitude_based_features(mag):\n",
    "    slope = diff(mag)\n",
    "    amp = max(mag) - min(mag)\n",
    "    max_slope = max(abs(slope))\n",
    "    mad = stats.median_abs_deviation(mag)\n",
    "\n",
    "    return [amp, max_slope, mad]\n"
   ]
  },
  {
   "cell_type": "code",
   "execution_count": 6,
   "metadata": {},
   "outputs": [],
   "source": [
    "def percentile_based_features(mag):\n",
    "    F_5_95 = calculate_F(5, 95, mag)\n",
    "    fpr20 = calculate_F(40, 60, mag) / F_5_95\n",
    "    fpr35 = calculate_F(32.5, 67.5, mag) / F_5_95\n",
    "    fpr50 = calculate_F(25, 75, mag) / F_5_95\n",
    "    fpr65 = calculate_F(17.5, 82.5, mag) / F_5_95\n",
    "    fpr80 = calculate_F(10, 90, mag) / F_5_95\n",
    "\n",
    "    return [fpr20, fpr35, fpr50, fpr65, fpr80]"
   ]
  },
  {
   "cell_type": "code",
   "execution_count": 7,
   "metadata": {},
   "outputs": [],
   "source": [
    "def get_feature(mag):\n",
    "    mag_scaled = preprocessing.scale(mag)\n",
    "    features1 = moment_based_features(mag_scaled)\n",
    "    features2 = magnitude_based_features(mag_scaled)\n",
    "    features3 = percentile_based_features(mag_scaled)\n",
    "    return array(features1 + features2 + features3)"
   ]
  },
  {
   "cell_type": "code",
   "execution_count": 8,
   "metadata": {},
   "outputs": [],
   "source": [
    "# 得到提取的特征，依次为beyond1std, kurtosis, skew, sk, stetson_j, stetson_k，amp, max_slope, mad，fpr20, fpr35, fpr50, fpr65, fpr80\n",
    "def get_data(path):\n",
    "    magarray = loadtxt(path,dtype=str,delimiter = ',',encoding='utf-8-sig')\n",
    "    feature = ones([len(magarray), 14])\n",
    "    for i,maglist in enumerate(magarray):\n",
    "        mag = maglist[0:30]\n",
    "        feature[i, :] = get_feature(mag)\n",
    "    return feature"
   ]
  },
  {
   "cell_type": "markdown",
   "metadata": {},
   "source": [
    "## 加载数据，计算特征，并保存在文件中"
   ]
  },
  {
   "cell_type": "code",
   "execution_count": 9,
   "metadata": {
    "scrolled": true
   },
   "outputs": [],
   "source": [
    "## 计算train和test的特征矩阵，\n",
    "feature_train_0 = get_data('../../dataset/train_0.csv')\n",
    "# np.savetxt('./feature_train_0.txt', feature_train_0 ,fmt='%f',delimiter=',')\n",
    "feature_train_1 = get_data('../../dataset/train_1.csv')\n",
    "# np.savetxt('./feature_train_1.txt', feature_train_1 ,fmt='%f',delimiter=',')\n",
    "feature_test_1 = get_data('../../dataset/test_1.csv')\n",
    "# np.savetxt('./feature_test_1.txt', feature_test_1 ,fmt='%f',delimiter=',')\n",
    "feature_test_0 = get_data('../../dataset/test_0.csv')\n",
    "# np.savetxt('./feature_test_0.txt', feature_test_0 ,fmt='%f',delimiter=',')\n",
    "feature_train = concatenate((feature_train_0,feature_train_1))\n",
    "feature_test = concatenate((feature_test_0,feature_test_1))"
   ]
  },
  {
   "cell_type": "markdown",
   "metadata": {},
   "source": [
    "## 对数据进行整理，准备输入模型，包括shuffle"
   ]
  },
  {
   "cell_type": "code",
   "execution_count": 11,
   "metadata": {},
   "outputs": [],
   "source": [
    "## 生成train和test的label矩阵\n",
    "train_label_0 = ones(size(feature_train_0, 0))*0\n",
    "train_label_1 = ones(size(feature_train_1, 0))\n",
    "train_label = concatenate((train_label_0, train_label_1), axis=0)\n",
    "\n",
    "test_label_0 = ones(size(feature_test_0, 0))*0\n",
    "test_label_1 = ones(size(feature_test_1, 0))\n",
    "test_label = concatenate((test_label_0, test_label_1), axis=0)"
   ]
  },
  {
   "cell_type": "code",
   "execution_count": 12,
   "metadata": {},
   "outputs": [
    {
     "name": "stdout",
     "output_type": "stream",
     "text": [
      "(38022, 14)\n",
      "(38022, 1)\n",
      "(38022, 15)\n"
     ]
    }
   ],
   "source": [
    "#将train_label的shape改成（,38022，1）才能和feature拼接，如果不改，是（38022，）就不能拼接\n",
    "train_label=train_label[:,np.newaxis]\n",
    "print(feature_train.shape)\n",
    "print(train_label.shape)\n",
    "train = concatenate((feature_train,train_label),axis=1)\n",
    "print(train.shape)\n",
    "## 打乱顺序\n",
    "np.random.shuffle(train)"
   ]
  },
  {
   "cell_type": "code",
   "execution_count": 13,
   "metadata": {},
   "outputs": [
    {
     "name": "stdout",
     "output_type": "stream",
     "text": [
      "(9505, 14)\n",
      "(9505, 1)\n",
      "(9505, 15)\n"
     ]
    }
   ],
   "source": [
    "test_label=test_label[:,np.newaxis]\n",
    "print(feature_test.shape)\n",
    "print(test_label.shape)\n",
    "test= concatenate((feature_test,test_label),axis=1)\n",
    "print(test.shape)\n",
    "## 打乱顺序\n",
    "np.random.shuffle(test)"
   ]
  },
  {
   "cell_type": "markdown",
   "metadata": {},
   "source": [
    "## 决策树模型"
   ]
  },
  {
   "cell_type": "markdown",
   "metadata": {},
   "source": [
    "https://blog.csdn.net/qq_38384924/article/details/98382513\n",
    "\n",
    "https://blog.csdn.net/TeFuirnever/article/details/99656571\n",
    "\n",
    "https://blog.csdn.net/yxc9681/article/details/88285061"
   ]
  },
  {
   "cell_type": "code",
   "execution_count": 18,
   "metadata": {
    "scrolled": true
   },
   "outputs": [
    {
     "name": "stdout",
     "output_type": "stream",
     "text": [
      "0.9882436484140761 0.983903208837454\n",
      "              precision    recall  f1-score   support\n",
      "\n",
      "         0.0     0.9962    0.9815    0.9888      6872\n",
      "         1.0     0.9535    0.9901    0.9715      2633\n",
      "\n",
      "    accuracy                         0.9839      9505\n",
      "   macro avg     0.9749    0.9858    0.9801      9505\n",
      "weighted avg     0.9844    0.9839    0.9840      9505\n",
      "\n"
     ]
    }
   ],
   "source": [
    "##  训练决策树\n",
    "clf = DecisionTreeClassifier(max_features=14, max_depth=15 )\n",
    "clf = clf.fit(train[:,0:14], train[:,14])\n",
    "train_score_c = clf.score(train[:,0:14], train[:,14])  # 返回预测的准确度\n",
    "test_score_c = clf.score(test[:,0:14], test[:,14])\n",
    "print(train_score_c,test_score_c)\n",
    "print(classification_report(test[:,14], clf.predict(test[:,0:14]),digits=4))\n",
    "# joblib.dump(clf, './DecisionTreeClassifier.pkl')"
   ]
  },
  {
   "cell_type": "code",
   "execution_count": 26,
   "metadata": {},
   "outputs": [
    {
     "data": {
      "text/plain": [
       "(38022, 11)"
      ]
     },
     "execution_count": 26,
     "metadata": {},
     "output_type": "execute_result"
    }
   ],
   "source": [
    "# 得到提取的特征，依次为beyond1std, kurtosis, skew, sk, stetson_j, stetson_k，amp, max_slope, mad，fpr20, fpr35, fpr50, fpr65, fpr80\n",
    "train[:,[1,2,5,6,7,8,9,10,11,12,13]].shape"
   ]
  },
  {
   "cell_type": "code",
   "execution_count": null,
   "metadata": {},
   "outputs": [],
   "source": [
    "##  使用较少特征训练决策树\n",
    "clf = DecisionTreeClassifier(max_features=14, max_depth=15 )\n",
    "clf = clf.fit(train[:,[1,2,5,6,7,8,9,10,11,12,13]], train[:,15])\n",
    "train_score_c = clf.score(train[:,[1,2,5,6,7,8,9,10,11,12,13]], train[:,15])  # 返回预测的准确度\n",
    "test_score_c = clf.score(test[:,[1,2,5,6,7,8,9,10,11,12,13]], test[:,15])\n",
    "print(train_score_c,test_score_c)\n",
    "print(classification_report(test[:,15], clf.predict(test[:,[1,2,5,6,7,8,9,10,11,12,13]]),digits=4))\n",
    "# joblib.dump(clf, './DecisionTreeClassifier.pkl')"
   ]
  },
  {
   "cell_type": "code",
   "execution_count": 26,
   "metadata": {
    "scrolled": false
   },
   "outputs": [
    {
     "name": "stdout",
     "output_type": "stream",
     "text": [
      "48859178.31864036\n",
      "48859178.74525647\n",
      "0.4266161099076271\n",
      "48859178.74530517\n",
      "48859179.16138619\n",
      "0.4160810187458992\n",
      "48859179.16143391\n",
      "48859179.57808605\n",
      "0.4166521355509758\n",
      "48859179.578132436\n",
      "48859179.994732246\n",
      "0.4165998101234436\n",
      "48859179.99477812\n",
      "48859180.411218256\n",
      "0.41644013673067093\n",
      "48859180.41126411\n",
      "48859180.82846632\n",
      "0.4172022119164467\n",
      "48859180.82851262\n",
      "48859181.24497774\n",
      "0.416465125977993\n",
      "48859181.24502636\n",
      "48859181.66162826\n",
      "0.41660190373659134\n",
      "48859181.66167414\n",
      "48859182.07750164\n",
      "0.4158274978399277\n",
      "48859182.077546306\n",
      "48859182.49354739\n",
      "0.4160010814666748\n",
      "[0.4266161099076271, 0.4160810187458992, 0.4166521355509758, 0.4165998101234436, 0.41644013673067093, 0.4172022119164467, 0.416465125977993, 0.41660190373659134, 0.4158274978399277, 0.4160010814666748]\n",
      "0.417448703199625\n"
     ]
    }
   ],
   "source": [
    "# 决策树的训练时间\n",
    "from timeit import default_timer as timer\n",
    "train_time_dt = []\n",
    "for i in range(10):\n",
    "    start_time = timer()\n",
    "    print(start_time)\n",
    "    clf.fit(train[:,0:14], train[:,14])\n",
    "    current_time = timer()\n",
    "    print(current_time)\n",
    "    train_time_dt.append(current_time-start_time)\n",
    "    print(current_time-start_time)\n",
    "    i = i+1\n",
    "print(train_time_dt)\n",
    "print(np.mean(train_time_dt))"
   ]
  },
  {
   "cell_type": "code",
   "execution_count": 10,
   "metadata": {},
   "outputs": [
    {
     "ename": "NameError",
     "evalue": "name 'timer' is not defined",
     "output_type": "error",
     "traceback": [
      "\u001b[0;31m---------------------------------------------------------------------------\u001b[0m",
      "\u001b[0;31mNameError\u001b[0m                                 Traceback (most recent call last)",
      "\u001b[0;32m<ipython-input-10-b7ead3ea6f38>\u001b[0m in \u001b[0;36m<module>\u001b[0;34m\u001b[0m\n\u001b[1;32m      1\u001b[0m \u001b[0mtest_time_dt\u001b[0m \u001b[0;34m=\u001b[0m \u001b[0;34m[\u001b[0m\u001b[0;34m]\u001b[0m\u001b[0;34m\u001b[0m\u001b[0;34m\u001b[0m\u001b[0m\n\u001b[1;32m      2\u001b[0m \u001b[0;32mfor\u001b[0m \u001b[0mi\u001b[0m \u001b[0;32min\u001b[0m \u001b[0mrange\u001b[0m\u001b[0;34m(\u001b[0m\u001b[0;36m10\u001b[0m\u001b[0;34m)\u001b[0m\u001b[0;34m:\u001b[0m\u001b[0;34m\u001b[0m\u001b[0;34m\u001b[0m\u001b[0m\n\u001b[0;32m----> 3\u001b[0;31m     \u001b[0mstart_time\u001b[0m \u001b[0;34m=\u001b[0m \u001b[0mtimer\u001b[0m\u001b[0;34m(\u001b[0m\u001b[0;34m)\u001b[0m\u001b[0;34m\u001b[0m\u001b[0;34m\u001b[0m\u001b[0m\n\u001b[0m\u001b[1;32m      4\u001b[0m     \u001b[0mprint\u001b[0m\u001b[0;34m(\u001b[0m\u001b[0mstart_time\u001b[0m\u001b[0;34m)\u001b[0m\u001b[0;34m\u001b[0m\u001b[0;34m\u001b[0m\u001b[0m\n\u001b[1;32m      5\u001b[0m     \u001b[0mclf\u001b[0m\u001b[0;34m.\u001b[0m\u001b[0mpredict\u001b[0m\u001b[0;34m(\u001b[0m\u001b[0mtest\u001b[0m\u001b[0;34m[\u001b[0m\u001b[0;34m:\u001b[0m\u001b[0;34m,\u001b[0m\u001b[0;36m0\u001b[0m\u001b[0;34m:\u001b[0m\u001b[0;36m14\u001b[0m\u001b[0;34m]\u001b[0m\u001b[0;34m)\u001b[0m\u001b[0;34m\u001b[0m\u001b[0;34m\u001b[0m\u001b[0m\n",
      "\u001b[0;31mNameError\u001b[0m: name 'timer' is not defined"
     ]
    }
   ],
   "source": [
    "# 决策树的测试时间\n",
    "test_time_dt = []\n",
    "for i in range(10):\n",
    "    start_time = timer()\n",
    "    print(start_time)\n",
    "    clf.predict(test[:,0:14])\n",
    "    current_time = timer()\n",
    "    print(current_time)\n",
    "    test_time_dt.append(current_time-start_time)\n",
    "    print(current_time-start_time)\n",
    "    i = i+1\n",
    "print(test_time_dt)\n",
    "print(np.mean(test_time_dt))"
   ]
  },
  {
   "cell_type": "code",
   "execution_count": 15,
   "metadata": {},
   "outputs": [
    {
     "name": "stdout",
     "output_type": "stream",
     "text": [
      "决策树的特征重要性排序\n",
      " 1) skew                           0.394200\n",
      " 2) max_slope                      0.124816\n",
      " 3) amp                            0.101379\n",
      " 4) fpr65                          0.067451\n",
      " 5) fpr35                          0.061255\n",
      " 6) fpr20                          0.058771\n",
      " 7) mad                            0.041256\n",
      " 8) stetson_k                      0.032251\n",
      " 9) fpr80                          0.027791\n",
      "10) fpr50                          0.025341\n",
      "11) sk                             0.021403\n",
      "12) beyond1std                     0.018633\n",
      "13) kurtosis                       0.014852\n",
      "14) stetson_j                      0.010599\n"
     ]
    }
   ],
   "source": [
    "### 进行决策树的模型剖析\n",
    "feature_name = ['beyond1std', 'kurtosis', 'skew', 'sk', 'stetson_j', 'stetson_k','amp', 'max_slope', 'mad','fpr20', 'fpr35', 'fpr50', 'fpr65', 'fpr80']\n",
    "clf_importances = clf.feature_importances_\n",
    "clf_indices = np.argsort(clf_importances)[::-1]\n",
    "print(\"决策树的特征重要性排序\")\n",
    "for f in range(train.shape[1]-1):\n",
    "    print(\"%2d) %-*s %f\" % (f + 1, 30, feature_name[clf_indices[f]], clf_importances[clf_indices[f]]))"
   ]
  },
  {
   "cell_type": "code",
   "execution_count": 16,
   "metadata": {},
   "outputs": [],
   "source": [
    "dot_data = tree.export_graphviz(clf,feature_names= feature_name,class_names=[\"耀发\",\"非耀发\"],filled=True,rounded=True)\n",
    "graph = graphviz.Source(dot_data)#画树\n",
    "# graph.render('./desiciontree5',view=True)"
   ]
  },
  {
   "cell_type": "markdown",
   "metadata": {},
   "source": [
    "## 随机森林模型"
   ]
  },
  {
   "cell_type": "markdown",
   "metadata": {},
   "source": [
    "https://blog.csdn.net/xiaonannanxn/article/details/51374483\n",
    "\n",
    "https://www.jianshu.com/p/a493ebb90cce\n",
    "\n",
    "https://blog.csdn.net/w952470866/article/details/78987265\n",
    "\n",
    "https://zhuanlan.zhihu.com/p/212361817#:~:text=sklearn%EF%BC%88%E4%B8%83%EF%BC%89-%E9%9A%8F%E6%9C%BA%E6%A3%AE%E6%9E%97.%20%E5%9C%A8%E6%9C%BA%E5%99%A8%E5%AD%A6%E4%B9%A0%E4%B8%AD%EF%BC%8C%E9%9A%8F%E6%9C%BA%E6%A3%AE%E6%9E%97%E6%98%AF%E4%B8%80%E4%B8%AA%E5%8C%85%E5%90%AB%E5%A4%9A%E4%B8%AA%E5%86%B3%E7%AD%96%E6%A0%91%EF%BC%88%E5%86%B3%E7%AD%96%E6%A0%91%E7%9A%84%E6%A0%B8%E5%BF%83%E9%97%AE%E9%A2%98%E6%9C%89%E4%B8%A4%E4%B8%AA%EF%BC%9A%E6%89%BE%E5%87%BA%E6%AD%A3%E7%A1%AE%E7%9A%84%E7%89%B9%E5%BE%81%E5%88%86%E7%B1%BB%EF%BC%8C%E5%8D%B3%E5%A6%82%E4%BD%95%E5%88%86%E6%9E%9D%EF%BC%9B%E4%BA%8C%E6%98%AF%E6%A0%91%E7%94%9F%E9%95%BF%E5%88%B0%E4%BB%80%E4%B9%88%E6%97%B6%E5%80%99%E5%BA%94%E8%AF%A5%E5%81%9C%E4%B8%8B%EF%BC%8C%E6%88%AA%E6%9E%9D%EF%BC%89%E7%9A%84%E5%88%86%E7%B1%BB%E5%99%A8%EF%BC%8C%E5%B9%B6%E4%B8%94%E5%85%B6%E8%BE%93%E5%87%BA%E7%9A%84%E7%B1%BB%E5%88%AB%E6%98%AF%E6%9C%89%E4%B8%AA%E5%88%AB%E6%A0%91%E8%BE%93%E5%87%BA%E7%9A%84%E7%B1%BB%E5%88%AB%E7%9A%84%E4%BC%97%E6%95%B0%E8%80%8C%E5%AE%9A%E3%80%82.,%E9%80%9A%E8%BF%87%E6%9E%84%E5%BB%BA%E5%A4%9A%E4%B8%AA%E5%88%86%E7%B1%BB%E5%99%A8%EF%BC%8C%E8%BE%BE%E5%88%B0%E6%9C%80%E7%BB%88%E7%9A%84%E4%B8%80%E4%B8%AA%E5%88%86%E7%B1%BB%E6%95%88%E6%9E%9C%E8%83%BD%E5%A4%9F%E8%B6%85%E8%BF%87%E5%86%B3%E7%AD%96%E6%A0%91%EF%BC%88%E9%9A%8F%E6%9C%BA%E6%A3%AE%E6%9E%97%E6%98%AF%E7%94%B1%E5%BE%88%E5%A4%9A%E5%86%B3%E7%AD%96%E6%A0%91%E6%9E%84%E6%88%90%E7%9A%84%EF%BC%8C%E4%B8%8D%E5%90%8C%E5%86%B3%E7%AD%96%E6%A0%91%E4%B9%8B%E9%97%B4%E6%B2%A1%E6%9C%89%E5%85%B3%E8%81%94%EF%BC%89%EF%BC%8C%E6%9C%89%E6%96%B0%E7%9A%84%E6%95%B0%E6%8D%AE%E8%BF%9B%E5%85%A5%EF%BC%8C%E5%B0%B1%E8%AE%A9%E6%A3%AE%E6%9E%97%E4%B8%AD%E7%9A%84%E6%AF%8F%E4%B8%80%E5%88%BB%E5%86%B3%E7%AD%96%E6%A0%91%E5%88%86%E5%88%AB%E8%BF%9B%E8%A1%8C%E5%88%A4%E6%96%AD%E5%92%8C%E5%88%86%E7%B1%BB%EF%BC%8C%E6%AF%8F%E4%B8%AA%E5%86%B3%E7%AD%96%E6%A0%91%E4%BC%9A%E5%BE%97%E5%88%B0%E4%B8%80%E4%B8%AA%E5%88%86%E7%B1%BB%E7%BB%93%E6%9E%9C%EF%BC%8C%E5%86%B3%E7%AD%96%E6%A0%91%E7%9A%84%E5%88%86%E7%B1%BB%E7%BB%93%E6%9E%9C%E4%B8%AD%E7%9A%84%E5%93%AA%E4%B8%80%E4%B8%AA%E5%88%86%E7%B1%BB%E6%9C%80%E5%A4%9A%EF%BC%8C%E9%82%A3%E4%B9%88%E9%9A%8F%E6%9C%BA%E6%A3%AE%E6%9E%97%E5%B0%B1%E4%BC%9A%E6%8A%8A%E8%BF%99%E4%B8%AA%E7%BB%93%E6%9E%9C%E5%BD%93%E4%BD%9C%E6%9C%80%E7%BB%88%E7%9A%84%E7%BB%93%E6%9E%9C%E3%80%82.%20%E6%9E%84%E5%BB%BA%E9%9A%8F%E6%9C%BA%E6%A3%AE%E6%9E%97%E7%9A%84%E6%AD%A5%E9%AA%A4%E5%A4%A7%E6%A6%82%E5%8C%85%E6%8B%AC%EF%BC%9A1.%E6%95%B0%E6%8D%AE%E7%9A%84%E9%9A%8F%E6%9C%BA%E9%80%89%E5%8F%96%EF%BC%8C%E7%89%B9%E5%BE%81%E7%9A%84%E9%9A%8F%E6%9C%BA%E9%80%89%E5%8F%96%E3%80%82.\n"
   ]
  },
  {
   "cell_type": "code",
   "execution_count": 17,
   "metadata": {},
   "outputs": [
    {
     "name": "stdout",
     "output_type": "stream",
     "text": [
      "0.9938719688601336 0.9917937927406628\n",
      "              precision    recall  f1-score   support\n",
      "\n",
      "         0.0     0.9997    0.9889    0.9943      6872\n",
      "         1.0     0.9719    0.9992    0.9854      2633\n",
      "\n",
      "    accuracy                         0.9918      9505\n",
      "   macro avg     0.9858    0.9941    0.9898      9505\n",
      "weighted avg     0.9920    0.9918    0.9918      9505\n",
      "\n"
     ]
    }
   ],
   "source": [
    "## 训练随机森林\n",
    "rfc = RandomForestClassifier(max_features=14, max_depth=15,n_estimators=70)\n",
    "rfc = rfc.fit(train[:,0:14], train[:,14])\n",
    "train_score_r = rfc.score(train[:,0:14], train[:,14])  # 返回预测的准确度\n",
    "test_score_r = rfc.score(test[:,0:14], test[:,14])\n",
    "print(train_score_r,test_score_r)\n",
    "print(classification_report(test[:,14], rfc.predict(test[:,0:14]),digits=4))\n",
    "# joblib.dump(rfc, './RandomForestClassifier.pkl')\n",
    "# crfc2 = joblib.load('./RandomForestClassifier.pkl')"
   ]
  },
  {
   "cell_type": "code",
   "execution_count": 28,
   "metadata": {},
   "outputs": [
    {
     "name": "stdout",
     "output_type": "stream",
     "text": [
      "48859235.02238029\n",
      "48859253.05061975\n",
      "18.028239458799362\n",
      "48859253.050768524\n",
      "48859270.97318602\n",
      "17.922417499125004\n",
      "48859270.97324957\n",
      "48859288.91578768\n",
      "17.942538112401962\n",
      "48859288.9158538\n",
      "48859307.00465871\n",
      "18.08880490809679\n",
      "48859307.00482542\n",
      "48859324.992248766\n",
      "17.987423345446587\n",
      "48859324.99231303\n",
      "48859342.96112135\n",
      "17.968808323144913\n",
      "48859342.961186685\n",
      "48859360.88742349\n",
      "17.92623680830002\n",
      "48859360.88748919\n",
      "48859378.853128836\n",
      "17.965639643371105\n",
      "48859378.853275776\n",
      "48859396.83971216\n",
      "17.986436381936073\n",
      "48859396.839771174\n",
      "48859414.92508482\n",
      "18.08531364798546\n",
      "[18.028239458799362, 17.922417499125004, 17.942538112401962, 18.08880490809679, 17.987423345446587, 17.968808323144913, 17.92623680830002, 17.965639643371105, 17.986436381936073, 18.08531364798546]\n",
      "17.990185812860727\n"
     ]
    }
   ],
   "source": [
    "# 随机森林的训练时间\n",
    "from timeit import default_timer as timer\n",
    "train_time_rf = []\n",
    "for i in range(10):\n",
    "    start_time = timer()\n",
    "    print(start_time)\n",
    "    rfc.fit(train[:,0:14], train[:,14])\n",
    "    current_time = timer()\n",
    "    print(current_time)\n",
    "    train_time_rf.append(current_time-start_time)\n",
    "    print(current_time-start_time)\n",
    "    i = i+1\n",
    "print(train_time_rf)\n",
    "print(np.mean(train_time_rf))"
   ]
  },
  {
   "cell_type": "code",
   "execution_count": 29,
   "metadata": {},
   "outputs": [
    {
     "name": "stdout",
     "output_type": "stream",
     "text": [
      "48859512.28598021\n",
      "48859512.341637254\n",
      "0.0556570440530777\n",
      "48859512.34168719\n",
      "48859512.39169664\n",
      "0.05000945180654526\n",
      "48859512.39173919\n",
      "48859512.43981989\n",
      "0.048080697655677795\n",
      "48859512.43985836\n",
      "48859512.48727471\n",
      "0.04741634428501129\n",
      "48859512.48731089\n",
      "48859512.53490145\n",
      "0.04759056121110916\n",
      "48859512.534942634\n",
      "48859512.58241224\n",
      "0.0474696084856987\n",
      "48859512.58244896\n",
      "48859512.62980332\n",
      "0.04735436290502548\n",
      "48859512.62983981\n",
      "48859512.677211314\n",
      "0.047371506690979004\n",
      "48859512.67724808\n",
      "48859512.72474357\n",
      "0.047495484352111816\n",
      "48859512.72478063\n",
      "48859512.77343614\n",
      "0.04865550994873047\n",
      "[0.0556570440530777, 0.05000945180654526, 0.048080697655677795, 0.04741634428501129, 0.04759056121110916, 0.0474696084856987, 0.04735436290502548, 0.047371506690979004, 0.047495484352111816, 0.04865550994873047]\n",
      "0.04871005713939667\n"
     ]
    }
   ],
   "source": [
    "# 随机森林的测试时间\n",
    "from timeit import default_timer as timer\n",
    "test_time_rf = []\n",
    "for i in range(10):\n",
    "    start_time = timer()\n",
    "    print(start_time)\n",
    "    rfc.predict(test[:,0:14])\n",
    "    current_time = timer()\n",
    "    print(current_time)\n",
    "    test_time_rf.append(current_time-start_time)\n",
    "    print(current_time-start_time)\n",
    "    i = i+1\n",
    "print(test_time_rf)\n",
    "print(np.mean(test_time_rf))"
   ]
  },
  {
   "cell_type": "code",
   "execution_count": 18,
   "metadata": {
    "scrolled": false
   },
   "outputs": [
    {
     "name": "stdout",
     "output_type": "stream",
     "text": [
      "随机森林的特征重要性排序\n",
      " 1) skew                           0.392478\n",
      " 2) max_slope                      0.129698\n",
      " 3) amp                            0.109865\n",
      " 4) fpr35                          0.060976\n",
      " 5) fpr65                          0.058131\n",
      " 6) fpr20                          0.054748\n",
      " 7) mad                            0.041733\n",
      " 8) fpr80                          0.034711\n",
      " 9) fpr50                          0.029315\n",
      "10) stetson_k                      0.027215\n",
      "11) stetson_j                      0.024212\n",
      "12) sk                             0.014194\n",
      "13) kurtosis                       0.012859\n",
      "14) beyond1std                     0.009865\n"
     ]
    }
   ],
   "source": [
    "### 进行随机森林模型剖析\n",
    "feature_name = ['beyond1std', 'kurtosis', 'skew', 'sk', 'stetson_j', 'stetson_k','amp', 'max_slope', 'mad','fpr20', 'fpr35', 'fpr50', 'fpr65', 'fpr80']\n",
    "rfc_importances = rfc.feature_importances_\n",
    "rfc_indices = np.argsort(rfc_importances)[::-1]\n",
    "print(\"随机森林的特征重要性排序\")\n",
    "for f in range(train.shape[1]-1):\n",
    "    print(\"%2d) %-*s %f\" % (f + 1, 30, feature_name[rfc_indices[f]], rfc_importances[rfc_indices[f]]))"
   ]
  },
  {
   "cell_type": "markdown",
   "metadata": {},
   "source": [
    "## 使用提取出的特征的支持向量机模型，但是效果不好，在另一份代码里直接使用序列数据作为SVM的输入"
   ]
  },
  {
   "cell_type": "markdown",
   "metadata": {},
   "source": [
    "https://www.jianshu.com/p/a9f9954355b3\n",
    "\n",
    "https://blog.csdn.net/moriarty_jack/article/details/108432867"
   ]
  },
  {
   "cell_type": "code",
   "execution_count": 15,
   "metadata": {},
   "outputs": [
    {
     "name": "stdout",
     "output_type": "stream",
     "text": [
      "The score of rbf is : 0.906575\n",
      "The score of linear is : 0.889216\n",
      "The score of poly is : 0.891741\n",
      "The score of sigmoid is : 0.615992\n"
     ]
    }
   ],
   "source": [
    "from sklearn import svm\n",
    "X_train = train[:,0:14]\n",
    "y_train = train[:,14]\n",
    "X_test = test[:,0:14]\n",
    "y_test = test[:,14]\n",
    "\n",
    "\n",
    "# kernel = 'rbf'\n",
    "clf_rbf = svm.SVC(kernel='rbf')\n",
    "clf_rbf.fit(X_train,y_train)\n",
    "score_rbf = clf_rbf.score(X_test,y_test)\n",
    "print(\"The score of rbf is : %f\"%score_rbf)\n",
    "\n",
    "# kernel = 'linear'\n",
    "clf_linear = svm.SVC(kernel='linear')\n",
    "clf_linear.fit(X_train,y_train)\n",
    "score_linear = clf_linear.score(X_test,y_test)\n",
    "print(\"The score of linear is : %f\"%score_linear)\n",
    "\n",
    "# kernel = 'poly'\n",
    "clf_poly = svm.SVC(kernel='poly')\n",
    "clf_poly.fit(X_train,y_train)\n",
    "score_poly = clf_poly.score(X_test,y_test)\n",
    "print(\"The score of poly is : %f\"%score_poly)\n",
    "\n",
    "# kernel = 'sigmoid'\n",
    "clf_sigmoid = svm.SVC(kernel='sigmoid')\n",
    "clf_sigmoid.fit(X_train,y_train)\n",
    "score_sigmoid = clf_sigmoid.score(X_test,y_test)\n",
    "print(\"The score of sigmoid is : %f\"%score_sigmoid)"
   ]
  },
  {
   "cell_type": "code",
   "execution_count": 16,
   "metadata": {
    "scrolled": true
   },
   "outputs": [
    {
     "name": "stdout",
     "output_type": "stream",
     "text": [
      "              precision    recall  f1-score   support\n",
      "\n",
      "         0.0     0.9072    0.9700    0.9376      6872\n",
      "         1.0     0.9045    0.7410    0.8146      2633\n",
      "\n",
      "    accuracy                         0.9066      9505\n",
      "   macro avg     0.9058    0.8555    0.8761      9505\n",
      "weighted avg     0.9064    0.9066    0.9035      9505\n",
      "\n"
     ]
    }
   ],
   "source": [
    "print(classification_report(y_test, clf_rbf.predict(X_test),digits=4))"
   ]
  }
 ],
 "metadata": {
  "kernelspec": {
   "display_name": "Python 3",
   "language": "python",
   "name": "python3"
  },
  "language_info": {
   "codemirror_mode": {
    "name": "ipython",
    "version": 3
   },
   "file_extension": ".py",
   "mimetype": "text/x-python",
   "name": "python",
   "nbconvert_exporter": "python",
   "pygments_lexer": "ipython3",
   "version": "3.8.8"
  }
 },
 "nbformat": 4,
 "nbformat_minor": 2
}
