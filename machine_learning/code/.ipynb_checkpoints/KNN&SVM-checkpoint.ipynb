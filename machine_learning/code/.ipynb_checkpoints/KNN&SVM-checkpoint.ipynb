{
 "cells": [
  {
   "cell_type": "code",
   "execution_count": 1,
   "metadata": {},
   "outputs": [],
   "source": [
    "from sklearn import preprocessing\n",
    "from numpy import loadtxt, sum, size, where, abs, average, std, ones,sign, sqrt, max, min, diff, sort, floor, array, concatenate\n",
    "import numpy as np\n",
    "from scipy import stats\n",
    "from os import listdir\n",
    "from sklearn.neighbors import KNeighborsClassifier\n",
    "from sklearn.metrics import classification_report\n",
    "import joblib\n",
    "import datetime"
   ]
  },
  {
   "cell_type": "code",
   "execution_count": 2,
   "metadata": {},
   "outputs": [],
   "source": [
    "## 加载序列数据\n",
    "train_0 = loadtxt('../../dataset/train_0.csv',dtype=str,delimiter = ',',encoding='utf-8-sig')\n",
    "train_1 = loadtxt('../../dataset/train_1.csv',dtype=str,delimiter = ',',encoding='utf-8-sig')\n",
    "test_1 = loadtxt('../../dataset/test_0.csv',dtype=str,delimiter = ',',encoding='utf-8-sig')\n",
    "test_0 = loadtxt('../../dataset/test_1.csv',dtype=str,delimiter = ',',encoding='utf-8-sig')\n",
    "train = concatenate((train_0,train_1))\n",
    "test = concatenate((test_0,test_1))\n",
    "np.random.shuffle(train)\n",
    "np.random.shuffle(test)"
   ]
  },
  {
   "cell_type": "code",
   "execution_count": 3,
   "metadata": {},
   "outputs": [],
   "source": [
    "X_train = train[:,0:30]\n",
    "Y_train = train[:,30].ravel()\n",
    "X_test = test[:,0:30]\n",
    "Y_test = test[:,30].ravel()"
   ]
  },
  {
   "cell_type": "code",
   "execution_count": 4,
   "metadata": {},
   "outputs": [
    {
     "name": "stdout",
     "output_type": "stream",
     "text": [
      "(38022, 30) (38022,) (9505, 30) (9505,)\n"
     ]
    }
   ],
   "source": [
    "print(X_train.shape,Y_train.shape,X_test.shape,Y_test.shape)    "
   ]
  },
  {
   "cell_type": "markdown",
   "metadata": {},
   "source": [
    "### KNN "
   ]
  },
  {
   "cell_type": "code",
   "execution_count": 5,
   "metadata": {
    "scrolled": true
   },
   "outputs": [
    {
     "name": "stderr",
     "output_type": "stream",
     "text": [
      "/home/wamdm/anaconda3/lib/python3.8/site-packages/sklearn/utils/validation.py:63: FutureWarning: Arrays of bytes/strings is being converted to decimal numbers if dtype='numeric'. This behavior is deprecated in 0.24 and will be removed in 1.1 (renaming of 0.26). Please convert your data to numeric values explicitly instead.\n",
      "  return f(*args, **kwargs)\n",
      "/home/wamdm/anaconda3/lib/python3.8/site-packages/sklearn/utils/validation.py:63: FutureWarning: Arrays of bytes/strings is being converted to decimal numbers if dtype='numeric'. This behavior is deprecated in 0.24 and will be removed in 1.1 (renaming of 0.26). Please convert your data to numeric values explicitly instead.\n",
      "  return f(*args, **kwargs)\n"
     ]
    },
    {
     "name": "stdout",
     "output_type": "stream",
     "text": [
      "0.35461826622486115\n",
      "0.33403777331113815\n"
     ]
    },
    {
     "name": "stderr",
     "output_type": "stream",
     "text": [
      "/home/wamdm/anaconda3/lib/python3.8/site-packages/sklearn/utils/validation.py:63: FutureWarning: Arrays of bytes/strings is being converted to decimal numbers if dtype='numeric'. This behavior is deprecated in 0.24 and will be removed in 1.1 (renaming of 0.26). Please convert your data to numeric values explicitly instead.\n",
      "  return f(*args, **kwargs)\n",
      "/home/wamdm/anaconda3/lib/python3.8/site-packages/sklearn/utils/validation.py:63: FutureWarning: Arrays of bytes/strings is being converted to decimal numbers if dtype='numeric'. This behavior is deprecated in 0.24 and will be removed in 1.1 (renaming of 0.26). Please convert your data to numeric values explicitly instead.\n",
      "  return f(*args, **kwargs)\n"
     ]
    },
    {
     "name": "stdout",
     "output_type": "stream",
     "text": [
      "0.32945317029953003\n",
      "0.33717330545186996\n",
      "0.3353852853178978\n"
     ]
    },
    {
     "name": "stderr",
     "output_type": "stream",
     "text": [
      "/home/wamdm/anaconda3/lib/python3.8/site-packages/sklearn/utils/validation.py:63: FutureWarning: Arrays of bytes/strings is being converted to decimal numbers if dtype='numeric'. This behavior is deprecated in 0.24 and will be removed in 1.1 (renaming of 0.26). Please convert your data to numeric values explicitly instead.\n",
      "  return f(*args, **kwargs)\n",
      "/home/wamdm/anaconda3/lib/python3.8/site-packages/sklearn/utils/validation.py:63: FutureWarning: Arrays of bytes/strings is being converted to decimal numbers if dtype='numeric'. This behavior is deprecated in 0.24 and will be removed in 1.1 (renaming of 0.26). Please convert your data to numeric values explicitly instead.\n",
      "  return f(*args, **kwargs)\n"
     ]
    },
    {
     "name": "stdout",
     "output_type": "stream",
     "text": [
      "0.32379890233278275\n",
      "0.32625606656074524\n"
     ]
    },
    {
     "name": "stderr",
     "output_type": "stream",
     "text": [
      "/home/wamdm/anaconda3/lib/python3.8/site-packages/sklearn/utils/validation.py:63: FutureWarning: Arrays of bytes/strings is being converted to decimal numbers if dtype='numeric'. This behavior is deprecated in 0.24 and will be removed in 1.1 (renaming of 0.26). Please convert your data to numeric values explicitly instead.\n",
      "  return f(*args, **kwargs)\n",
      "/home/wamdm/anaconda3/lib/python3.8/site-packages/sklearn/utils/validation.py:63: FutureWarning: Arrays of bytes/strings is being converted to decimal numbers if dtype='numeric'. This behavior is deprecated in 0.24 and will be removed in 1.1 (renaming of 0.26). Please convert your data to numeric values explicitly instead.\n",
      "  return f(*args, **kwargs)\n"
     ]
    },
    {
     "name": "stdout",
     "output_type": "stream",
     "text": [
      "0.32497720420360565\n",
      "0.3253369927406311\n"
     ]
    },
    {
     "name": "stderr",
     "output_type": "stream",
     "text": [
      "/home/wamdm/anaconda3/lib/python3.8/site-packages/sklearn/utils/validation.py:63: FutureWarning: Arrays of bytes/strings is being converted to decimal numbers if dtype='numeric'. This behavior is deprecated in 0.24 and will be removed in 1.1 (renaming of 0.26). Please convert your data to numeric values explicitly instead.\n",
      "  return f(*args, **kwargs)\n",
      "/home/wamdm/anaconda3/lib/python3.8/site-packages/sklearn/utils/validation.py:63: FutureWarning: Arrays of bytes/strings is being converted to decimal numbers if dtype='numeric'. This behavior is deprecated in 0.24 and will be removed in 1.1 (renaming of 0.26). Please convert your data to numeric values explicitly instead.\n",
      "  return f(*args, **kwargs)\n"
     ]
    },
    {
     "name": "stdout",
     "output_type": "stream",
     "text": [
      "0.32474180310964584\n",
      "[0.35461826622486115, 0.33403777331113815, 0.32945317029953003, 0.33717330545186996, 0.3353852853178978, 0.32379890233278275, 0.32625606656074524, 0.32497720420360565, 0.3253369927406311, 0.32474180310964584]\n",
      "0.33157787695527075\n"
     ]
    }
   ],
   "source": [
    "# 计算训练时间\n",
    "from timeit import default_timer as timer\n",
    "knn = KNeighborsClassifier(n_neighbors = 3)\n",
    "train_time = []\n",
    "for i in range(10):\n",
    "    start_time = timer()\n",
    "    knn.fit(X_train, Y_train)\n",
    "    current_time = timer()\n",
    "    train_time.append(current_time-start_time)\n",
    "    print(current_time-start_time)\n",
    "    i = i+1\n",
    "print(train_time)\n",
    "print(np.mean(train_time))"
   ]
  },
  {
   "cell_type": "code",
   "execution_count": 6,
   "metadata": {},
   "outputs": [
    {
     "name": "stderr",
     "output_type": "stream",
     "text": [
      "/home/wamdm/anaconda3/lib/python3.8/site-packages/sklearn/utils/validation.py:63: FutureWarning: Arrays of bytes/strings is being converted to decimal numbers if dtype='numeric'. This behavior is deprecated in 0.24 and will be removed in 1.1 (renaming of 0.26). Please convert your data to numeric values explicitly instead.\n",
      "  return f(*args, **kwargs)\n"
     ]
    },
    {
     "name": "stdout",
     "output_type": "stream",
     "text": [
      "4.871259644627571\n"
     ]
    },
    {
     "name": "stderr",
     "output_type": "stream",
     "text": [
      "/home/wamdm/anaconda3/lib/python3.8/site-packages/sklearn/utils/validation.py:63: FutureWarning: Arrays of bytes/strings is being converted to decimal numbers if dtype='numeric'. This behavior is deprecated in 0.24 and will be removed in 1.1 (renaming of 0.26). Please convert your data to numeric values explicitly instead.\n",
      "  return f(*args, **kwargs)\n"
     ]
    },
    {
     "name": "stdout",
     "output_type": "stream",
     "text": [
      "4.814763396978378\n"
     ]
    },
    {
     "name": "stderr",
     "output_type": "stream",
     "text": [
      "/home/wamdm/anaconda3/lib/python3.8/site-packages/sklearn/utils/validation.py:63: FutureWarning: Arrays of bytes/strings is being converted to decimal numbers if dtype='numeric'. This behavior is deprecated in 0.24 and will be removed in 1.1 (renaming of 0.26). Please convert your data to numeric values explicitly instead.\n",
      "  return f(*args, **kwargs)\n"
     ]
    },
    {
     "name": "stdout",
     "output_type": "stream",
     "text": [
      "4.782854154706001\n"
     ]
    },
    {
     "name": "stderr",
     "output_type": "stream",
     "text": [
      "/home/wamdm/anaconda3/lib/python3.8/site-packages/sklearn/utils/validation.py:63: FutureWarning: Arrays of bytes/strings is being converted to decimal numbers if dtype='numeric'. This behavior is deprecated in 0.24 and will be removed in 1.1 (renaming of 0.26). Please convert your data to numeric values explicitly instead.\n",
      "  return f(*args, **kwargs)\n"
     ]
    },
    {
     "name": "stdout",
     "output_type": "stream",
     "text": [
      "5.083413802087307\n"
     ]
    },
    {
     "name": "stderr",
     "output_type": "stream",
     "text": [
      "/home/wamdm/anaconda3/lib/python3.8/site-packages/sklearn/utils/validation.py:63: FutureWarning: Arrays of bytes/strings is being converted to decimal numbers if dtype='numeric'. This behavior is deprecated in 0.24 and will be removed in 1.1 (renaming of 0.26). Please convert your data to numeric values explicitly instead.\n",
      "  return f(*args, **kwargs)\n"
     ]
    },
    {
     "name": "stdout",
     "output_type": "stream",
     "text": [
      "4.8224965780973434\n"
     ]
    },
    {
     "name": "stderr",
     "output_type": "stream",
     "text": [
      "/home/wamdm/anaconda3/lib/python3.8/site-packages/sklearn/utils/validation.py:63: FutureWarning: Arrays of bytes/strings is being converted to decimal numbers if dtype='numeric'. This behavior is deprecated in 0.24 and will be removed in 1.1 (renaming of 0.26). Please convert your data to numeric values explicitly instead.\n",
      "  return f(*args, **kwargs)\n"
     ]
    },
    {
     "name": "stdout",
     "output_type": "stream",
     "text": [
      "4.766242988407612\n"
     ]
    },
    {
     "name": "stderr",
     "output_type": "stream",
     "text": [
      "/home/wamdm/anaconda3/lib/python3.8/site-packages/sklearn/utils/validation.py:63: FutureWarning: Arrays of bytes/strings is being converted to decimal numbers if dtype='numeric'. This behavior is deprecated in 0.24 and will be removed in 1.1 (renaming of 0.26). Please convert your data to numeric values explicitly instead.\n",
      "  return f(*args, **kwargs)\n"
     ]
    },
    {
     "name": "stdout",
     "output_type": "stream",
     "text": [
      "4.949690222740173\n"
     ]
    },
    {
     "name": "stderr",
     "output_type": "stream",
     "text": [
      "/home/wamdm/anaconda3/lib/python3.8/site-packages/sklearn/utils/validation.py:63: FutureWarning: Arrays of bytes/strings is being converted to decimal numbers if dtype='numeric'. This behavior is deprecated in 0.24 and will be removed in 1.1 (renaming of 0.26). Please convert your data to numeric values explicitly instead.\n",
      "  return f(*args, **kwargs)\n"
     ]
    },
    {
     "name": "stdout",
     "output_type": "stream",
     "text": [
      "4.939417511224747\n"
     ]
    },
    {
     "name": "stderr",
     "output_type": "stream",
     "text": [
      "/home/wamdm/anaconda3/lib/python3.8/site-packages/sklearn/utils/validation.py:63: FutureWarning: Arrays of bytes/strings is being converted to decimal numbers if dtype='numeric'. This behavior is deprecated in 0.24 and will be removed in 1.1 (renaming of 0.26). Please convert your data to numeric values explicitly instead.\n",
      "  return f(*args, **kwargs)\n"
     ]
    },
    {
     "name": "stdout",
     "output_type": "stream",
     "text": [
      "4.830874994397163\n"
     ]
    },
    {
     "name": "stderr",
     "output_type": "stream",
     "text": [
      "/home/wamdm/anaconda3/lib/python3.8/site-packages/sklearn/utils/validation.py:63: FutureWarning: Arrays of bytes/strings is being converted to decimal numbers if dtype='numeric'. This behavior is deprecated in 0.24 and will be removed in 1.1 (renaming of 0.26). Please convert your data to numeric values explicitly instead.\n",
      "  return f(*args, **kwargs)\n"
     ]
    },
    {
     "name": "stdout",
     "output_type": "stream",
     "text": [
      "4.998674176633358\n",
      "[4.871259644627571, 4.814763396978378, 4.782854154706001, 5.083413802087307, 4.8224965780973434, 4.766242988407612, 4.949690222740173, 4.939417511224747, 4.830874994397163, 4.998674176633358]\n",
      "4.885968746989965\n"
     ]
    }
   ],
   "source": [
    "# 计算测试时间\n",
    "test_time = []\n",
    "for i in range(10):\n",
    "    start_time = timer()\n",
    "    knn.predict(X_test)\n",
    "    current_time = timer()\n",
    "    test_time.append(current_time-start_time)\n",
    "    print(current_time-start_time)\n",
    "    i = i+1\n",
    "print(test_time)\n",
    "print(np.mean(test_time))"
   ]
  },
  {
   "cell_type": "code",
   "execution_count": 7,
   "metadata": {
    "scrolled": false
   },
   "outputs": [
    {
     "name": "stderr",
     "output_type": "stream",
     "text": [
      "/home/wamdm/anaconda3/lib/python3.8/site-packages/sklearn/utils/validation.py:63: FutureWarning: Arrays of bytes/strings is being converted to decimal numbers if dtype='numeric'. This behavior is deprecated in 0.24 and will be removed in 1.1 (renaming of 0.26). Please convert your data to numeric values explicitly instead.\n",
      "  return f(*args, **kwargs)\n"
     ]
    },
    {
     "name": "stdout",
     "output_type": "stream",
     "text": [
      "              precision    recall  f1-score   support\n",
      "\n",
      "           0     1.0000    0.9907    0.9953      6872\n",
      "           1     0.9763    1.0000    0.9880      2633\n",
      "\n",
      "    accuracy                         0.9933      9505\n",
      "   macro avg     0.9881    0.9953    0.9917      9505\n",
      "weighted avg     0.9934    0.9933    0.9933      9505\n",
      "\n"
     ]
    }
   ],
   "source": [
    "# 输出预测性能指标\n",
    "print(classification_report(Y_test,knn.predict(X_test),digits=4))"
   ]
  },
  {
   "cell_type": "markdown",
   "metadata": {},
   "source": [
    "## 支持向量机模型"
   ]
  },
  {
   "cell_type": "code",
   "execution_count": 8,
   "metadata": {
    "scrolled": false
   },
   "outputs": [
    {
     "name": "stdout",
     "output_type": "stream",
     "text": [
      "The score of rbf is : 0.989584\n",
      "The score of linear is : 0.901420\n",
      "The score of poly is : 0.981799\n",
      "The score of sigmoid is : 0.836402\n"
     ]
    }
   ],
   "source": [
    "from sklearn import svm\n",
    "\n",
    "# kernel = 'rbf'\n",
    "clf_rbf = svm.SVC(kernel='rbf')\n",
    "clf_rbf.fit(X_train,Y_train)\n",
    "score_rbf = clf_rbf.score(X_test,Y_test)\n",
    "joblib.dump(clf_rbf, '../output/SVM_rbf.pkl')\n",
    "print(\"The score of rbf is : %f\"%score_rbf)\n",
    "\n",
    "# kernel = 'linear'\n",
    "clf_linear = svm.SVC(kernel='linear')\n",
    "clf_linear.fit(X_train,Y_train)\n",
    "score_linear = clf_linear.score(X_test,Y_test)\n",
    "joblib.dump(clf_rbf, '../output/SVM_linear.pkl')\n",
    "print(\"The score of linear is : %f\"%score_linear)\n",
    "\n",
    "# kernel = 'poly'\n",
    "clf_poly = svm.SVC(kernel='poly')\n",
    "clf_poly.fit(X_train,Y_train)\n",
    "score_poly = clf_poly.score(X_test,Y_test)\n",
    "joblib.dump(clf_rbf, '../output/SVM_poly.pkl')\n",
    "print(\"The score of poly is : %f\"%score_poly)\n",
    "\n",
    "# kernel = 'sigmoid'\n",
    "clf_sigmoid = svm.SVC(kernel='sigmoid')\n",
    "clf_sigmoid.fit(X_train,Y_train)\n",
    "score_sigmoid = clf_sigmoid.score(X_test,Y_test)\n",
    "joblib.dump(clf_rbf, '../output/SVM_sigmoid.pkl')\n",
    "print(\"The score of sigmoid is : %f\"%score_sigmoid)"
   ]
  },
  {
   "cell_type": "code",
   "execution_count": 9,
   "metadata": {
    "scrolled": true
   },
   "outputs": [
    {
     "name": "stdout",
     "output_type": "stream",
     "text": [
      "              precision    recall  f1-score   support\n",
      "\n",
      "           0     0.9982    0.9873    0.9928      6872\n",
      "           1     0.9679    0.9954    0.9815      2633\n",
      "\n",
      "    accuracy                         0.9896      9505\n",
      "   macro avg     0.9831    0.9914    0.9871      9505\n",
      "weighted avg     0.9898    0.9896    0.9896      9505\n",
      "\n"
     ]
    }
   ],
   "source": [
    "print(classification_report(Y_test, clf_rbf.predict(X_test),digits=4))"
   ]
  },
  {
   "cell_type": "code",
   "execution_count": 10,
   "metadata": {
    "scrolled": true
   },
   "outputs": [
    {
     "name": "stdout",
     "output_type": "stream",
     "text": [
      "11.987601198256016\n",
      "11.941492594778538\n",
      "11.922126024961472\n",
      "11.97773726284504\n",
      "11.941898718476295\n",
      "11.914507575333118\n",
      "11.975259475409985\n",
      "11.931418903172016\n",
      "11.92283584177494\n",
      "11.999497003853321\n",
      "[11.987601198256016, 11.941492594778538, 11.922126024961472, 11.97773726284504, 11.941898718476295, 11.914507575333118, 11.975259475409985, 11.931418903172016, 11.92283584177494, 11.999497003853321]\n",
      "11.951437459886074\n"
     ]
    }
   ],
   "source": [
    "# 训练时间\n",
    "train_time_svm = []\n",
    "for i in range(10):\n",
    "    start_time = timer()\n",
    "    clf_rbf.fit(X_train,Y_train)\n",
    "    current_time = timer()\n",
    "    train_time_svm.append(current_time-start_time)\n",
    "    print(current_time-start_time)\n",
    "    i = i+1\n",
    "print(train_time_svm)\n",
    "print(np.mean(train_time_svm))"
   ]
  },
  {
   "cell_type": "code",
   "execution_count": 11,
   "metadata": {},
   "outputs": [
    {
     "name": "stdout",
     "output_type": "stream",
     "text": [
      "3.350081294775009\n",
      "3.2985648661851883\n",
      "3.294413521885872\n",
      "3.291433721780777\n",
      "3.290753372013569\n",
      "3.2905901446938515\n",
      "3.292010821402073\n",
      "3.302645727992058\n",
      "3.3125826939940453\n",
      "3.3362728133797646\n",
      "[3.350081294775009, 3.2985648661851883, 3.294413521885872, 3.291433721780777, 3.290753372013569, 3.2905901446938515, 3.292010821402073, 3.302645727992058, 3.3125826939940453, 3.3362728133797646]\n",
      "3.3059348978102205\n"
     ]
    }
   ],
   "source": [
    "# 测试时间\n",
    "test_time_svm = []\n",
    "for i in range(10):\n",
    "    start_time = timer()\n",
    "    clf_rbf.predict(X_test)\n",
    "    current_time = timer()\n",
    "    test_time_svm.append(current_time-start_time)\n",
    "    print(current_time-start_time)\n",
    "    i = i+1\n",
    "print(test_time_svm)\n",
    "print(np.mean(test_time_svm))"
   ]
  }
 ],
 "metadata": {
  "kernelspec": {
   "display_name": "Python 3",
   "language": "python",
   "name": "python3"
  },
  "language_info": {
   "codemirror_mode": {
    "name": "ipython",
    "version": 3
   },
   "file_extension": ".py",
   "mimetype": "text/x-python",
   "name": "python",
   "nbconvert_exporter": "python",
   "pygments_lexer": "ipython3",
   "version": "3.8.8"
  }
 },
 "nbformat": 4,
 "nbformat_minor": 2
}
