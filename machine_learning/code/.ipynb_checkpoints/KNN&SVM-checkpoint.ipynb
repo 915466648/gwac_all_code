{
 "cells": [
  {
   "cell_type": "markdown",
   "metadata": {},
   "source": [
    "https://scikit-learn.org/stable/modules/generated/sklearn.neighbors.KNeighborsClassifier.html\n",
    "https://www.jianshu.com/p/df868c254e4c"
   ]
  },
  {
   "cell_type": "code",
   "execution_count": 1,
   "metadata": {},
   "outputs": [],
   "source": [
    "from sklearn import preprocessing\n",
    "from numpy import loadtxt, sum, size, where, abs, average, std, ones,sign, sqrt, max, min, diff, sort, floor, array, concatenate\n",
    "import numpy as np\n",
    "from scipy import stats\n",
    "from os import listdir\n",
    "from sklearn.neighbors import KNeighborsClassifier\n",
    "from sklearn.metrics import classification_report\n",
    "import joblib\n",
    "import graphviz\n",
    "import datetime"
   ]
  },
  {
   "cell_type": "code",
   "execution_count": 2,
   "metadata": {},
   "outputs": [],
   "source": [
    "## 计算train和test的特征矩阵，\n",
    "train_0 = loadtxt('../../dataset/train_0.csv',dtype=str,delimiter = ',',encoding='utf-8-sig')\n",
    "# np.savetxt('./feature_train_0.txt', feature_train_0 ,fmt='%f',delimiter=',')\n",
    "train_1 = loadtxt('../../dataset/train_1.csv',dtype=str,delimiter = ',',encoding='utf-8-sig')\n",
    "# np.savetxt('./feature_train_1.txt', feature_train_1 ,fmt='%f',delimiter=',')\n",
    "test_1 = loadtxt('../../dataset/test_0.csv',dtype=str,delimiter = ',',encoding='utf-8-sig')\n",
    "# np.savetxt('./feature_test_1.txt', feature_test_1 ,fmt='%f',delimiter=',')\n",
    "test_0 = loadtxt('../../dataset/test_1.csv',dtype=str,delimiter = ',',encoding='utf-8-sig')\n",
    "# np.savetxt('./feature_test_0.txt', feature_test_0 ,fmt='%f',delimiter=',')\n",
    "train = concatenate((train_0,train_1))\n",
    "test = concatenate((test_0,test_1))\n",
    "np.random.shuffle(train)\n",
    "np.random.shuffle(test)"
   ]
  },
  {
   "cell_type": "code",
   "execution_count": 7,
   "metadata": {},
   "outputs": [],
   "source": [
    "X_train = train[:,0:30]\n",
    "Y_train = train[:,30].ravel()\n",
    "X_test = test[:,0:30]\n",
    "Y_test = test[:,30].ravel()"
   ]
  },
  {
   "cell_type": "code",
   "execution_count": 8,
   "metadata": {},
   "outputs": [
    {
     "name": "stdout",
     "output_type": "stream",
     "text": [
      "(38022, 30) (38022,) (9505, 30) (9505,)\n"
     ]
    }
   ],
   "source": [
    "print(X_train.shape,Y_train.shape,X_test.shape,Y_test.shape)    "
   ]
  },
  {
   "cell_type": "code",
   "execution_count": 16,
   "metadata": {
    "scrolled": true
   },
   "outputs": [
    {
     "name": "stdout",
     "output_type": "stream",
     "text": [
      "2021-06-29 03:57:47.971669\n",
      "2021-06-29 03:57:48.294079\n",
      "0:00:00.322410\n",
      "2021-06-29 03:57:48.294137\n"
     ]
    },
    {
     "name": "stderr",
     "output_type": "stream",
     "text": [
      "/home/wamdm/anaconda3/envs/pytorch18/lib/python3.7/site-packages/sklearn/utils/validation.py:63: FutureWarning: Arrays of bytes/strings is being converted to decimal numbers if dtype='numeric'. This behavior is deprecated in 0.24 and will be removed in 1.1 (renaming of 0.26). Please convert your data to numeric values explicitly instead.\n",
      "  return f(*args, **kwargs)\n",
      "/home/wamdm/anaconda3/envs/pytorch18/lib/python3.7/site-packages/sklearn/utils/validation.py:63: FutureWarning: Arrays of bytes/strings is being converted to decimal numbers if dtype='numeric'. This behavior is deprecated in 0.24 and will be removed in 1.1 (renaming of 0.26). Please convert your data to numeric values explicitly instead.\n",
      "  return f(*args, **kwargs)\n"
     ]
    },
    {
     "name": "stdout",
     "output_type": "stream",
     "text": [
      "2021-06-29 03:57:48.608286\n",
      "0:00:00.314149\n",
      "2021-06-29 03:57:48.608340\n",
      "2021-06-29 03:57:48.938717\n",
      "0:00:00.330377\n",
      "2021-06-29 03:57:48.938824\n"
     ]
    },
    {
     "name": "stderr",
     "output_type": "stream",
     "text": [
      "/home/wamdm/anaconda3/envs/pytorch18/lib/python3.7/site-packages/sklearn/utils/validation.py:63: FutureWarning: Arrays of bytes/strings is being converted to decimal numbers if dtype='numeric'. This behavior is deprecated in 0.24 and will be removed in 1.1 (renaming of 0.26). Please convert your data to numeric values explicitly instead.\n",
      "  return f(*args, **kwargs)\n",
      "/home/wamdm/anaconda3/envs/pytorch18/lib/python3.7/site-packages/sklearn/utils/validation.py:63: FutureWarning: Arrays of bytes/strings is being converted to decimal numbers if dtype='numeric'. This behavior is deprecated in 0.24 and will be removed in 1.1 (renaming of 0.26). Please convert your data to numeric values explicitly instead.\n",
      "  return f(*args, **kwargs)\n"
     ]
    },
    {
     "name": "stdout",
     "output_type": "stream",
     "text": [
      "2021-06-29 03:57:49.257468\n",
      "0:00:00.318644\n",
      "2021-06-29 03:57:49.257525\n",
      "2021-06-29 03:57:49.572148\n",
      "0:00:00.314623\n",
      "2021-06-29 03:57:49.572197\n"
     ]
    },
    {
     "name": "stderr",
     "output_type": "stream",
     "text": [
      "/home/wamdm/anaconda3/envs/pytorch18/lib/python3.7/site-packages/sklearn/utils/validation.py:63: FutureWarning: Arrays of bytes/strings is being converted to decimal numbers if dtype='numeric'. This behavior is deprecated in 0.24 and will be removed in 1.1 (renaming of 0.26). Please convert your data to numeric values explicitly instead.\n",
      "  return f(*args, **kwargs)\n",
      "/home/wamdm/anaconda3/envs/pytorch18/lib/python3.7/site-packages/sklearn/utils/validation.py:63: FutureWarning: Arrays of bytes/strings is being converted to decimal numbers if dtype='numeric'. This behavior is deprecated in 0.24 and will be removed in 1.1 (renaming of 0.26). Please convert your data to numeric values explicitly instead.\n",
      "  return f(*args, **kwargs)\n"
     ]
    },
    {
     "name": "stdout",
     "output_type": "stream",
     "text": [
      "2021-06-29 03:57:49.886940\n",
      "0:00:00.314743\n",
      "2021-06-29 03:57:49.886992\n",
      "2021-06-29 03:57:50.201227\n",
      "0:00:00.314235\n",
      "2021-06-29 03:57:50.201276\n"
     ]
    },
    {
     "name": "stderr",
     "output_type": "stream",
     "text": [
      "/home/wamdm/anaconda3/envs/pytorch18/lib/python3.7/site-packages/sklearn/utils/validation.py:63: FutureWarning: Arrays of bytes/strings is being converted to decimal numbers if dtype='numeric'. This behavior is deprecated in 0.24 and will be removed in 1.1 (renaming of 0.26). Please convert your data to numeric values explicitly instead.\n",
      "  return f(*args, **kwargs)\n",
      "/home/wamdm/anaconda3/envs/pytorch18/lib/python3.7/site-packages/sklearn/utils/validation.py:63: FutureWarning: Arrays of bytes/strings is being converted to decimal numbers if dtype='numeric'. This behavior is deprecated in 0.24 and will be removed in 1.1 (renaming of 0.26). Please convert your data to numeric values explicitly instead.\n",
      "  return f(*args, **kwargs)\n"
     ]
    },
    {
     "name": "stdout",
     "output_type": "stream",
     "text": [
      "2021-06-29 03:57:50.515002\n",
      "0:00:00.313726\n",
      "2021-06-29 03:57:50.515051\n"
     ]
    },
    {
     "name": "stderr",
     "output_type": "stream",
     "text": [
      "/home/wamdm/anaconda3/envs/pytorch18/lib/python3.7/site-packages/sklearn/utils/validation.py:63: FutureWarning: Arrays of bytes/strings is being converted to decimal numbers if dtype='numeric'. This behavior is deprecated in 0.24 and will be removed in 1.1 (renaming of 0.26). Please convert your data to numeric values explicitly instead.\n",
      "  return f(*args, **kwargs)\n"
     ]
    },
    {
     "name": "stdout",
     "output_type": "stream",
     "text": [
      "2021-06-29 03:57:50.832431\n",
      "0:00:00.317380\n",
      "2021-06-29 03:57:50.832499\n",
      "2021-06-29 03:57:51.147054\n",
      "0:00:00.314555\n",
      "[datetime.timedelta(microseconds=322410), datetime.timedelta(microseconds=314149), datetime.timedelta(microseconds=330377), datetime.timedelta(microseconds=318644), datetime.timedelta(microseconds=314623), datetime.timedelta(microseconds=314743), datetime.timedelta(microseconds=314235), datetime.timedelta(microseconds=313726), datetime.timedelta(microseconds=317380), datetime.timedelta(microseconds=314555)]\n"
     ]
    },
    {
     "name": "stderr",
     "output_type": "stream",
     "text": [
      "/home/wamdm/anaconda3/envs/pytorch18/lib/python3.7/site-packages/sklearn/utils/validation.py:63: FutureWarning: Arrays of bytes/strings is being converted to decimal numbers if dtype='numeric'. This behavior is deprecated in 0.24 and will be removed in 1.1 (renaming of 0.26). Please convert your data to numeric values explicitly instead.\n",
      "  return f(*args, **kwargs)\n"
     ]
    }
   ],
   "source": [
    "from timeit import default_timer as timer\n",
    "knn = KNeighborsClassifier(n_neighbors = 3)\n",
    "train_time = []\n",
    "for i in range(10):\n",
    "    start_time = timer()\n",
    "    print(start_time)\n",
    "    knn.fit(X_train, Y_train)\n",
    "    current_time = timer()\n",
    "    print(current_time)\n",
    "    train_time.append(current_time-start_time)\n",
    "    print(current_time-start_time)\n",
    "    i = i+1\n",
    "print(train_time)"
   ]
  },
  {
   "cell_type": "code",
   "execution_count": 19,
   "metadata": {},
   "outputs": [
    {
     "data": {
      "text/plain": [
       "datetime.timedelta(microseconds=317484)"
      ]
     },
     "execution_count": 19,
     "metadata": {},
     "output_type": "execute_result"
    }
   ],
   "source": [
    "np.mean(train_time)"
   ]
  },
  {
   "cell_type": "code",
   "execution_count": null,
   "metadata": {},
   "outputs": [],
   "source": [
    "score = knn.score(X_test, Y_test)\n",
    "print(score)"
   ]
  },
  {
   "cell_type": "code",
   "execution_count": 17,
   "metadata": {},
   "outputs": [
    {
     "name": "stdout",
     "output_type": "stream",
     "text": [
      "2021-06-29 03:59:42.102120\n"
     ]
    },
    {
     "name": "stderr",
     "output_type": "stream",
     "text": [
      "/home/wamdm/anaconda3/envs/pytorch18/lib/python3.7/site-packages/sklearn/utils/validation.py:63: FutureWarning: Arrays of bytes/strings is being converted to decimal numbers if dtype='numeric'. This behavior is deprecated in 0.24 and will be removed in 1.1 (renaming of 0.26). Please convert your data to numeric values explicitly instead.\n",
      "  return f(*args, **kwargs)\n"
     ]
    },
    {
     "name": "stdout",
     "output_type": "stream",
     "text": [
      "2021-06-29 03:59:47.122800\n",
      "0:00:05.020680\n",
      "2021-06-29 03:59:47.123017\n"
     ]
    },
    {
     "name": "stderr",
     "output_type": "stream",
     "text": [
      "/home/wamdm/anaconda3/envs/pytorch18/lib/python3.7/site-packages/sklearn/utils/validation.py:63: FutureWarning: Arrays of bytes/strings is being converted to decimal numbers if dtype='numeric'. This behavior is deprecated in 0.24 and will be removed in 1.1 (renaming of 0.26). Please convert your data to numeric values explicitly instead.\n",
      "  return f(*args, **kwargs)\n"
     ]
    },
    {
     "name": "stdout",
     "output_type": "stream",
     "text": [
      "2021-06-29 03:59:51.899279\n",
      "0:00:04.776262\n",
      "2021-06-29 03:59:51.899381\n"
     ]
    },
    {
     "name": "stderr",
     "output_type": "stream",
     "text": [
      "/home/wamdm/anaconda3/envs/pytorch18/lib/python3.7/site-packages/sklearn/utils/validation.py:63: FutureWarning: Arrays of bytes/strings is being converted to decimal numbers if dtype='numeric'. This behavior is deprecated in 0.24 and will be removed in 1.1 (renaming of 0.26). Please convert your data to numeric values explicitly instead.\n",
      "  return f(*args, **kwargs)\n"
     ]
    },
    {
     "name": "stdout",
     "output_type": "stream",
     "text": [
      "2021-06-29 03:59:57.497909\n",
      "0:00:05.598528\n",
      "2021-06-29 03:59:57.498119\n"
     ]
    },
    {
     "name": "stderr",
     "output_type": "stream",
     "text": [
      "/home/wamdm/anaconda3/envs/pytorch18/lib/python3.7/site-packages/sklearn/utils/validation.py:63: FutureWarning: Arrays of bytes/strings is being converted to decimal numbers if dtype='numeric'. This behavior is deprecated in 0.24 and will be removed in 1.1 (renaming of 0.26). Please convert your data to numeric values explicitly instead.\n",
      "  return f(*args, **kwargs)\n"
     ]
    },
    {
     "name": "stdout",
     "output_type": "stream",
     "text": [
      "2021-06-29 04:00:02.439978\n",
      "0:00:04.941859\n",
      "2021-06-29 04:00:02.440087\n"
     ]
    },
    {
     "name": "stderr",
     "output_type": "stream",
     "text": [
      "/home/wamdm/anaconda3/envs/pytorch18/lib/python3.7/site-packages/sklearn/utils/validation.py:63: FutureWarning: Arrays of bytes/strings is being converted to decimal numbers if dtype='numeric'. This behavior is deprecated in 0.24 and will be removed in 1.1 (renaming of 0.26). Please convert your data to numeric values explicitly instead.\n",
      "  return f(*args, **kwargs)\n"
     ]
    },
    {
     "name": "stdout",
     "output_type": "stream",
     "text": [
      "2021-06-29 04:00:07.333291\n",
      "0:00:04.893204\n",
      "2021-06-29 04:00:07.333386\n"
     ]
    },
    {
     "name": "stderr",
     "output_type": "stream",
     "text": [
      "/home/wamdm/anaconda3/envs/pytorch18/lib/python3.7/site-packages/sklearn/utils/validation.py:63: FutureWarning: Arrays of bytes/strings is being converted to decimal numbers if dtype='numeric'. This behavior is deprecated in 0.24 and will be removed in 1.1 (renaming of 0.26). Please convert your data to numeric values explicitly instead.\n",
      "  return f(*args, **kwargs)\n"
     ]
    },
    {
     "name": "stdout",
     "output_type": "stream",
     "text": [
      "2021-06-29 04:00:12.354565\n",
      "0:00:05.021179\n",
      "2021-06-29 04:00:12.354754\n"
     ]
    },
    {
     "name": "stderr",
     "output_type": "stream",
     "text": [
      "/home/wamdm/anaconda3/envs/pytorch18/lib/python3.7/site-packages/sklearn/utils/validation.py:63: FutureWarning: Arrays of bytes/strings is being converted to decimal numbers if dtype='numeric'. This behavior is deprecated in 0.24 and will be removed in 1.1 (renaming of 0.26). Please convert your data to numeric values explicitly instead.\n",
      "  return f(*args, **kwargs)\n"
     ]
    },
    {
     "name": "stdout",
     "output_type": "stream",
     "text": [
      "2021-06-29 04:00:17.156750\n",
      "0:00:04.801996\n",
      "2021-06-29 04:00:17.156849\n"
     ]
    },
    {
     "name": "stderr",
     "output_type": "stream",
     "text": [
      "/home/wamdm/anaconda3/envs/pytorch18/lib/python3.7/site-packages/sklearn/utils/validation.py:63: FutureWarning: Arrays of bytes/strings is being converted to decimal numbers if dtype='numeric'. This behavior is deprecated in 0.24 and will be removed in 1.1 (renaming of 0.26). Please convert your data to numeric values explicitly instead.\n",
      "  return f(*args, **kwargs)\n"
     ]
    },
    {
     "name": "stdout",
     "output_type": "stream",
     "text": [
      "2021-06-29 04:00:21.944012\n",
      "0:00:04.787163\n",
      "2021-06-29 04:00:21.944122\n"
     ]
    },
    {
     "name": "stderr",
     "output_type": "stream",
     "text": [
      "/home/wamdm/anaconda3/envs/pytorch18/lib/python3.7/site-packages/sklearn/utils/validation.py:63: FutureWarning: Arrays of bytes/strings is being converted to decimal numbers if dtype='numeric'. This behavior is deprecated in 0.24 and will be removed in 1.1 (renaming of 0.26). Please convert your data to numeric values explicitly instead.\n",
      "  return f(*args, **kwargs)\n"
     ]
    },
    {
     "name": "stdout",
     "output_type": "stream",
     "text": [
      "2021-06-29 04:00:26.903270\n",
      "0:00:04.959148\n",
      "2021-06-29 04:00:26.903465\n"
     ]
    },
    {
     "name": "stderr",
     "output_type": "stream",
     "text": [
      "/home/wamdm/anaconda3/envs/pytorch18/lib/python3.7/site-packages/sklearn/utils/validation.py:63: FutureWarning: Arrays of bytes/strings is being converted to decimal numbers if dtype='numeric'. This behavior is deprecated in 0.24 and will be removed in 1.1 (renaming of 0.26). Please convert your data to numeric values explicitly instead.\n",
      "  return f(*args, **kwargs)\n"
     ]
    },
    {
     "name": "stdout",
     "output_type": "stream",
     "text": [
      "2021-06-29 04:00:31.835845\n",
      "0:00:04.932380\n",
      "[datetime.timedelta(seconds=5, microseconds=20680), datetime.timedelta(seconds=4, microseconds=776262), datetime.timedelta(seconds=5, microseconds=598528), datetime.timedelta(seconds=4, microseconds=941859), datetime.timedelta(seconds=4, microseconds=893204), datetime.timedelta(seconds=5, microseconds=21179), datetime.timedelta(seconds=4, microseconds=801996), datetime.timedelta(seconds=4, microseconds=787163), datetime.timedelta(seconds=4, microseconds=959148), datetime.timedelta(seconds=4, microseconds=932380)]\n"
     ]
    }
   ],
   "source": [
    "test_time = []\n",
    "for i in range(10):\n",
    "    start_time = datetime.datetime.now()\n",
    "    print(start_time)\n",
    "    knn.predict(X_test)\n",
    "    current_time = datetime.datetime.now()\n",
    "    print(current_time)\n",
    "    test_time.append(current_time-start_time)\n",
    "    print(current_time-start_time)\n",
    "    i = i+1\n",
    "print(test_time)\n"
   ]
  },
  {
   "cell_type": "code",
   "execution_count": 20,
   "metadata": {},
   "outputs": [
    {
     "data": {
      "text/plain": [
       "datetime.timedelta(seconds=4, microseconds=973240)"
      ]
     },
     "execution_count": 20,
     "metadata": {},
     "output_type": "execute_result"
    }
   ],
   "source": [
    "np.mean(test_time)"
   ]
  },
  {
   "cell_type": "code",
   "execution_count": 10,
   "metadata": {
    "scrolled": true
   },
   "outputs": [
    {
     "name": "stderr",
     "output_type": "stream",
     "text": [
      "/home/wamdm/anaconda3/envs/pytorch18/lib/python3.7/site-packages/sklearn/utils/validation.py:63: FutureWarning: Arrays of bytes/strings is being converted to decimal numbers if dtype='numeric'. This behavior is deprecated in 0.24 and will be removed in 1.1 (renaming of 0.26). Please convert your data to numeric values explicitly instead.\n",
      "  return f(*args, **kwargs)\n"
     ]
    },
    {
     "name": "stdout",
     "output_type": "stream",
     "text": [
      "              precision    recall  f1-score   support\n",
      "\n",
      "           0     1.0000    0.9907    0.9953      6872\n",
      "           1     0.9763    1.0000    0.9880      2633\n",
      "\n",
      "    accuracy                         0.9933      9505\n",
      "   macro avg     0.9881    0.9953    0.9917      9505\n",
      "weighted avg     0.9934    0.9933    0.9933      9505\n",
      "\n"
     ]
    }
   ],
   "source": [
    "print(classification_report(Y_test,knn.predict(X_test),digits=4))"
   ]
  },
  {
   "cell_type": "markdown",
   "metadata": {},
   "source": [
    "## 支持向量机模型"
   ]
  },
  {
   "cell_type": "markdown",
   "metadata": {},
   "source": [
    "https://www.jianshu.com/p/a9f9954355b3\n",
    "\n",
    "https://blog.csdn.net/moriarty_jack/article/details/108432867"
   ]
  },
  {
   "cell_type": "code",
   "execution_count": 11,
   "metadata": {
    "scrolled": false
   },
   "outputs": [
    {
     "name": "stdout",
     "output_type": "stream",
     "text": [
      "The score of rbf is : 0.989584\n",
      "The score of linear is : 0.901526\n",
      "The score of poly is : 0.981799\n",
      "The score of sigmoid is : 0.836402\n"
     ]
    }
   ],
   "source": [
    "from sklearn import svm\n",
    "\n",
    "# kernel = 'rbf'\n",
    "clf_rbf = svm.SVC(kernel='rbf')\n",
    "clf_rbf.fit(X_train,Y_train)\n",
    "score_rbf = clf_rbf.score(X_test,Y_test)\n",
    "print(\"The score of rbf is : %f\"%score_rbf)\n",
    "\n",
    "# kernel = 'linear'\n",
    "clf_linear = svm.SVC(kernel='linear')\n",
    "clf_linear.fit(X_train,Y_train)\n",
    "score_linear = clf_linear.score(X_test,Y_test)\n",
    "print(\"The score of linear is : %f\"%score_linear)\n",
    "\n",
    "# kernel = 'poly'\n",
    "clf_poly = svm.SVC(kernel='poly')\n",
    "clf_poly.fit(X_train,Y_train)\n",
    "score_poly = clf_poly.score(X_test,Y_test)\n",
    "print(\"The score of poly is : %f\"%score_poly)\n",
    "\n",
    "# kernel = 'sigmoid'\n",
    "clf_sigmoid = svm.SVC(kernel='sigmoid')\n",
    "clf_sigmoid.fit(X_train,Y_train)\n",
    "score_sigmoid = clf_sigmoid.score(X_test,Y_test)\n",
    "print(\"The score of sigmoid is : %f\"%score_sigmoid)"
   ]
  },
  {
   "cell_type": "code",
   "execution_count": 12,
   "metadata": {
    "scrolled": false
   },
   "outputs": [
    {
     "name": "stdout",
     "output_type": "stream",
     "text": [
      "              precision    recall  f1-score   support\n",
      "\n",
      "           0     0.9982    0.9873    0.9928      6872\n",
      "           1     0.9679    0.9954    0.9815      2633\n",
      "\n",
      "    accuracy                         0.9896      9505\n",
      "   macro avg     0.9831    0.9914    0.9871      9505\n",
      "weighted avg     0.9898    0.9896    0.9896      9505\n",
      "\n"
     ]
    }
   ],
   "source": [
    "print(classification_report(Y_test, clf_rbf.predict(X_test),digits=4))"
   ]
  },
  {
   "cell_type": "code",
   "execution_count": 21,
   "metadata": {},
   "outputs": [
    {
     "name": "stdout",
     "output_type": "stream",
     "text": [
      "2021-06-29 04:05:31.507896\n",
      "2021-06-29 04:05:43.126862\n",
      "0:00:11.618966\n",
      "2021-06-29 04:05:43.127099\n",
      "2021-06-29 04:05:54.671974\n",
      "0:00:11.544875\n",
      "2021-06-29 04:05:54.672078\n",
      "2021-06-29 04:06:06.202099\n",
      "0:00:11.530021\n",
      "2021-06-29 04:06:06.202208\n",
      "2021-06-29 04:06:17.789931\n",
      "0:00:11.587723\n",
      "2021-06-29 04:06:17.790176\n",
      "2021-06-29 04:06:29.332677\n",
      "0:00:11.542501\n",
      "2021-06-29 04:06:29.332800\n",
      "2021-06-29 04:06:40.867528\n",
      "0:00:11.534728\n",
      "2021-06-29 04:06:40.867646\n",
      "2021-06-29 04:06:52.449880\n",
      "0:00:11.582234\n",
      "2021-06-29 04:06:52.450025\n",
      "2021-06-29 04:07:03.989294\n",
      "0:00:11.539269\n",
      "2021-06-29 04:07:03.989497\n",
      "2021-06-29 04:07:15.537544\n",
      "0:00:11.548047\n",
      "2021-06-29 04:07:15.537652\n",
      "2021-06-29 04:07:27.068904\n",
      "0:00:11.531252\n",
      "[datetime.timedelta(seconds=11, microseconds=618966), datetime.timedelta(seconds=11, microseconds=544875), datetime.timedelta(seconds=11, microseconds=530021), datetime.timedelta(seconds=11, microseconds=587723), datetime.timedelta(seconds=11, microseconds=542501), datetime.timedelta(seconds=11, microseconds=534728), datetime.timedelta(seconds=11, microseconds=582234), datetime.timedelta(seconds=11, microseconds=539269), datetime.timedelta(seconds=11, microseconds=548047), datetime.timedelta(seconds=11, microseconds=531252)]\n",
      "0:00:11.555962\n"
     ]
    }
   ],
   "source": [
    "train_time_svm = []\n",
    "for i in range(10):\n",
    "    start_time = datetime.datetime.now()\n",
    "    print(start_time)\n",
    "    clf_rbf.fit(X_train,Y_train)\n",
    "    current_time = datetime.datetime.now()\n",
    "    print(current_time)\n",
    "    train_time_svm.append(current_time-start_time)\n",
    "    print(current_time-start_time)\n",
    "    i = i+1\n",
    "print(train_time_svm)\n",
    "print(np.mean(train_time_svm))"
   ]
  },
  {
   "cell_type": "code",
   "execution_count": 22,
   "metadata": {},
   "outputs": [
    {
     "name": "stdout",
     "output_type": "stream",
     "text": [
      "2021-06-29 04:07:39.101917\n",
      "2021-06-29 04:07:42.430889\n",
      "0:00:03.328972\n",
      "2021-06-29 04:07:42.431050\n",
      "2021-06-29 04:07:45.790246\n",
      "0:00:03.359196\n",
      "2021-06-29 04:07:45.790348\n",
      "2021-06-29 04:07:49.114005\n",
      "0:00:03.323657\n",
      "2021-06-29 04:07:49.114058\n",
      "2021-06-29 04:07:52.431850\n",
      "0:00:03.317792\n",
      "2021-06-29 04:07:52.431901\n",
      "2021-06-29 04:07:55.748851\n",
      "0:00:03.316950\n",
      "2021-06-29 04:07:55.748902\n",
      "2021-06-29 04:07:59.066718\n",
      "0:00:03.317816\n",
      "2021-06-29 04:07:59.066768\n",
      "2021-06-29 04:08:02.386951\n",
      "0:00:03.320183\n",
      "2021-06-29 04:08:02.387189\n",
      "2021-06-29 04:08:05.710930\n",
      "0:00:03.323741\n",
      "2021-06-29 04:08:05.710981\n",
      "2021-06-29 04:08:09.027996\n",
      "0:00:03.317015\n",
      "2021-06-29 04:08:09.028046\n",
      "2021-06-29 04:08:12.350100\n",
      "0:00:03.322054\n",
      "[datetime.timedelta(seconds=3, microseconds=328972), datetime.timedelta(seconds=3, microseconds=359196), datetime.timedelta(seconds=3, microseconds=323657), datetime.timedelta(seconds=3, microseconds=317792), datetime.timedelta(seconds=3, microseconds=316950), datetime.timedelta(seconds=3, microseconds=317816), datetime.timedelta(seconds=3, microseconds=320183), datetime.timedelta(seconds=3, microseconds=323741), datetime.timedelta(seconds=3, microseconds=317015), datetime.timedelta(seconds=3, microseconds=322054)]\n",
      "0:00:03.324738\n"
     ]
    }
   ],
   "source": [
    "test_time_svm = []\n",
    "for i in range(10):\n",
    "    start_time = datetime.datetime.now()\n",
    "    print(start_time)\n",
    "    clf_rbf.predict(X_test)\n",
    "    current_time = datetime.datetime.now()\n",
    "    print(current_time)\n",
    "    test_time_svm.append(current_time-start_time)\n",
    "    print(current_time-start_time)\n",
    "    i = i+1\n",
    "print(test_time_svm)\n",
    "print(np.mean(test_time_svm))"
   ]
  }
 ],
 "metadata": {
  "kernelspec": {
   "display_name": "Python 3",
   "language": "python",
   "name": "python3"
  },
  "language_info": {
   "codemirror_mode": {
    "name": "ipython",
    "version": 3
   },
   "file_extension": ".py",
   "mimetype": "text/x-python",
   "name": "python",
   "nbconvert_exporter": "python",
   "pygments_lexer": "ipython3",
   "version": "3.7.10"
  }
 },
 "nbformat": 4,
 "nbformat_minor": 2
}
