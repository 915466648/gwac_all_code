{
 "cells": [
  {
   "cell_type": "markdown",
   "metadata": {},
   "source": [
    "https://scikit-learn.org/stable/modules/generated/sklearn.neighbors.KNeighborsClassifier.html\n",
    "https://www.jianshu.com/p/df868c254e4c"
   ]
  },
  {
   "cell_type": "code",
   "execution_count": 1,
   "metadata": {},
   "outputs": [],
   "source": [
    "from sklearn import preprocessing\n",
    "from numpy import loadtxt, sum, size, where, abs, average, std, ones,sign, sqrt, max, min, diff, sort, floor, array, concatenate\n",
    "import numpy as np\n",
    "from scipy import stats\n",
    "from os import listdir\n",
    "from sklearn.neighbors import KNeighborsClassifier\n",
    "from sklearn.metrics import classification_report\n",
    "import joblib\n",
    "import graphviz\n",
    "import datetime"
   ]
  },
  {
   "cell_type": "code",
   "execution_count": 2,
   "metadata": {},
   "outputs": [],
   "source": [
    "## 计算train和test的特征矩阵，\n",
    "train_0 = loadtxt('../../dataset/train_0.csv',dtype=str,delimiter = ',',encoding='utf-8-sig')\n",
    "# np.savetxt('./feature_train_0.txt', feature_train_0 ,fmt='%f',delimiter=',')\n",
    "train_1 = loadtxt('../../dataset/train_1.csv',dtype=str,delimiter = ',',encoding='utf-8-sig')\n",
    "# np.savetxt('./feature_train_1.txt', feature_train_1 ,fmt='%f',delimiter=',')\n",
    "test_1 = loadtxt('../../dataset/test_0.csv',dtype=str,delimiter = ',',encoding='utf-8-sig')\n",
    "# np.savetxt('./feature_test_1.txt', feature_test_1 ,fmt='%f',delimiter=',')\n",
    "test_0 = loadtxt('../../dataset/test_1.csv',dtype=str,delimiter = ',',encoding='utf-8-sig')\n",
    "# np.savetxt('./feature_test_0.txt', feature_test_0 ,fmt='%f',delimiter=',')\n",
    "train = concatenate((train_0,train_1))\n",
    "test = concatenate((test_0,test_1))\n",
    "np.random.shuffle(train)\n",
    "np.random.shuffle(test)"
   ]
  },
  {
   "cell_type": "code",
   "execution_count": 7,
   "metadata": {},
   "outputs": [],
   "source": [
    "X_train = train[:,0:30]\n",
    "Y_train = train[:,30].ravel()\n",
    "X_test = test[:,0:30]\n",
    "Y_test = test[:,30].ravel()"
   ]
  },
  {
   "cell_type": "code",
   "execution_count": 8,
   "metadata": {},
   "outputs": [
    {
     "name": "stdout",
     "output_type": "stream",
     "text": [
      "(38022, 30) (38022,) (9505, 30) (9505,)\n"
     ]
    }
   ],
   "source": [
    "print(X_train.shape,Y_train.shape,X_test.shape,Y_test.shape)    "
   ]
  },
  {
   "cell_type": "code",
   "execution_count": 23,
   "metadata": {
    "scrolled": true
   },
   "outputs": [
    {
     "name": "stdout",
     "output_type": "stream",
     "text": [
      "48858356.8870905\n",
      "48858357.22527222\n",
      "0.3381817266345024\n",
      "48858357.22532058\n"
     ]
    },
    {
     "name": "stderr",
     "output_type": "stream",
     "text": [
      "/home/wamdm/anaconda3/envs/pytorch18/lib/python3.7/site-packages/sklearn/utils/validation.py:63: FutureWarning: Arrays of bytes/strings is being converted to decimal numbers if dtype='numeric'. This behavior is deprecated in 0.24 and will be removed in 1.1 (renaming of 0.26). Please convert your data to numeric values explicitly instead.\n",
      "  return f(*args, **kwargs)\n",
      "/home/wamdm/anaconda3/envs/pytorch18/lib/python3.7/site-packages/sklearn/utils/validation.py:63: FutureWarning: Arrays of bytes/strings is being converted to decimal numbers if dtype='numeric'. This behavior is deprecated in 0.24 and will be removed in 1.1 (renaming of 0.26). Please convert your data to numeric values explicitly instead.\n",
      "  return f(*args, **kwargs)\n"
     ]
    },
    {
     "name": "stdout",
     "output_type": "stream",
     "text": [
      "48858357.54261342\n",
      "0.31729283928871155\n",
      "48858357.542666495\n",
      "48858357.85867057\n",
      "0.31600407510995865\n",
      "48858357.85871432\n"
     ]
    },
    {
     "name": "stderr",
     "output_type": "stream",
     "text": [
      "/home/wamdm/anaconda3/envs/pytorch18/lib/python3.7/site-packages/sklearn/utils/validation.py:63: FutureWarning: Arrays of bytes/strings is being converted to decimal numbers if dtype='numeric'. This behavior is deprecated in 0.24 and will be removed in 1.1 (renaming of 0.26). Please convert your data to numeric values explicitly instead.\n",
      "  return f(*args, **kwargs)\n",
      "/home/wamdm/anaconda3/envs/pytorch18/lib/python3.7/site-packages/sklearn/utils/validation.py:63: FutureWarning: Arrays of bytes/strings is being converted to decimal numbers if dtype='numeric'. This behavior is deprecated in 0.24 and will be removed in 1.1 (renaming of 0.26). Please convert your data to numeric values explicitly instead.\n",
      "  return f(*args, **kwargs)\n"
     ]
    },
    {
     "name": "stdout",
     "output_type": "stream",
     "text": [
      "48858358.171937056\n",
      "0.313222736120224\n",
      "48858358.17198789\n",
      "48858358.48947896\n",
      "0.3174910694360733\n",
      "48858358.4895231\n"
     ]
    },
    {
     "name": "stderr",
     "output_type": "stream",
     "text": [
      "/home/wamdm/anaconda3/envs/pytorch18/lib/python3.7/site-packages/sklearn/utils/validation.py:63: FutureWarning: Arrays of bytes/strings is being converted to decimal numbers if dtype='numeric'. This behavior is deprecated in 0.24 and will be removed in 1.1 (renaming of 0.26). Please convert your data to numeric values explicitly instead.\n",
      "  return f(*args, **kwargs)\n",
      "/home/wamdm/anaconda3/envs/pytorch18/lib/python3.7/site-packages/sklearn/utils/validation.py:63: FutureWarning: Arrays of bytes/strings is being converted to decimal numbers if dtype='numeric'. This behavior is deprecated in 0.24 and will be removed in 1.1 (renaming of 0.26). Please convert your data to numeric values explicitly instead.\n",
      "  return f(*args, **kwargs)\n"
     ]
    },
    {
     "name": "stdout",
     "output_type": "stream",
     "text": [
      "48858358.80430711\n",
      "0.31478401273489\n",
      "48858358.80435406\n",
      "48858359.12252983\n",
      "0.31817577034235\n",
      "48858359.12257269\n"
     ]
    },
    {
     "name": "stderr",
     "output_type": "stream",
     "text": [
      "/home/wamdm/anaconda3/envs/pytorch18/lib/python3.7/site-packages/sklearn/utils/validation.py:63: FutureWarning: Arrays of bytes/strings is being converted to decimal numbers if dtype='numeric'. This behavior is deprecated in 0.24 and will be removed in 1.1 (renaming of 0.26). Please convert your data to numeric values explicitly instead.\n",
      "  return f(*args, **kwargs)\n",
      "/home/wamdm/anaconda3/envs/pytorch18/lib/python3.7/site-packages/sklearn/utils/validation.py:63: FutureWarning: Arrays of bytes/strings is being converted to decimal numbers if dtype='numeric'. This behavior is deprecated in 0.24 and will be removed in 1.1 (renaming of 0.26). Please convert your data to numeric values explicitly instead.\n",
      "  return f(*args, **kwargs)\n"
     ]
    },
    {
     "name": "stdout",
     "output_type": "stream",
     "text": [
      "48858359.43851122\n",
      "0.3159385323524475\n",
      "48858359.4385625\n",
      "48858359.75519758\n",
      "0.3166350796818733\n",
      "48858359.75524063\n"
     ]
    },
    {
     "name": "stderr",
     "output_type": "stream",
     "text": [
      "/home/wamdm/anaconda3/envs/pytorch18/lib/python3.7/site-packages/sklearn/utils/validation.py:63: FutureWarning: Arrays of bytes/strings is being converted to decimal numbers if dtype='numeric'. This behavior is deprecated in 0.24 and will be removed in 1.1 (renaming of 0.26). Please convert your data to numeric values explicitly instead.\n",
      "  return f(*args, **kwargs)\n",
      "/home/wamdm/anaconda3/envs/pytorch18/lib/python3.7/site-packages/sklearn/utils/validation.py:63: FutureWarning: Arrays of bytes/strings is being converted to decimal numbers if dtype='numeric'. This behavior is deprecated in 0.24 and will be removed in 1.1 (renaming of 0.26). Please convert your data to numeric values explicitly instead.\n",
      "  return f(*args, **kwargs)\n"
     ]
    },
    {
     "name": "stdout",
     "output_type": "stream",
     "text": [
      "48858360.06868552\n",
      "0.3134448900818825\n",
      "[0.3381817266345024, 0.31729283928871155, 0.31600407510995865, 0.313222736120224, 0.3174910694360733, 0.31478401273489, 0.31817577034235, 0.3159385323524475, 0.3166350796818733, 0.3134448900818825]\n"
     ]
    }
   ],
   "source": [
    "from timeit import default_timer as timer\n",
    "knn = KNeighborsClassifier(n_neighbors = 3)\n",
    "train_time = []\n",
    "for i in range(10):\n",
    "    start_time = timer()\n",
    "    print(start_time)\n",
    "    knn.fit(X_train, Y_train)\n",
    "    current_time = timer()\n",
    "    print(current_time)\n",
    "    train_time.append(current_time-start_time)\n",
    "    print(current_time-start_time)\n",
    "    i = i+1\n",
    "print(train_time)"
   ]
  },
  {
   "cell_type": "code",
   "execution_count": 24,
   "metadata": {},
   "outputs": [
    {
     "data": {
      "text/plain": [
       "0.3181170731782913"
      ]
     },
     "execution_count": 24,
     "metadata": {},
     "output_type": "execute_result"
    }
   ],
   "source": [
    "np.mean(train_time)"
   ]
  },
  {
   "cell_type": "code",
   "execution_count": null,
   "metadata": {},
   "outputs": [],
   "source": [
    "score = knn.score(X_test, Y_test)\n",
    "print(score)"
   ]
  },
  {
   "cell_type": "code",
   "execution_count": 25,
   "metadata": {},
   "outputs": [
    {
     "name": "stdout",
     "output_type": "stream",
     "text": [
      "48858454.02299292\n"
     ]
    },
    {
     "name": "stderr",
     "output_type": "stream",
     "text": [
      "/home/wamdm/anaconda3/envs/pytorch18/lib/python3.7/site-packages/sklearn/utils/validation.py:63: FutureWarning: Arrays of bytes/strings is being converted to decimal numbers if dtype='numeric'. This behavior is deprecated in 0.24 and will be removed in 1.1 (renaming of 0.26). Please convert your data to numeric values explicitly instead.\n",
      "  return f(*args, **kwargs)\n"
     ]
    },
    {
     "name": "stdout",
     "output_type": "stream",
     "text": [
      "48858458.8635383\n",
      "4.8405453860759735\n",
      "48858458.86364662\n"
     ]
    },
    {
     "name": "stderr",
     "output_type": "stream",
     "text": [
      "/home/wamdm/anaconda3/envs/pytorch18/lib/python3.7/site-packages/sklearn/utils/validation.py:63: FutureWarning: Arrays of bytes/strings is being converted to decimal numbers if dtype='numeric'. This behavior is deprecated in 0.24 and will be removed in 1.1 (renaming of 0.26). Please convert your data to numeric values explicitly instead.\n",
      "  return f(*args, **kwargs)\n"
     ]
    },
    {
     "name": "stdout",
     "output_type": "stream",
     "text": [
      "48858463.88699586\n",
      "5.023349240422249\n",
      "48858463.8871755\n"
     ]
    },
    {
     "name": "stderr",
     "output_type": "stream",
     "text": [
      "/home/wamdm/anaconda3/envs/pytorch18/lib/python3.7/site-packages/sklearn/utils/validation.py:63: FutureWarning: Arrays of bytes/strings is being converted to decimal numbers if dtype='numeric'. This behavior is deprecated in 0.24 and will be removed in 1.1 (renaming of 0.26). Please convert your data to numeric values explicitly instead.\n",
      "  return f(*args, **kwargs)\n"
     ]
    },
    {
     "name": "stdout",
     "output_type": "stream",
     "text": [
      "48858468.97220133\n",
      "5.085025832056999\n",
      "48858468.972388595\n"
     ]
    },
    {
     "name": "stderr",
     "output_type": "stream",
     "text": [
      "/home/wamdm/anaconda3/envs/pytorch18/lib/python3.7/site-packages/sklearn/utils/validation.py:63: FutureWarning: Arrays of bytes/strings is being converted to decimal numbers if dtype='numeric'. This behavior is deprecated in 0.24 and will be removed in 1.1 (renaming of 0.26). Please convert your data to numeric values explicitly instead.\n",
      "  return f(*args, **kwargs)\n"
     ]
    },
    {
     "name": "stdout",
     "output_type": "stream",
     "text": [
      "48858473.90252252\n",
      "4.9301339238882065\n",
      "48858473.90272528\n"
     ]
    },
    {
     "name": "stderr",
     "output_type": "stream",
     "text": [
      "/home/wamdm/anaconda3/envs/pytorch18/lib/python3.7/site-packages/sklearn/utils/validation.py:63: FutureWarning: Arrays of bytes/strings is being converted to decimal numbers if dtype='numeric'. This behavior is deprecated in 0.24 and will be removed in 1.1 (renaming of 0.26). Please convert your data to numeric values explicitly instead.\n",
      "  return f(*args, **kwargs)\n"
     ]
    },
    {
     "name": "stdout",
     "output_type": "stream",
     "text": [
      "48858478.792969674\n",
      "4.890244394540787\n",
      "48858478.79306474\n"
     ]
    },
    {
     "name": "stderr",
     "output_type": "stream",
     "text": [
      "/home/wamdm/anaconda3/envs/pytorch18/lib/python3.7/site-packages/sklearn/utils/validation.py:63: FutureWarning: Arrays of bytes/strings is being converted to decimal numbers if dtype='numeric'. This behavior is deprecated in 0.24 and will be removed in 1.1 (renaming of 0.26). Please convert your data to numeric values explicitly instead.\n",
      "  return f(*args, **kwargs)\n"
     ]
    },
    {
     "name": "stdout",
     "output_type": "stream",
     "text": [
      "48858483.82745869\n",
      "5.034393943846226\n",
      "48858483.827651694\n"
     ]
    },
    {
     "name": "stderr",
     "output_type": "stream",
     "text": [
      "/home/wamdm/anaconda3/envs/pytorch18/lib/python3.7/site-packages/sklearn/utils/validation.py:63: FutureWarning: Arrays of bytes/strings is being converted to decimal numbers if dtype='numeric'. This behavior is deprecated in 0.24 and will be removed in 1.1 (renaming of 0.26). Please convert your data to numeric values explicitly instead.\n",
      "  return f(*args, **kwargs)\n"
     ]
    },
    {
     "name": "stdout",
     "output_type": "stream",
     "text": [
      "48858488.8001586\n",
      "4.972506903111935\n",
      "48858488.80025314\n"
     ]
    },
    {
     "name": "stderr",
     "output_type": "stream",
     "text": [
      "/home/wamdm/anaconda3/envs/pytorch18/lib/python3.7/site-packages/sklearn/utils/validation.py:63: FutureWarning: Arrays of bytes/strings is being converted to decimal numbers if dtype='numeric'. This behavior is deprecated in 0.24 and will be removed in 1.1 (renaming of 0.26). Please convert your data to numeric values explicitly instead.\n",
      "  return f(*args, **kwargs)\n"
     ]
    },
    {
     "name": "stdout",
     "output_type": "stream",
     "text": [
      "48858493.83457601\n",
      "5.034322872757912\n",
      "48858493.83467273\n"
     ]
    },
    {
     "name": "stderr",
     "output_type": "stream",
     "text": [
      "/home/wamdm/anaconda3/envs/pytorch18/lib/python3.7/site-packages/sklearn/utils/validation.py:63: FutureWarning: Arrays of bytes/strings is being converted to decimal numbers if dtype='numeric'. This behavior is deprecated in 0.24 and will be removed in 1.1 (renaming of 0.26). Please convert your data to numeric values explicitly instead.\n",
      "  return f(*args, **kwargs)\n"
     ]
    },
    {
     "name": "stdout",
     "output_type": "stream",
     "text": [
      "48858498.88481648\n",
      "5.050143755972385\n",
      "48858498.88494427\n"
     ]
    },
    {
     "name": "stderr",
     "output_type": "stream",
     "text": [
      "/home/wamdm/anaconda3/envs/pytorch18/lib/python3.7/site-packages/sklearn/utils/validation.py:63: FutureWarning: Arrays of bytes/strings is being converted to decimal numbers if dtype='numeric'. This behavior is deprecated in 0.24 and will be removed in 1.1 (renaming of 0.26). Please convert your data to numeric values explicitly instead.\n",
      "  return f(*args, **kwargs)\n"
     ]
    },
    {
     "name": "stdout",
     "output_type": "stream",
     "text": [
      "48858503.80538674\n",
      "4.920442469418049\n",
      "[4.8405453860759735, 5.023349240422249, 5.085025832056999, 4.9301339238882065, 4.890244394540787, 5.034393943846226, 4.972506903111935, 5.034322872757912, 5.050143755972385, 4.920442469418049]\n",
      "4.978110872209072\n"
     ]
    }
   ],
   "source": [
    "test_time = []\n",
    "for i in range(10):\n",
    "    start_time = timer()\n",
    "    print(start_time)\n",
    "    knn.predict(X_test)\n",
    "    current_time = timer()\n",
    "    print(current_time)\n",
    "    test_time.append(current_time-start_time)\n",
    "    print(current_time-start_time)\n",
    "    i = i+1\n",
    "print(test_time)\n",
    "print(np.mean(test_time))"
   ]
  },
  {
   "cell_type": "code",
   "execution_count": 10,
   "metadata": {
    "scrolled": true
   },
   "outputs": [
    {
     "name": "stderr",
     "output_type": "stream",
     "text": [
      "/home/wamdm/anaconda3/envs/pytorch18/lib/python3.7/site-packages/sklearn/utils/validation.py:63: FutureWarning: Arrays of bytes/strings is being converted to decimal numbers if dtype='numeric'. This behavior is deprecated in 0.24 and will be removed in 1.1 (renaming of 0.26). Please convert your data to numeric values explicitly instead.\n",
      "  return f(*args, **kwargs)\n"
     ]
    },
    {
     "name": "stdout",
     "output_type": "stream",
     "text": [
      "              precision    recall  f1-score   support\n",
      "\n",
      "           0     1.0000    0.9907    0.9953      6872\n",
      "           1     0.9763    1.0000    0.9880      2633\n",
      "\n",
      "    accuracy                         0.9933      9505\n",
      "   macro avg     0.9881    0.9953    0.9917      9505\n",
      "weighted avg     0.9934    0.9933    0.9933      9505\n",
      "\n"
     ]
    }
   ],
   "source": [
    "print(classification_report(Y_test,knn.predict(X_test),digits=4))"
   ]
  },
  {
   "cell_type": "markdown",
   "metadata": {},
   "source": [
    "## 支持向量机模型"
   ]
  },
  {
   "cell_type": "markdown",
   "metadata": {},
   "source": [
    "https://www.jianshu.com/p/a9f9954355b3\n",
    "\n",
    "https://blog.csdn.net/moriarty_jack/article/details/108432867"
   ]
  },
  {
   "cell_type": "code",
   "execution_count": 11,
   "metadata": {
    "scrolled": false
   },
   "outputs": [
    {
     "name": "stdout",
     "output_type": "stream",
     "text": [
      "The score of rbf is : 0.989584\n",
      "The score of linear is : 0.901526\n",
      "The score of poly is : 0.981799\n",
      "The score of sigmoid is : 0.836402\n"
     ]
    }
   ],
   "source": [
    "from sklearn import svm\n",
    "\n",
    "# kernel = 'rbf'\n",
    "clf_rbf = svm.SVC(kernel='rbf')\n",
    "clf_rbf.fit(X_train,Y_train)\n",
    "score_rbf = clf_rbf.score(X_test,Y_test)\n",
    "print(\"The score of rbf is : %f\"%score_rbf)\n",
    "\n",
    "# kernel = 'linear'\n",
    "clf_linear = svm.SVC(kernel='linear')\n",
    "clf_linear.fit(X_train,Y_train)\n",
    "score_linear = clf_linear.score(X_test,Y_test)\n",
    "print(\"The score of linear is : %f\"%score_linear)\n",
    "\n",
    "# kernel = 'poly'\n",
    "clf_poly = svm.SVC(kernel='poly')\n",
    "clf_poly.fit(X_train,Y_train)\n",
    "score_poly = clf_poly.score(X_test,Y_test)\n",
    "print(\"The score of poly is : %f\"%score_poly)\n",
    "\n",
    "# kernel = 'sigmoid'\n",
    "clf_sigmoid = svm.SVC(kernel='sigmoid')\n",
    "clf_sigmoid.fit(X_train,Y_train)\n",
    "score_sigmoid = clf_sigmoid.score(X_test,Y_test)\n",
    "print(\"The score of sigmoid is : %f\"%score_sigmoid)"
   ]
  },
  {
   "cell_type": "code",
   "execution_count": 12,
   "metadata": {
    "scrolled": false
   },
   "outputs": [
    {
     "name": "stdout",
     "output_type": "stream",
     "text": [
      "              precision    recall  f1-score   support\n",
      "\n",
      "           0     0.9982    0.9873    0.9928      6872\n",
      "           1     0.9679    0.9954    0.9815      2633\n",
      "\n",
      "    accuracy                         0.9896      9505\n",
      "   macro avg     0.9831    0.9914    0.9871      9505\n",
      "weighted avg     0.9898    0.9896    0.9896      9505\n",
      "\n"
     ]
    }
   ],
   "source": [
    "print(classification_report(Y_test, clf_rbf.predict(X_test),digits=4))"
   ]
  },
  {
   "cell_type": "code",
   "execution_count": 26,
   "metadata": {
    "scrolled": true
   },
   "outputs": [
    {
     "name": "stdout",
     "output_type": "stream",
     "text": [
      "48858557.17333178\n",
      "48858568.74178873\n",
      "11.568456947803497\n",
      "48858568.74198392\n",
      "48858580.30359644\n",
      "11.561612516641617\n",
      "48858580.30369209\n",
      "48858591.879099324\n",
      "11.575407236814499\n",
      "48858591.87932045\n",
      "48858603.43486056\n",
      "11.555540107190609\n",
      "48858603.43495641\n",
      "48858614.97670372\n",
      "11.541747309267521\n",
      "48858614.97680109\n",
      "48858626.55717328\n",
      "11.58037219196558\n",
      "48858626.557395235\n",
      "48858638.10847033\n",
      "11.551075093448162\n",
      "48858638.10856834\n",
      "48858649.64718425\n",
      "11.53861591219902\n",
      "48858649.647281736\n",
      "48858661.236797325\n",
      "11.589515589177608\n",
      "48858661.23702499\n",
      "48858672.79343702\n",
      "11.556412026286125\n",
      "[11.568456947803497, 11.561612516641617, 11.575407236814499, 11.555540107190609, 11.541747309267521, 11.58037219196558, 11.551075093448162, 11.53861591219902, 11.589515589177608, 11.556412026286125]\n",
      "11.561875493079423\n"
     ]
    }
   ],
   "source": [
    "train_time_svm = []\n",
    "for i in range(10):\n",
    "    start_time = timer()\n",
    "    print(start_time)\n",
    "    clf_rbf.fit(X_train,Y_train)\n",
    "    current_time = timer()\n",
    "    print(current_time)\n",
    "    train_time_svm.append(current_time-start_time)\n",
    "    print(current_time-start_time)\n",
    "    i = i+1\n",
    "print(train_time_svm)\n",
    "print(np.mean(train_time_svm))"
   ]
  },
  {
   "cell_type": "code",
   "execution_count": 27,
   "metadata": {},
   "outputs": [
    {
     "name": "stdout",
     "output_type": "stream",
     "text": [
      "48858965.31510272\n",
      "48858968.64553489\n",
      "3.3304321691393852\n",
      "48858968.64558166\n",
      "48858971.96715815\n",
      "3.321576490998268\n",
      "48858971.96730163\n",
      "48858975.29189945\n",
      "3.3245978206396103\n",
      "48858975.291944325\n",
      "48858978.61156446\n",
      "3.319620132446289\n",
      "48858978.6116451\n",
      "48858981.935019\n",
      "3.3233738988637924\n",
      "48858981.93506405\n",
      "48858985.25392606\n",
      "3.3188620135188103\n",
      "48858985.25397089\n",
      "48858988.589283675\n",
      "3.335312783718109\n",
      "48858988.58932883\n",
      "48858991.90823664\n",
      "3.318907804787159\n",
      "48858991.90828057\n",
      "48858995.22653297\n",
      "3.31825240701437\n",
      "48858995.226578526\n",
      "48858998.550707966\n",
      "3.3241294398903847\n",
      "[3.3304321691393852, 3.321576490998268, 3.3245978206396103, 3.319620132446289, 3.3233738988637924, 3.3188620135188103, 3.335312783718109, 3.318907804787159, 3.31825240701437, 3.3241294398903847]\n",
      "3.3235064961016176\n"
     ]
    }
   ],
   "source": [
    "test_time_svm = []\n",
    "for i in range(10):\n",
    "    start_time = timer()\n",
    "    print(start_time)\n",
    "    clf_rbf.predict(X_test)\n",
    "    current_time = timer()\n",
    "    print(current_time)\n",
    "    test_time_svm.append(current_time-start_time)\n",
    "    print(current_time-start_time)\n",
    "    i = i+1\n",
    "print(test_time_svm)\n",
    "print(np.mean(test_time_svm))"
   ]
  }
 ],
 "metadata": {
  "kernelspec": {
   "display_name": "Python 3",
   "language": "python",
   "name": "python3"
  },
  "language_info": {
   "codemirror_mode": {
    "name": "ipython",
    "version": 3
   },
   "file_extension": ".py",
   "mimetype": "text/x-python",
   "name": "python",
   "nbconvert_exporter": "python",
   "pygments_lexer": "ipython3",
   "version": "3.7.10"
  }
 },
 "nbformat": 4,
 "nbformat_minor": 2
}
